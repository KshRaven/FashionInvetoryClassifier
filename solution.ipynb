{
 "cells": [
  {
   "cell_type": "markdown",
   "metadata": {
    "id": "e0n49UaWPGAd",
    "pycharm": {
     "name": "#%% md\n"
    }
   },
   "source": [
    "# Solving Business Problems with AI\n",
    "\n",
    "## Objective\n",
    "Develop a proof-of-concept application to intelligently process email order requests and customer inquiries for a fashion store. The system should accurately categorize emails as either product inquiries or order requests and generate appropriate responses using the product catalog information and current stock status.\n",
    "\n",
    "## Task Description\n",
    "\n",
    "### Inputs\n",
    "\n",
    "Google Spreadsheet **[Document](https://docs.google.com/spreadsheets/d/14fKHsblfqZfWj3iAaM2oA51TlYfQlFT4WKo52fVaQ9U)** containing:\n",
    "\n",
    "- **Products**: List of products with fields including product ID, name, category, stock amount, detailed description, and season.\n",
    "\n",
    "- **Emails**: Sequential list of emails with fields such as email ID, subject, and body.\n",
    "\n",
    "### Instructions\n",
    "\n",
    "- Implement all requirements using advanced Large Language Models (LLMs) to handle complex tasks, process extensive data, and generate accurate outputs effectively.\n",
    "- Use Retrieval-Augmented Generation (RAG) and vector store techniques where applicable to retrieve relevant information and generate responses.\n",
    "- You are provided with a temporary OpenAI API key granting access to GPT-4o, which has a token quota. Use it wisely or use your own key if preferred.\n",
    "- Address the requirements in the order listed. Review them in advance to develop a general implementation plan before starting.\n",
    "- Your deliverables should include:\n",
    "   - Code developed within this notebook.\n",
    "   - A single spreadsheet containing results, organized across separate sheets.\n",
    "   - Comments detailing your thought process.\n",
    "- You may use additional libraries (e.g., langchain) to streamline the solution. Use libraries appropriately to align with best practices for AI and LLM tools.\n",
    "- Use the most suitable AI techniques for each task. Note that solving tasks with traditional programming methods will not earn points, as this assessment evaluates your knowledge of LLM tools and best practices.\n",
    "\n",
    "### Requirements\n",
    "\n",
    "#### 1. Classify emails\n",
    "    \n",
    "Classify each email as either a _**\"product inquiry\"**_ or an _**\"order request\"**_. Ensure that the classification accurately reflects the intent of the email.\n",
    "\n",
    "**Output**: Populate the **email-classification** sheet with columns: email ID, category.\n",
    "\n",
    "#### 2. Process order requests\n",
    "1.   Process orders\n",
    "  - For each order request, verify product availability in stock.\n",
    "  - If the order can be fulfilled, create a new order line with the status “created”.\n",
    "  - If the order cannot be fulfilled due to insufficient stock, create a line with the status “out of stock” and include the requested quantity.\n",
    "  - Update stock levels after processing each order.\n",
    "  - Record each product request from the email.\n",
    "  - **Output**: Populate the **order-status** sheet with columns: email ID, product ID, quantity, status (**_\"created\"_**, **_\"out of stock\"_**).\n",
    "\n",
    "2.   Generate responses\n",
    "  - Create response emails based on the order processing results:\n",
    "      - If the order is fully processed, inform the customer and provide product details.\n",
    "      - If the order cannot be fulfilled or is only partially fulfilled, explain the situation, specify the out-of-stock items, and suggest alternatives or options (e.g., waiting for restock).\n",
    "  - Ensure the email tone is professional and production-ready.\n",
    "  - **Output**: Populate the **order-response** sheet with columns: email ID, response.\n",
    "\n",
    "#### 3. Handle product inquiry\n",
    "\n",
    "Customers may ask general open questions.\n",
    "  - Respond to product inquiries using relevant information from the product catalog.\n",
    "  - Ensure your solution scales to handle a full catalog of over 100,000 products without exceeding token limits. Avoid including the entire catalog in the prompt.\n",
    "  - **Output**: Populate the **inquiry-response** sheet with columns: email ID, response.\n",
    "\n",
    "## Evaluation Criteria\n",
    "- **Advanced AI Techniques**: The system should use Retrieval-Augmented Generation (RAG) and vector store techniques to retrieve relevant information from data sources and use it to respond to customer inquiries.\n",
    "- **Tone Adaptation**: The AI should adapt its tone appropriately based on the context of the customer's inquiry. Responses should be informative and enhance the customer experience.\n",
    "- **Code Completeness**: All functionalities outlined in the requirements must be fully implemented and operational as described.\n",
    "- **Code Quality and Clarity**: The code should be well-organized, with clear logic and a structured approach. It should be easy to understand and maintain.\n",
    "- **Presence of Expected Outputs**: All specified outputs must be correctly generated and saved in the appropriate sheets of the output spreadsheet. Ensure the format of each output matches the requirements—do not add extra columns or sheets.\n",
    "- **Accuracy of Outputs**: The accuracy of the generated outputs is crucial and will significantly impact the evaluation of your submission.\n",
    "\n",
    "We look forward to seeing your solution and your approach to solving real-world problems with AI technologies."
   ]
  },
  {
   "cell_type": "markdown",
   "metadata": {
    "id": "GOUEcKe-xSPr",
    "pycharm": {
     "name": "#%% md\n"
    }
   },
   "source": [
    "# Prerequisites"
   ]
  },
  {
   "cell_type": "code",
   "execution_count": 48,
   "outputs": [
    {
     "name": "stdout",
     "output_type": "stream",
     "text": [
      "Looking in indexes: https://pypi.org/simple, https://pypi.ngc.nvidia.com\n",
      "Requirement already satisfied: openai in c:\\python3.11\\lib\\site-packages (1.51.0)\n",
      "Requirement already satisfied: pandas<2.2.3 in c:\\python3.11\\lib\\site-packages (2.2.2)\n",
      "Requirement already satisfied: openpyxl in c:\\python3.11\\lib\\site-packages (3.1.5)\n",
      "Requirement already satisfied: anyio<5,>=3.5.0 in c:\\python3.11\\lib\\site-packages (from openai) (4.4.0)\n",
      "Requirement already satisfied: distro<2,>=1.7.0 in c:\\python3.11\\lib\\site-packages (from openai) (1.9.0)\n",
      "Requirement already satisfied: httpx<1,>=0.23.0 in c:\\python3.11\\lib\\site-packages (from openai) (0.27.0)\n",
      "Requirement already satisfied: jiter<1,>=0.4.0 in c:\\python3.11\\lib\\site-packages (from openai) (0.5.0)\n",
      "Requirement already satisfied: pydantic<3,>=1.9.0 in c:\\python3.11\\lib\\site-packages (from openai) (2.9.2)\n",
      "Requirement already satisfied: sniffio in c:\\python3.11\\lib\\site-packages (from openai) (1.3.1)\n",
      "Requirement already satisfied: tqdm>4 in c:\\python3.11\\lib\\site-packages (from openai) (4.66.5)\n",
      "Requirement already satisfied: typing-extensions<5,>=4.11 in c:\\python3.11\\lib\\site-packages (from openai) (4.12.2)\n",
      "Requirement already satisfied: numpy>=1.23.2 in c:\\python3.11\\lib\\site-packages (from pandas<2.2.3) (1.26.4)\n",
      "Requirement already satisfied: python-dateutil>=2.8.2 in c:\\python3.11\\lib\\site-packages (from pandas<2.2.3) (2.9.0.post0)\n",
      "Requirement already satisfied: pytz>=2020.1 in c:\\python3.11\\lib\\site-packages (from pandas<2.2.3) (2024.1)\n",
      "Requirement already satisfied: tzdata>=2022.7 in c:\\python3.11\\lib\\site-packages (from pandas<2.2.3) (2024.1)\n",
      "Requirement already satisfied: et-xmlfile in c:\\python3.11\\lib\\site-packages (from openpyxl) (1.1.0)\n",
      "Requirement already satisfied: idna>=2.8 in c:\\python3.11\\lib\\site-packages (from anyio<5,>=3.5.0->openai) (3.7)\n",
      "Requirement already satisfied: certifi in c:\\python3.11\\lib\\site-packages (from httpx<1,>=0.23.0->openai) (2024.7.4)\n",
      "Requirement already satisfied: httpcore==1.* in c:\\python3.11\\lib\\site-packages (from httpx<1,>=0.23.0->openai) (1.0.5)\n",
      "Requirement already satisfied: h11<0.15,>=0.13 in c:\\python3.11\\lib\\site-packages (from httpcore==1.*->httpx<1,>=0.23.0->openai) (0.14.0)\n",
      "Requirement already satisfied: annotated-types>=0.6.0 in c:\\python3.11\\lib\\site-packages (from pydantic<3,>=1.9.0->openai) (0.7.0)\n",
      "Requirement already satisfied: pydantic-core==2.23.4 in c:\\python3.11\\lib\\site-packages (from pydantic<3,>=1.9.0->openai) (2.23.4)\n",
      "Requirement already satisfied: six>=1.5 in c:\\python3.11\\lib\\site-packages (from python-dateutil>=2.8.2->pandas<2.2.3) (1.16.0)\n",
      "Requirement already satisfied: colorama in c:\\python3.11\\lib\\site-packages (from tqdm>4->openai) (0.4.6)\n",
      "Note: you may need to restart the kernel to use updated packages.\n"
     ]
    }
   ],
   "source": [
    "# # Install the OpenAI Python package.\n",
    "%pip install -U openai \"pandas<2.2.3\" openpyxl\n"
   ],
   "metadata": {
    "collapsed": false,
    "pycharm": {
     "name": "#%%\n"
    }
   }
  },
  {
   "cell_type": "code",
   "execution_count": 205,
   "outputs": [],
   "source": [
    "# IMPORTS\n",
    "from IPython.display import display\n",
    "from openpyxl import load_workbook, Workbook\n",
    "from typing import Union\n",
    "from enum import Enum\n",
    "from openai import OpenAI\n",
    "\n",
    "import os\n",
    "import pandas as pd\n",
    "import time as clock\n",
    "import re\n",
    "import random\n",
    "import requests"
   ],
   "metadata": {
    "collapsed": false,
    "pycharm": {
     "name": "#%%\n"
    }
   }
  },
  {
   "cell_type": "markdown",
   "source": [
    "### Configure OpenAI API Key."
   ],
   "metadata": {
    "collapsed": false,
    "pycharm": {
     "name": "#%% md\n"
    }
   }
  },
  {
   "cell_type": "markdown",
   "source": [
    "**IMPORTANT: If you are going to use our custom API Key then make sure that you also use custom base URL as in example below. Otherwise it will not work.**"
   ],
   "metadata": {
    "collapsed": false,
    "pycharm": {
     "name": "#%% md\n"
    }
   }
  },
  {
   "cell_type": "code",
   "execution_count": 89,
   "outputs": [
    {
     "name": "stdout",
     "output_type": "stream",
     "text": [
      "ChatCompletionMessage(content='Hi there! How can I help you today?', refusal=None, role='assistant', function_call=None, tool_calls=None)\n"
     ]
    }
   ],
   "source": [
    "# Code example of OpenAI communication\n",
    "\n",
    "client = OpenAI(\n",
    "    # In order to use provided API key, make sure that models you create point to this custom base URL.\n",
    "    base_url='https://47v4us7kyypinfb5lcligtc3x40ygqbs.lambda-url.us-east-1.on.aws/v1/',\n",
    "    # The temporary API key giving access to ChatGPT 4o model. Quotas apply: you have 500'000 input and 500'000 output tokens, use them wisely ;)\n",
    "    api_key='a0BIj000001iX7PMAU'\n",
    ")\n",
    "\n",
    "completion = client.chat.completions.create(\n",
    "  model=\"gpt-4o\",\n",
    "  messages=[\n",
    "    {\"role\": \"user\", \"content\": \"Hello!\"}\n",
    "  ]\n",
    ")\n",
    "\n",
    "print(completion.choices[0].message)"
   ],
   "metadata": {
    "collapsed": false,
    "pycharm": {
     "name": "#%%\n"
    }
   }
  },
  {
   "cell_type": "code",
   "execution_count": 223,
   "outputs": [],
   "source": [
    "class Spreadsheet(object):\n",
    "    def __init__(self, filename: str = None):\n",
    "        if filename is None:\n",
    "            filename = \"source.xlsx\"\n",
    "        self.filename: str = f\"{os.getcwd()}\\\\{filename}\"\n",
    "        # Load the workbook if it exists, otherwise create a new one\n",
    "        try:\n",
    "            self.workbook = load_workbook(self.filename)\n",
    "        except FileNotFoundError:\n",
    "            self.workbook = Workbook()\n",
    "            self.workbook.save(self.filename)\n",
    "        self.worksheets = self.workbook.sheetnames  # List of worksheet names\n",
    "\n",
    "    # List all available worksheets\n",
    "    def list_worksheets(self):\n",
    "        return self.workbook.sheetnames\n",
    "\n",
    "    # Adds a new worksheet with given columns\n",
    "    def add_worksheet(self, sheet_name: str, columns: list[str]):\n",
    "        if sheet_name in self.workbook.sheetnames:\n",
    "            raise ValueError(f\"Worksheet '{sheet_name}' already exists\")\n",
    "        ws = self.workbook.create_sheet(title=sheet_name)\n",
    "        ws.append(columns)  # Add columns as the first row\n",
    "        self.workbook.save(self.filename)\n",
    "\n",
    "    # Deletes a worksheet\n",
    "    def del_worksheet(self, sheet_name: str):\n",
    "        if sheet_name not in self.workbook.sheetnames:\n",
    "            print(f\"Worksheet '{sheet_name}' does not exist\")\n",
    "        else:\n",
    "            del self.workbook[sheet_name]\n",
    "        self.workbook.save(self.filename)\n",
    "\n",
    "    # Adds a record to the given worksheet\n",
    "    def add_record(self, sheet_name: str, record: tuple):\n",
    "        if sheet_name not in self.workbook.sheetnames:\n",
    "            raise ValueError(f\"Worksheet '{sheet_name}' does not exist\")\n",
    "\n",
    "        ws = self.workbook[sheet_name]\n",
    "\n",
    "        # Check if the record exists (assuming the first element of the record is the unique key)\n",
    "        record_key = record[0]  # Assuming the first element is the unique identifier\n",
    "        found = False\n",
    "\n",
    "        for row in ws.iter_rows(min_row=2, values_only=False):  # Assuming first row contains headers\n",
    "            if row[0].value == record_key:\n",
    "                found = True\n",
    "                for i, cell in enumerate(row):\n",
    "                    cell.value = record[i]  # Overwrite with the new record values\n",
    "                break\n",
    "\n",
    "        if not found:\n",
    "            ws.append(record)  # Append as a new record if no matching record is found\n",
    "\n",
    "        self.workbook.save(self.filename)\n",
    "\n",
    "    # Deletes a record from the given worksheet based on the row index (1-based index)\n",
    "    def del_record(self, sheet_name: str, record_index: int):\n",
    "        if sheet_name not in self.workbook.sheetnames:\n",
    "            raise ValueError(f\"Worksheet '{sheet_name}' does not exist\")\n",
    "        ws = self.workbook[sheet_name]\n",
    "        ws.delete_rows(record_index)  # Delete the row at the specified index\n",
    "        self.workbook.save(self.filename)\n",
    "\n",
    "    # Returns all worksheets (or selected ones) as a dictionary of pandas DataFrames\n",
    "    def as_dataframe(self, worksheets=None):\n",
    "        if worksheets is None:\n",
    "            worksheets = self.workbook.sheetnames\n",
    "        dfs = {}\n",
    "        for sheet in worksheets:\n",
    "            if sheet not in self.workbook.sheetnames:\n",
    "                raise ValueError(f\"Worksheet '{sheet}' does not exist\")\n",
    "            ws = self.workbook[sheet]\n",
    "            data = ws.values\n",
    "            columns = next(data)  # First row is the columns\n",
    "            df = pd.DataFrame(data, columns=columns)\n",
    "            dfs[sheet] = df\n",
    "        return dfs"
   ],
   "metadata": {
    "collapsed": false,
    "pycharm": {
     "name": "#%%\n"
    }
   }
  },
  {
   "cell_type": "code",
   "execution_count": 224,
   "outputs": [
    {
     "data": {
      "text/plain": "'D:\\\\Python Projects\\\\FashionInvetoryClassifier\\\\spreadsheet.xlsx'"
     },
     "metadata": {},
     "output_type": "display_data"
    }
   ],
   "source": [
    "DOC_ID = '14fKHsblfqZfWj3iAaM2oA51TlYfQlFT4WKo52fVaQ9U'\n",
    "LINK = f\"https://docs.google.com/spreadsheets/d/{DOC_ID}/export?format=xlsx\"\n",
    "resp = requests.get(LINK)\n",
    "FILEPATH = os.getcwd() + f\"\\\\spreadsheet.xlsx\"\n",
    "display(FILEPATH)\n",
    "while not os.path.exists(FILEPATH):\n",
    "    with open(FILEPATH, 'wb') as file:\n",
    "        file.write(resp.content)"
   ],
   "metadata": {
    "collapsed": false,
    "pycharm": {
     "name": "#%%\n"
    }
   }
  },
  {
   "cell_type": "code",
   "execution_count": 225,
   "outputs": [],
   "source": [
    "spreadsheet = Spreadsheet(\"spreadsheet.xlsx\")"
   ],
   "metadata": {
    "collapsed": false,
    "pycharm": {
     "name": "#%%\n"
    }
   }
  },
  {
   "cell_type": "code",
   "execution_count": 227,
   "outputs": [],
   "source": [
    "spreadsheet.del_worksheet('email-classification')\n",
    "spreadsheet.del_worksheet('order-status')\n",
    "spreadsheet.del_worksheet('order-response')\n",
    "spreadsheet.del_worksheet('inquiry-response')\n",
    "spreadsheet.add_worksheet('email-classification', ['Request ID', 'Email ID', 'Category'])\n",
    "spreadsheet.add_worksheet('order-status', ['Request ID', 'Email ID', 'Product ID', 'Quantity', 'Status'])\n",
    "spreadsheet.add_worksheet('order-response', ['Request ID', 'Email ID', 'Response'])\n",
    "spreadsheet.add_worksheet('inquiry-response', ['Request ID', 'Email ID', 'Response'])"
   ],
   "metadata": {
    "collapsed": false,
    "pycharm": {
     "name": "#%%\n"
    }
   }
  },
  {
   "cell_type": "code",
   "execution_count": 229,
   "outputs": [
    {
     "data": {
      "text/plain": "Empty DataFrame\nColumns: [Request ID, Email ID, Response]\nIndex: []",
      "text/html": "<div>\n<style scoped>\n    .dataframe tbody tr th:only-of-type {\n        vertical-align: middle;\n    }\n\n    .dataframe tbody tr th {\n        vertical-align: top;\n    }\n\n    .dataframe thead th {\n        text-align: right;\n    }\n</style>\n<table border=\"1\" class=\"dataframe\">\n  <thead>\n    <tr style=\"text-align: right;\">\n      <th></th>\n      <th>Request ID</th>\n      <th>Email ID</th>\n      <th>Response</th>\n    </tr>\n  </thead>\n  <tbody>\n  </tbody>\n</table>\n</div>"
     },
     "execution_count": 229,
     "metadata": {},
     "output_type": "execute_result"
    }
   ],
   "source": [
    "spreadsheet.as_dataframe()['inquiry-response']"
   ],
   "metadata": {
    "collapsed": false,
    "pycharm": {
     "name": "#%%\n"
    }
   }
  },
  {
   "cell_type": "code",
   "execution_count": 230,
   "outputs": [
    {
     "data": {
      "text/plain": "  product_id              name     category  \\\n0    RSG8901  Retro Sunglasses  Accessories   \n1    SWL2345      Sleek Wallet  Accessories   \n2    VSC6789   Versatile Scarf  Accessories   \n\n                                         description  stock         seasons  \\\n0  Transport yourself back in time with our retro...    1.0  Spring, Summer   \n1  Keep your essentials organized and secure with...    5.0     All seasons   \n2  Add a touch of versatility to your wardrobe wi...    6.0    Spring, Fall   \n\n   price  \n0  26.99  \n1  30.00  \n2  23.00  ",
      "text/html": "<div>\n<style scoped>\n    .dataframe tbody tr th:only-of-type {\n        vertical-align: middle;\n    }\n\n    .dataframe tbody tr th {\n        vertical-align: top;\n    }\n\n    .dataframe thead th {\n        text-align: right;\n    }\n</style>\n<table border=\"1\" class=\"dataframe\">\n  <thead>\n    <tr style=\"text-align: right;\">\n      <th></th>\n      <th>product_id</th>\n      <th>name</th>\n      <th>category</th>\n      <th>description</th>\n      <th>stock</th>\n      <th>seasons</th>\n      <th>price</th>\n    </tr>\n  </thead>\n  <tbody>\n    <tr>\n      <th>0</th>\n      <td>RSG8901</td>\n      <td>Retro Sunglasses</td>\n      <td>Accessories</td>\n      <td>Transport yourself back in time with our retro...</td>\n      <td>1.0</td>\n      <td>Spring, Summer</td>\n      <td>26.99</td>\n    </tr>\n    <tr>\n      <th>1</th>\n      <td>SWL2345</td>\n      <td>Sleek Wallet</td>\n      <td>Accessories</td>\n      <td>Keep your essentials organized and secure with...</td>\n      <td>5.0</td>\n      <td>All seasons</td>\n      <td>30.00</td>\n    </tr>\n    <tr>\n      <th>2</th>\n      <td>VSC6789</td>\n      <td>Versatile Scarf</td>\n      <td>Accessories</td>\n      <td>Add a touch of versatility to your wardrobe wi...</td>\n      <td>6.0</td>\n      <td>Spring, Fall</td>\n      <td>23.00</td>\n    </tr>\n  </tbody>\n</table>\n</div>"
     },
     "metadata": {},
     "output_type": "display_data"
    },
    {
     "data": {
      "text/plain": "  email_id                      subject  \\\n0     E001              Leather Wallets   \n1     E002  Buy Vibrant Tote with noise   \n2     E003               Need your help   \n\n                                             message  \n0  Hi there, I want to order all the remaining LT...  \n1  Good morning, I'm looking to buy the VBT2345 V...  \n2  Hello, I need a new bag to carry my laptop and...  ",
      "text/html": "<div>\n<style scoped>\n    .dataframe tbody tr th:only-of-type {\n        vertical-align: middle;\n    }\n\n    .dataframe tbody tr th {\n        vertical-align: top;\n    }\n\n    .dataframe thead th {\n        text-align: right;\n    }\n</style>\n<table border=\"1\" class=\"dataframe\">\n  <thead>\n    <tr style=\"text-align: right;\">\n      <th></th>\n      <th>email_id</th>\n      <th>subject</th>\n      <th>message</th>\n    </tr>\n  </thead>\n  <tbody>\n    <tr>\n      <th>0</th>\n      <td>E001</td>\n      <td>Leather Wallets</td>\n      <td>Hi there, I want to order all the remaining LT...</td>\n    </tr>\n    <tr>\n      <th>1</th>\n      <td>E002</td>\n      <td>Buy Vibrant Tote with noise</td>\n      <td>Good morning, I'm looking to buy the VBT2345 V...</td>\n    </tr>\n    <tr>\n      <th>2</th>\n      <td>E003</td>\n      <td>Need your help</td>\n      <td>Hello, I need a new bag to carry my laptop and...</td>\n    </tr>\n  </tbody>\n</table>\n</div>"
     },
     "metadata": {},
     "output_type": "display_data"
    },
    {
     "data": {
      "text/plain": "Empty DataFrame\nColumns: [Request ID, Email ID, Category]\nIndex: []",
      "text/html": "<div>\n<style scoped>\n    .dataframe tbody tr th:only-of-type {\n        vertical-align: middle;\n    }\n\n    .dataframe tbody tr th {\n        vertical-align: top;\n    }\n\n    .dataframe thead th {\n        text-align: right;\n    }\n</style>\n<table border=\"1\" class=\"dataframe\">\n  <thead>\n    <tr style=\"text-align: right;\">\n      <th></th>\n      <th>Request ID</th>\n      <th>Email ID</th>\n      <th>Category</th>\n    </tr>\n  </thead>\n  <tbody>\n  </tbody>\n</table>\n</div>"
     },
     "metadata": {},
     "output_type": "display_data"
    },
    {
     "data": {
      "text/plain": "Empty DataFrame\nColumns: [Request ID, Email ID, Product ID, Quantity, Status]\nIndex: []",
      "text/html": "<div>\n<style scoped>\n    .dataframe tbody tr th:only-of-type {\n        vertical-align: middle;\n    }\n\n    .dataframe tbody tr th {\n        vertical-align: top;\n    }\n\n    .dataframe thead th {\n        text-align: right;\n    }\n</style>\n<table border=\"1\" class=\"dataframe\">\n  <thead>\n    <tr style=\"text-align: right;\">\n      <th></th>\n      <th>Request ID</th>\n      <th>Email ID</th>\n      <th>Product ID</th>\n      <th>Quantity</th>\n      <th>Status</th>\n    </tr>\n  </thead>\n  <tbody>\n  </tbody>\n</table>\n</div>"
     },
     "metadata": {},
     "output_type": "display_data"
    },
    {
     "data": {
      "text/plain": "Empty DataFrame\nColumns: [Request ID, Email ID, Response]\nIndex: []",
      "text/html": "<div>\n<style scoped>\n    .dataframe tbody tr th:only-of-type {\n        vertical-align: middle;\n    }\n\n    .dataframe tbody tr th {\n        vertical-align: top;\n    }\n\n    .dataframe thead th {\n        text-align: right;\n    }\n</style>\n<table border=\"1\" class=\"dataframe\">\n  <thead>\n    <tr style=\"text-align: right;\">\n      <th></th>\n      <th>Request ID</th>\n      <th>Email ID</th>\n      <th>Response</th>\n    </tr>\n  </thead>\n  <tbody>\n  </tbody>\n</table>\n</div>"
     },
     "metadata": {},
     "output_type": "display_data"
    },
    {
     "data": {
      "text/plain": "Empty DataFrame\nColumns: [Request ID, Email ID, Response]\nIndex: []",
      "text/html": "<div>\n<style scoped>\n    .dataframe tbody tr th:only-of-type {\n        vertical-align: middle;\n    }\n\n    .dataframe tbody tr th {\n        vertical-align: top;\n    }\n\n    .dataframe thead th {\n        text-align: right;\n    }\n</style>\n<table border=\"1\" class=\"dataframe\">\n  <thead>\n    <tr style=\"text-align: right;\">\n      <th></th>\n      <th>Request ID</th>\n      <th>Email ID</th>\n      <th>Response</th>\n    </tr>\n  </thead>\n  <tbody>\n  </tbody>\n</table>\n</div>"
     },
     "metadata": {},
     "output_type": "display_data"
    }
   ],
   "source": [
    "for df in spreadsheet.as_dataframe().values():\n",
    "    display(df.head(3))"
   ],
   "metadata": {
    "collapsed": false,
    "pycharm": {
     "name": "#%%\n"
    }
   }
  },
  {
   "cell_type": "code",
   "execution_count": 232,
   "metadata": {
    "colab": {
     "base_uri": "https://localhost:8080/",
     "height": 270
    },
    "executionInfo": {
     "elapsed": 882,
     "status": "ok",
     "timestamp": 1727776663948,
     "user": {
      "displayName": "DISMAS NG'ODA",
      "userId": "17074486062948487534"
     },
     "user_tz": -180
    },
    "id": "shE97VzGwZ4v",
    "outputId": "18a8b365-0861-49c1-cd30-11e520f92293",
    "pycharm": {
     "name": "#%%\n"
    }
   },
   "outputs": [
    {
     "data": {
      "text/plain": "   product_id                name       category  \\\n0     RSG8901    Retro Sunglasses    Accessories   \n1     SWL2345        Sleek Wallet    Accessories   \n2     VSC6789     Versatile Scarf    Accessories   \n3     CSH1098          Cozy Shawl    Accessories   \n4     CHN0987  Chunky Knit Beanie    Accessories   \n..        ...                 ...            ...   \n94    SND7654     Strappy Sandals  Women's Shoes   \n95    CHK8901     Chunky Sneakers  Women's Shoes   \n96    MLR0123        Mule Loafers  Women's Shoes   \n97    CLG4567        Clog Sandals  Women's Shoes   \n98    SNB4321          Snow Boots  Women's Shoes   \n\n                                          description  stock         seasons  \\\n0   Transport yourself back in time with our retro...    1.0  Spring, Summer   \n1   Keep your essentials organized and secure with...    5.0     All seasons   \n2   Add a touch of versatility to your wardrobe wi...    6.0    Spring, Fall   \n3   Wrap yourself in comfort with our cozy shawl. ...    3.0    Fall, Winter   \n4   Keep your head toasty with our chunky knit bea...    2.0    Fall, Winter   \n..                                                ...    ...             ...   \n94  Step into summer with our strappy sandals. The...    8.0  Spring, Summer   \n95  Step into trendy style with our chunky sneaker...    1.0    Spring, Fall   \n96  Slip into effortless style with our mule loafe...    2.0    Spring, Fall   \n97  Step into retro-inspired style with our clog s...    3.0  Spring, Summer   \n98  Brave the elements in our durable snow boots. ...    5.0          Winter   \n\n    price  \n0   26.99  \n1   30.00  \n2   23.00  \n3   22.00  \n4   22.00  \n..    ...  \n94  27.00  \n95  42.00  \n96  47.00  \n97  48.00  \n98  41.00  \n\n[99 rows x 7 columns]",
      "text/html": "<div>\n<style scoped>\n    .dataframe tbody tr th:only-of-type {\n        vertical-align: middle;\n    }\n\n    .dataframe tbody tr th {\n        vertical-align: top;\n    }\n\n    .dataframe thead th {\n        text-align: right;\n    }\n</style>\n<table border=\"1\" class=\"dataframe\">\n  <thead>\n    <tr style=\"text-align: right;\">\n      <th></th>\n      <th>product_id</th>\n      <th>name</th>\n      <th>category</th>\n      <th>description</th>\n      <th>stock</th>\n      <th>seasons</th>\n      <th>price</th>\n    </tr>\n  </thead>\n  <tbody>\n    <tr>\n      <th>0</th>\n      <td>RSG8901</td>\n      <td>Retro Sunglasses</td>\n      <td>Accessories</td>\n      <td>Transport yourself back in time with our retro...</td>\n      <td>1.0</td>\n      <td>Spring, Summer</td>\n      <td>26.99</td>\n    </tr>\n    <tr>\n      <th>1</th>\n      <td>SWL2345</td>\n      <td>Sleek Wallet</td>\n      <td>Accessories</td>\n      <td>Keep your essentials organized and secure with...</td>\n      <td>5.0</td>\n      <td>All seasons</td>\n      <td>30.00</td>\n    </tr>\n    <tr>\n      <th>2</th>\n      <td>VSC6789</td>\n      <td>Versatile Scarf</td>\n      <td>Accessories</td>\n      <td>Add a touch of versatility to your wardrobe wi...</td>\n      <td>6.0</td>\n      <td>Spring, Fall</td>\n      <td>23.00</td>\n    </tr>\n    <tr>\n      <th>3</th>\n      <td>CSH1098</td>\n      <td>Cozy Shawl</td>\n      <td>Accessories</td>\n      <td>Wrap yourself in comfort with our cozy shawl. ...</td>\n      <td>3.0</td>\n      <td>Fall, Winter</td>\n      <td>22.00</td>\n    </tr>\n    <tr>\n      <th>4</th>\n      <td>CHN0987</td>\n      <td>Chunky Knit Beanie</td>\n      <td>Accessories</td>\n      <td>Keep your head toasty with our chunky knit bea...</td>\n      <td>2.0</td>\n      <td>Fall, Winter</td>\n      <td>22.00</td>\n    </tr>\n    <tr>\n      <th>...</th>\n      <td>...</td>\n      <td>...</td>\n      <td>...</td>\n      <td>...</td>\n      <td>...</td>\n      <td>...</td>\n      <td>...</td>\n    </tr>\n    <tr>\n      <th>94</th>\n      <td>SND7654</td>\n      <td>Strappy Sandals</td>\n      <td>Women's Shoes</td>\n      <td>Step into summer with our strappy sandals. The...</td>\n      <td>8.0</td>\n      <td>Spring, Summer</td>\n      <td>27.00</td>\n    </tr>\n    <tr>\n      <th>95</th>\n      <td>CHK8901</td>\n      <td>Chunky Sneakers</td>\n      <td>Women's Shoes</td>\n      <td>Step into trendy style with our chunky sneaker...</td>\n      <td>1.0</td>\n      <td>Spring, Fall</td>\n      <td>42.00</td>\n    </tr>\n    <tr>\n      <th>96</th>\n      <td>MLR0123</td>\n      <td>Mule Loafers</td>\n      <td>Women's Shoes</td>\n      <td>Slip into effortless style with our mule loafe...</td>\n      <td>2.0</td>\n      <td>Spring, Fall</td>\n      <td>47.00</td>\n    </tr>\n    <tr>\n      <th>97</th>\n      <td>CLG4567</td>\n      <td>Clog Sandals</td>\n      <td>Women's Shoes</td>\n      <td>Step into retro-inspired style with our clog s...</td>\n      <td>3.0</td>\n      <td>Spring, Summer</td>\n      <td>48.00</td>\n    </tr>\n    <tr>\n      <th>98</th>\n      <td>SNB4321</td>\n      <td>Snow Boots</td>\n      <td>Women's Shoes</td>\n      <td>Brave the elements in our durable snow boots. ...</td>\n      <td>5.0</td>\n      <td>Winter</td>\n      <td>41.00</td>\n    </tr>\n  </tbody>\n</table>\n<p>99 rows × 7 columns</p>\n</div>"
     },
     "metadata": {},
     "output_type": "display_data"
    },
    {
     "data": {
      "text/plain": "  email_id                               subject  \\\n0     E001                       Leather Wallets   \n1     E002           Buy Vibrant Tote with noise   \n2     E003                        Need your help   \n3     E004            Buy Infinity Scarves Order   \n4     E005         Inquiry on Cozy Shawl Details   \n5     E006                                  None   \n6     E007           Order for Beanies, Slippers   \n7     E008  Ordering a Versatile Scarf-like item   \n8     E009  Pregunta Sobre Gorro de Punto Grueso   \n9     E010             Purchase Retro Sunglasses   \n\n                                             message  \n0  Hi there, I want to order all the remaining LT...  \n1  Good morning, I'm looking to buy the VBT2345 V...  \n2  Hello, I need a new bag to carry my laptop and...  \n3  Hi, I'd like to order three to four SFT1098 In...  \n4  Good day, For the CSH1098 Cozy Shawl, the desc...  \n5  Hey there, I was thinking of ordering a pair o...  \n6  Hi, this is Liz. Please send me 5 CLF2109 Cabl...  \n7  Hello, I'd want to order one of your Versatile...  \n8  Hola, tengo una pregunta sobre el DHN0987 Gorr...  \n9  Hello, I would like to order 1 pair of RSG8901...  ",
      "text/html": "<div>\n<style scoped>\n    .dataframe tbody tr th:only-of-type {\n        vertical-align: middle;\n    }\n\n    .dataframe tbody tr th {\n        vertical-align: top;\n    }\n\n    .dataframe thead th {\n        text-align: right;\n    }\n</style>\n<table border=\"1\" class=\"dataframe\">\n  <thead>\n    <tr style=\"text-align: right;\">\n      <th></th>\n      <th>email_id</th>\n      <th>subject</th>\n      <th>message</th>\n    </tr>\n  </thead>\n  <tbody>\n    <tr>\n      <th>0</th>\n      <td>E001</td>\n      <td>Leather Wallets</td>\n      <td>Hi there, I want to order all the remaining LT...</td>\n    </tr>\n    <tr>\n      <th>1</th>\n      <td>E002</td>\n      <td>Buy Vibrant Tote with noise</td>\n      <td>Good morning, I'm looking to buy the VBT2345 V...</td>\n    </tr>\n    <tr>\n      <th>2</th>\n      <td>E003</td>\n      <td>Need your help</td>\n      <td>Hello, I need a new bag to carry my laptop and...</td>\n    </tr>\n    <tr>\n      <th>3</th>\n      <td>E004</td>\n      <td>Buy Infinity Scarves Order</td>\n      <td>Hi, I'd like to order three to four SFT1098 In...</td>\n    </tr>\n    <tr>\n      <th>4</th>\n      <td>E005</td>\n      <td>Inquiry on Cozy Shawl Details</td>\n      <td>Good day, For the CSH1098 Cozy Shawl, the desc...</td>\n    </tr>\n    <tr>\n      <th>5</th>\n      <td>E006</td>\n      <td>None</td>\n      <td>Hey there, I was thinking of ordering a pair o...</td>\n    </tr>\n    <tr>\n      <th>6</th>\n      <td>E007</td>\n      <td>Order for Beanies, Slippers</td>\n      <td>Hi, this is Liz. Please send me 5 CLF2109 Cabl...</td>\n    </tr>\n    <tr>\n      <th>7</th>\n      <td>E008</td>\n      <td>Ordering a Versatile Scarf-like item</td>\n      <td>Hello, I'd want to order one of your Versatile...</td>\n    </tr>\n    <tr>\n      <th>8</th>\n      <td>E009</td>\n      <td>Pregunta Sobre Gorro de Punto Grueso</td>\n      <td>Hola, tengo una pregunta sobre el DHN0987 Gorr...</td>\n    </tr>\n    <tr>\n      <th>9</th>\n      <td>E010</td>\n      <td>Purchase Retro Sunglasses</td>\n      <td>Hello, I would like to order 1 pair of RSG8901...</td>\n    </tr>\n  </tbody>\n</table>\n</div>"
     },
     "metadata": {},
     "output_type": "display_data"
    }
   ],
   "source": [
    "dfs = spreadsheet.as_dataframe()\n",
    "products_df = dfs['products']\n",
    "emails_df = dfs['emails']\n",
    "\n",
    "# Display debugging\n",
    "display(products_df)\n",
    "display(emails_df.head(10))"
   ]
  },
  {
   "cell_type": "code",
   "execution_count": 233,
   "outputs": [
    {
     "name": "stdout",
     "output_type": "stream",
     "text": [
      "There are no duplicate products in inventory\n"
     ]
    }
   ],
   "source": [
    "# Verify the product info\n",
    "if len(products_df['product_id']) == len(products_df['product_id'].unique()):\n",
    "    print(f\"There are no duplicate products in inventory\")\n",
    "else:\n",
    "    raise ValueError(\"duplicate products exist in inventory\")"
   ],
   "metadata": {
    "collapsed": false,
    "pycharm": {
     "name": "#%%\n"
    }
   }
  },
  {
   "cell_type": "code",
   "execution_count": 234,
   "outputs": [],
   "source": [
    "class Email(object):\n",
    "    def __init__(self, key: str, subject: str, message: str):\n",
    "        self.id = key\n",
    "        self.subject = subject if 'nan' not in str(subject) else \"<NULL>\"\n",
    "        self.message = message"
   ],
   "metadata": {
    "collapsed": false,
    "pycharm": {
     "name": "#%%\n"
    }
   }
  },
  {
   "cell_type": "code",
   "execution_count": 235,
   "outputs": [],
   "source": [
    "# product class to hold product infomation\n",
    "class Product(object):\n",
    "    def __init__(self, key: str, name: str, category: str, info: str, stock: int, seasons: str, price: str):\n",
    "        self.id = key\n",
    "        self.name = name\n",
    "        self.category = category\n",
    "        self.description = info\n",
    "        self.stock = int(stock)\n",
    "        self.seasons: list[str] = [re.findall( r'\\b\\w+\\b', season)[0] for season in seasons.split()]\n",
    "        self.price = float(price)\n",
    "\n",
    "    def create_order(self, amount: Union[int, None]):\n",
    "        if amount is None or amount < -1 or amount == 0:\n",
    "            raise ValueError(f\"Invalid amount value '{amount}'\")\n",
    "        elif amount == -1:\n",
    "            amount = self.stock\n",
    "        rem = self.stock - amount\n",
    "        if rem >= 0 and amount != 0:\n",
    "            self.stock -= amount\n",
    "            return amount\n",
    "        elif self.stock == 0:\n",
    "            return 0\n",
    "        elif rem < 0:\n",
    "            return -amount\n",
    "\n",
    "    def get_info(self):\n",
    "        return f\"{self.name}{(self.category, self.description, self.seasons, self.price, self.stock)}\".replace(\"'\", \"\")"
   ],
   "metadata": {
    "collapsed": false,
    "pycharm": {
     "name": "#%%\n"
    }
   }
  },
  {
   "cell_type": "code",
   "execution_count": 236,
   "outputs": [],
   "source": [
    "class RequestType(Enum):\n",
    "    Inquiry = 1\n",
    "    Order = 2\n",
    "\n",
    "# A request class to fulfill hold info requests\n",
    "class Request(object):\n",
    "    def __init__(self, key: str, product: Union[Product, None], email: Email, time: int, type: RequestType):\n",
    "        self.id = key\n",
    "        self.product = product\n",
    "        self.email = email\n",
    "        self.time = time\n",
    "        self.type = type\n",
    "        self.successful = False\n",
    "        self.result: str = None\n",
    "        self.responded = False"
   ],
   "metadata": {
    "collapsed": false,
    "pycharm": {
     "name": "#%%\n"
    }
   }
  },
  {
   "cell_type": "code",
   "execution_count": 237,
   "outputs": [],
   "source": [
    "# An inventory class to retrieve info on products and fulfill requests on orders and inquiries\n",
    "class Inventory(object):\n",
    "    request_id = -1\n",
    "    def __init__(self, products: list[Product]):\n",
    "        self.products: dict[str, Product] = {p.id: p for p in products}\n",
    "        self.requests: dict[str, Request] = {}\n",
    "\n",
    "    def _get_request_id(self):\n",
    "        self.request_id += 1\n",
    "        return self.request_id\n",
    "\n",
    "    def _get_product(self, id: str):\n",
    "        if id in self.products:\n",
    "            return self.products[id]\n",
    "        else:\n",
    "            return None\n",
    "\n",
    "    def _request(self, product_id: str, email: Email):\n",
    "        product = self._get_product(product_id)\n",
    "        request = Request(f\"RQ{self._get_request_id()}\", product, email, clock.time(), RequestType.Order)\n",
    "        spreadsheet.add_record('email-classification', (request.id, email.id, request.type.name))\n",
    "        return product, request\n",
    "\n",
    "    def inquire(self, id: str, name: str, email: Email):\n",
    "        product, request = self._request(id, email)\n",
    "        if product:\n",
    "            request.successful = True\n",
    "            request.result = f\"'{product.name}'(#{product.id}): {product.description}\"\n",
    "        else:\n",
    "            request.result = f\"The product '{name}' you are inquiring does not exist!\"\n",
    "        self.requests[request.id] = request\n",
    "        spreadsheet.add_record('inquiry-response', (request.id, email.id, request.result))\n",
    "        return request\n",
    "\n",
    "    def order(self, id: str, name: str, amount: Union[int, None], email: Email):\n",
    "        product, request = self._request(id, email)\n",
    "        status = 'Out of Stock'\n",
    "        if product:\n",
    "            order_amount = product.create_order(amount)\n",
    "            if order_amount > 0:\n",
    "                request.successful = True\n",
    "                bill = order_amount * product.price\n",
    "                request.result = f\"Successfully ordered {order_amount} of '{product.name}'(#{product.id}) for ${bill}\"\n",
    "                status = 'Completed'\n",
    "            elif order_amount == 0:\n",
    "                request.result = f\"'{product.name}'(#{product.id}), is out of stock\"\n",
    "            else:\n",
    "                request.result = f\"Not enough stock to fill order of {product.name}'(#{product.id}); \" \\\n",
    "                                 f\"current stock={product.stock}, order amount={amount}\"\n",
    "        else:\n",
    "            request.result = f\"The product '{name}', you are ordering does not exist!\"\n",
    "        request.result = request.result.replace(\"'\", \"\")\n",
    "        self.requests[request.id] = request\n",
    "        spreadsheet.add_record('order-status', (request.id, email.id, product.id if product else None, amount, status))\n",
    "        spreadsheet.add_record('order-response', (request.id, email.id, request.result))\n",
    "        return request\n",
    "\n",
    "    def get_available_products(self):\n",
    "        return [(key, p.name) for key, p in self.products.items()]\n",
    "\n",
    "    def get_product_info(self):\n",
    "        text = \"With formatting ID ~ Name(Category, Description, Seasons, Price in $, Stock), product info:\"\n",
    "        for key, p in self.products.items():\n",
    "            text += f\"\\n{key} ~ {p.get_info()}\"\n",
    "        return text"
   ],
   "metadata": {
    "collapsed": false,
    "pycharm": {
     "name": "#%%\n"
    }
   }
  },
  {
   "cell_type": "code",
   "execution_count": 238,
   "outputs": [
    {
     "name": "stdout",
     "output_type": "stream",
     "text": [
      "id -> CSW6789 (type=<class 'str'>)\n",
      "name -> Cozy Sweater (type=<class 'str'>)\n",
      "category -> Men's Clothing (type=<class 'str'>)\n",
      "description -> Stay warm and stylish with our cozy sweater. Crafted from soft, high-quality materials, this sweater is perfect for layering or wearing on its own. The classic design makes it a wardrobe staple. (type=<class 'str'>)\n",
      "stock -> 6 (type=<class 'int'>)\n",
      "seasons -> ['Fall', 'Winter'] (type=<class 'list'>)\n",
      "price -> 48.0 (type=<class 'float'>)\n"
     ]
    }
   ],
   "source": [
    "inventory = Inventory([Product(*tuple(row)) for _, row in products_df.iterrows()])\n",
    "\n",
    "for e, v in vars(random.choice(list(inventory.products.values()))).items():\n",
    "    print(f\"{e} -> {v} (type={type(v)})\")"
   ],
   "metadata": {
    "collapsed": false,
    "pycharm": {
     "name": "#%%\n"
    }
   }
  },
  {
   "cell_type": "code",
   "execution_count": 239,
   "outputs": [
    {
     "name": "stdout",
     "output_type": "stream",
     "text": [
      "With formatting ID ~ Name(Category, Description, Seasons, Price in $, Stock), product info:\n",
      "RSG8901 ~ Retro Sunglasses(Accessories, \"Transport yourself back in time with our retro sunglasses. These vintage-inspired shades offer a cool, nostalgic vibe while protecting your eyes from the suns rays. Perfect for beach days or city strolls.\", [Spring, Summer], 26.99, 1)\n",
      "SWL2345 ~ Sleek Wallet(Accessories, Keep your essentials organized and secure with our sleek wallet. Featuring multiple card slots and a billfold compartment, this stylish wallet is both functional and fashionable. Perfect for everyday carry., [All, seasons], 30.0, 5)\n",
      "VSC6789 ~ Versatile Scarf(Accessories, Add a touch of versatility to your wardrobe with our versatile scarf. This lightweight, multi-purpose accessory can be worn as a scarf, shawl, or even a headwrap. Perfect for transitional seasons or travel., [Spring, Fall], 23.0, 6)\n",
      "CSH1098 ~ Cozy Shawl(Accessories, Wrap yourself in comfort with our cozy shawl. Knitted from soft, warm yarn, this versatile accessory can be worn as a shawl, scarf, or even a lightweight blanket. Perfect for chilly evenings or adding a cozy layer to your outfit., [Fall, Winter], 22.0, 3)\n",
      "CHN0987 ~ Chunky Knit Beanie(Accessories, Keep your head toasty with our chunky knit beanie. Knitted from thick, cozy yarn, this trendy beanie offers a slouchy, oversized fit and a touch of rustic charm. A versatile accessory to elevate your cold-weather looks., [Fall, Winter], 22.0, 2)\n",
      "LTH0976 ~ Leather Bifold Wallet(Accessories, Upgrade your everyday carry with our leather bifold wallet. Crafted from premium, full-grain leather, this sleek wallet features multiple card slots, a billfold compartment, and a timeless, minimalist design. A sophisticated choice for any occasion., [All, seasons], 21.0, 4)\n",
      "FZZ1098 ~ Fuzzy Slippers(Accessories, Cozy up in our fuzzy slippers. These ultra-soft slippers feature a plush, fuzzy exterior and a cushioned, moisture-wicking footbed for ultimate comfort. An ideal choice for lounging at home or running errands on chilly days., [Fall, Winter], 29.0, 2)\n",
      "FRP9876 ~ Fringe Poncho(Accessories, Add a boho-chic touch to your outfits with our fringe poncho. This statement accessory features a cozy knit construction and a trendy fringe trim. A versatile layering piece for chilly days or evening events., [Fall, Winter], 43.0, 3)\n",
      "BKR0123 ~ Bucket Hat(Accessories, Protect your face from the sun in style with our trendy bucket hat. This casual hat features a cotton construction and a wide, floppy brim. A must-have accessory for beach days, music festivals, or adding a touch of streetwear flair., [Spring, Summer], 39.99, 3)\n",
      "CBY6789 ~ Corduroy Bucket Hat(Accessories, Keep it casual and cool with our corduroy bucket hat. This trendy hat features a soft corduroy construction and a relaxed, bucket silhouette. A must-have accessory for achieving a laidback, streetwear-inspired look., [Fall, Winter], 28.0, 3)\n",
      "CLF2109 ~ Cable Knit Beanie(Accessories, Bundle up in our cable knit beanie. Knitted from premium wool, this classic beanie features a timeless cable knit pattern and a soft, stretchy fit. A versatile accessory for adding a touch of warmth and texture to your cold-weather looks., [Winter], 16.0, 2)\n",
      "LTG5432 ~ Leather Gloves(Accessories, Protect your hands in style with our leather gloves. Crafted from buttery soft leather, these gloves feature a sleek, minimalist design and a warm fleece lining. A timeless and sophisticated choice for cold days., [Winter], 31.0, 1)\n",
      "CPN3210 ~ Cashmere Poncho(Accessories, Wrap yourself in luxury with our cashmere poncho. Knitted from premium cashmere yarn, this ultra-soft poncho offers a cozy, enveloping warmth. A stylish and versatile layering piece for chilly winter days., [Winter], 48.0, 3)\n",
      "SFT1098 ~ Infinity Scarf(Accessories, Stay cozy and stylish with our infinity scarf. This versatile accessory features a soft, chunky knit construction and an endless loop design for easy wearing. Perfect for adding a touch of warmth and texture to your winter ensembles., [Winter], 28.0, 8)\n",
      "ERM5432 ~ Earmuffs(Accessories, Keep your ears toasty with our earmuffs. These plush earmuffs feature a soft, faux fur exterior and an adjustable headband for a secure fit. A practical and stylish accessory for braving the cold in comfort., [Winter], 23.0, 2)\n",
      "VBT2345 ~ Vibrant Tote(Bags, \"Add a pop of color to your everyday carry with our vibrant tote bag. Spacious and stylish, its the perfect companion for running errands or carrying your essentials. The vibrant hue is sure to turn heads.\", [All, seasons], 39.0, 4)\n",
      "SBP4567 ~ Sleek Backpack(Bags, Streamline your daily carry with our sleek backpack. Designed for both style and functionality, this bag features multiple compartments to keep your essentials organized and a padded laptop sleeve for added protection., [All, seasons], 29.99, 6)\n",
      "CCB6789 ~ Chic Crossbody(Bags, Keep your essentials close with our chic crossbody bag. Compact yet spacious, this stylish bag features multiple compartments and adjustable straps for a comfortable carry. Perfect for everyday use or travel., [All, seasons], 35.0, 7)\n",
      "CCH6789 ~ Chic Clutch(Bags, Add a touch of sophistication to your evening look with our chic clutch. This elegant bag features a sleek design and a detachable strap for versatility. Perfect for special occasions or date nights., [All, seasons], 36.99, 4)\n",
      "CBG9876 ~ Canvas Beach Bag(Bags, Pack your essentials in style with our canvas beach bag. Spacious and durable, this bag features a nautical-inspired print and interior pockets for organization. Perfectly sized for a day at the beach or a weekend getaway. Buy one, get one 50% off!, [Spring, Summer], 24.0, 1)\n",
      "LTH5432 ~ Leather Tote(Bags, Elevate your everyday carry with our leather tote bag. Crafted from premium, full-grain leather, this bag features a spacious interior, multiple pockets, and sturdy handles. Perfect for work, travel, or running errands in style., [All, seasons], 28.0, 6)\n",
      "LTH1098 ~ Leather Backpack(Bags, Upgrade your daily carry with our leather backpack. Crafted from premium leather, this stylish backpack features multiple compartments, a padded laptop sleeve, and adjustable straps for a comfortable fit. Perfect for work, travel, or everyday use., [All, seasons], 43.99, 7)\n",
      "MSK1098 ~ Metallic Clutch(Bags, Add a touch of glamour to your evening ensemble with our metallic clutch. This sleek, compact clutch features a shimmering metallic finish and a detachable chain strap for versatility. Perfect for special occasions or adding a touch of elegance to any outfit., [All, seasons], 38.99, 8)\n",
      "LTH2109 ~ Leather Messenger Bag(Bags, Carry your essentials in style with our leather messenger bag. Crafted from premium, full-grain leather, this bag features a spacious main compartment, multiple pockets, and an adjustable strap for a comfortable fit. A timeless choice for work, travel, or everyday use., [All, seasons], 37.99, 4)\n",
      "QTP5432 ~ Quilted Tote(Bags, Carry your essentials in style with our quilted tote bag. This spacious bag features a classic quilted design, multiple interior pockets, and sturdy handles. A chic and practical choice for work, travel, or everyday use. Limited-time sale - get 25% off!, [All, seasons], 29.0, 7)\n",
      "FRP6789 ~ Fringe Crossbody(Bags, Embrace boho-chic style with our fringe crossbody bag. This compact bag features a fringed exterior and a stylish saddle shape. Perfect for adding a touch of free-spirited flair to any outfit., [Spring, Summer, Fall], 67.0, 2)\n",
      "SDE2345 ~ Saddle Bag(Bags, Channel vintage charm with our saddle bag. This compact crossbody features a classic saddle shape and a trendy, minimalist design. Perfect for adding a touch of retro flair to any ensemble. Limited stock available!, [All, seasons], 39.0, 1)\n",
      "DLD0123 ~ Delightful Dress(\"Kids Clothing\", Let your little one shine in our delightful dress. Adorned with playful prints and vibrant colors, this dress is perfect for parties, playdates, or any special occasion. Comfortable and easy to move in., [Spring, Summer], 46.0, 3)\n",
      "STT4567 ~ Striped Tee(\"Kids Clothing\", Keep your little one looking stylish with our striped tee. Made from soft, breathable cotton, this classic t-shirt is perfect for playdates or casual outings. The striped pattern adds a fun, playful touch., [Spring, Summer, Fall], 24.0, 3)\n",
      "CPJ2345 ~ Cozy Pajama Set(\"Kids Clothing\", Keep your little one snug as a bug with our cozy pajama set. Crafted from soft, breathable materials, this set features playful prints and comfortable designs. Perfect for bedtime or lazy mornings., [All, seasons], 27.0, 5)\n",
      "LFL7654 ~ Long Fleece Robe(Loungewear, Cozy up at home in our long fleece robe. This ultra-soft robe features a plush, sherpa-like fleece construction and a relaxed, ankle-length silhouette. Perfect for lounging, relaxing, or staying warm on chilly winter mornings., [Winter], 38.0, 6)\n",
      "PTR9876 ~ Patterned Tie(\"Mens Accessories\", Add a pop of personality to your professional attire with our patterned tie. This eye-catching tie features a bold, unique pattern and is crafted from high-quality silk. Perfect for adding a touch of style to your suit or dress shirt., [All, seasons], 37.0, 1)\n",
      "CSW6789 ~ Cozy Sweater(\"Mens Clothing\", Stay warm and stylish with our cozy sweater. Crafted from soft, high-quality materials, this sweater is perfect for layering or wearing on its own. The classic design makes it a wardrobe staple., [Fall, Winter], 48.0, 6)\n",
      "DJN8901 ~ Distressed Jeans(\"Mens Clothing\", Add a touch of edgy cool to your wardrobe with our distressed jeans. Featuring strategic rips and fading, these jeans offer a lived-in, vintage vibe. Perfect for casual outings or dressing up with a blazer., [Spring, Summer, Fall], 57.99, 5)\n",
      "CPL0123 ~ Casual Polo(\"Mens Clothing\", Keep it cool and casual with our classic polo shirt. Made from breathable cotton, this timeless piece is perfect for golf outings, weekend wear, or casual Fridays at the office., [Spring, Summer, Fall], 39.0, 7)\n",
      "RCS0123 ~ Rugged Cargo Shorts(\"Mens Clothing\", Gear up for adventure with our rugged cargo shorts. Featuring multiple pockets and a durable construction, these shorts are perfect for outdoor activities or casual weekend wear., [Spring, Summer], 45.0, 6)\n",
      "TLR5432 ~ Tailored Suit(\"Mens Clothing\", Exude confidence and professionalism with our tailored suit. Crafted from premium wool, this suit features a sleek, modern fit and impeccable tailoring. Perfect for important meetings, job interviews, or formal events. Limited-time sale - get the full suit for the price of the blazer!, [Fall, Winter, Spring], 55.0, 4)\n",
      "RGD7654 ~ Rugged Denim Jacket(\"Mens Clothing\", Embrace the classic with our rugged denim jacket. Crafted from durable, high-quality denim, this jacket features a vintage-inspired wash and distressed details. Layer it over a tee for a casual, cool vibe or dress it up with a button-down., [Spring, Fall], 41.0, 5)\n",
      "LNS3210 ~ Linen Shorts(\"Mens Clothing\", \"Beat the heat in style with our linen shorts. Crafted from lightweight, breathable linen, these shorts offer a relaxed fit and a classic, timeless look. Perfect for lounging, beach days, or casual summer outings. Limited stock - dont miss out!\", [Spring, Summer], 43.0, 3)\n",
      "CML7654 ~ Camo Print Tee(\"Mens Clothing\", Embrace the military-inspired trend with our camo print tee. This casual t-shirt features a bold camo print and is crafted from soft, breathable cotton. Perfect for casual outings, weekend wear, or layering under a jacket., [Spring, Summer, Fall], 43.0, 2)\n",
      "PLV8765 ~ Plaid Flannel Vest(\"Mens Clothing\", Layer up with our plaid flannel vest. This cozy vest features a classic plaid pattern and is crafted from soft, warm flannel. Perfect for adding a touch of ruggedness to your casual or outdoor looks. Buy one, get a matching plaid shirt at 50% off!, [Fall, Winter], 42.0, 1)\n",
      "PLD9876 ~ Plaid Button-Down(\"Mens Clothing\", Add a touch of classic style to your wardrobe with our plaid button-down shirt. Crafted from soft, lightweight cotton, this shirt features a timeless plaid pattern and a relaxed, comfortable fit. A go-to choice for casual Fridays at the office or weekend brunch., [Spring, Fall], 49.0, 8)\n",
      "HNG3210 ~ Hooded Nylon Jacket(\"Mens Clothing\", Stay dry and stylish with our hooded nylon jacket. This lightweight jacket features a water-resistant nylon construction, a adjustable hood, and multiple pockets for practicality. An ideal outer layer for unpredictable weather or outdoor adventures., [Spring, Fall], 39.0, 6)\n",
      "CBL5432 ~ Cable Knit Sweater(\"Mens Clothing\", Stay warm in style with our cable knit sweater. Crafted from premium wool, this timeless sweater features a classic cable knit pattern and a cozy, relaxed fit. An elevated choice for casual outings or layering over a button-down., [Fall, Winter], 54.0, 2)\n",
      "BMX2345 ~ Bomber Jacket(\"Mens Clothing\", Add a touch of cool to your wardrobe with our bomber jacket. This lightweight jacket features a classic bomber silhouette and a trendy satin fabric. Perfect for layering or making a statement on its own. Limited quantities available!, [Spring, Fall], 74.0, 1)\n",
      "FLN2345 ~ Flannel Shacket(\"Mens Clothing\", Layer up in rugged style with our flannel shacket. This versatile piece combines the warmth of a shirt with the utility of a jacket, featuring a cozy flannel construction and a relaxed, oversized fit. A quintessential piece for outdoor adventures or casual weekend wear., [Fall, Winter], 74.99, 2)\n",
      "PTN4567 ~ Patterned Joggers(\"Mens Clothing\", Elevate your loungewear with our patterned joggers. These cozy joggers feature a bold, eye-catching print and a relaxed, tapered fit. Perfect for lazy days at home or running errands in style. Quantities are limited!, [Spring, Fall], 50.0, 1)\n",
      "PTD8901 ~ Patchwork Denim Jacket(\"Mens Clothing\", Make a statement with our patchwork denim jacket. This one-of-a-kind piece features a patchwork construction of different denim washes and textures. A unique, eye-catching choice for achieving an edgy, individualistic look. Hurry, almost sold out!, [Spring, Fall], 74.99, 1)\n",
      "THK0976 ~ Thermal Henley(\"Mens Clothing\", Layer up in warmth with our thermal henley. This cozy top features a soft, waffle-knit construction and a classic henley silhouette. Perfect for wearing as a base layer or on its own for casual, cold-weather style., [Winter], 37.0, 7)\n",
      "HDD9876 ~ Hooded Down Vest(\"Mens Clothing\", Stay warm without the weight in our hooded down vest. This lightweight vest features a water-resistant outer shell, cozy down insulation, and an adjustable hood for added warmth. Perfect for layering or wearing on its own during milder winter days., [Winter], 61.0, 5)\n",
      "FNK9876 ~ Fair Isle Sweater(\"Mens Clothing\", Add a touch of pattern to your cold-weather looks with our fair isle sweater. This cozy sweater features a classic fair isle knit pattern and a relaxed, crew neck silhouette. Perfect for layering or wearing on its own for a touch of heritage style., [Winter], 62.99, 4)\n",
      "SKR3210 ~ Ski Sweater(\"Mens Clothing\", Hit the slopes in style with our ski sweater. This cozy sweater features a chunky knit construction, a bold pattern, and a relaxed, oversized fit. Perfect for apres-ski or adding a touch of retro flair to your winter wardrobe., [Winter], 57.0, 5)\n",
      "RBT0123 ~ Rugged Boots(\"Mens Shoes\", Tackle any terrain with our rugged boots. Crafted from durable materials and featuring a sturdy sole, these boots offer both style and functionality. Perfect for outdoor adventures or city explorations., [Fall, Winter], 39.0, 6)\n",
      "SLP7654 ~ Slip-on Sneakers(\"Mens Shoes\", Step into comfort and style with our slip-on sneakers. These casual sneakers feature a sleek, minimalist design and a lightweight, cushioned sole. Perfect for running errands, casual outings, or weekend wear., [Spring, Summer, Fall], 38.0, 4)\n",
      "SLD7654 ~ Slide Sandals(\"Mens Shoes\", Slip into comfort with our slide sandals. These casual sandals feature a lightweight, moisture-wicking design and a cushioned footbed for all-day support. An ideal choice for beach days, pool parties, or running errands in warm weather., [Spring, Summer], 22.0, 3)\n",
      "CBT8901 ~ Chelsea Boots(\"Mens Shoes\", Elevate your casual looks with our Chelsea boots. These stylish ankle boots feature a sleek leather construction, elastic side panels, and a sturdy lug sole. An essential for completing modern, edgy outfits., [Fall, Winter], 65.0, 2)\n",
      "WTR7654 ~ Waterproof Boots(\"Mens Shoes\", Stay dry and comfortable in our waterproof boots. These durable boots feature a water-resistant outer shell, a cozy fleece lining, and a rugged, lug sole for traction. An essential for navigating snowy or rainy conditions., [Winter], 51.0, 6)\n",
      "CHL4567 ~ Chic Blazer(\"Womens Clothing\", Elevate your style game with our chic blazer. Crafted from premium materials, this timeless piece is perfect for the office or a night out. Pair it with trousers or a skirt for a polished look., [Fall, Winter, Spring], 70.0, 5)\n",
      "FSD2345 ~ Floral Sundress(\"Womens Clothing\", Embrace the warm weather in our floral sundress. This breezy, lightweight dress features a vibrant floral print and a flattering silhouette. Perfect for sunny days or tropical vacations., [Spring, Summer], 58.0, 4)\n",
      "CCG8901 ~ Cozy Cardigan(\"Womens Clothing\", Layer up in style with our cozy cardigan. Crafted from soft, warm materials, this versatile piece can be dressed up or down. Perfect for chilly days or chilly office spaces., [Fall, Winter, Spring], 61.99, 4)\n",
      "WSK4567 ~ Whimsical Skirt(\"Womens Clothing\", Embrace your playful side with our whimsical skirt. Featuring a vibrant print and a flattering A-line silhouette, this skirt is perfect for adding a touch of fun to your wardrobe. Pair it with a tee or blouse., [Spring, Summer], 52.0, 3)\n",
      "FLD9876 ~ Floral Maxi Dress(\"Womens Clothing\", Embrace the blooming season with our floral maxi dress. This breezy, lightweight dress features a vibrant floral pattern and a flattering silhouette that flows gracefully with every step. Perfect for garden parties, beach vacations, or romantic evenings. Act now and get 20% off!, [Spring, Summer], 56.0, 7)\n",
      "PTD3210 ~ Printed Tunic Dress(\"Womens Clothing\", Stand out from the crowd with our printed tunic dress. This vibrant, eye-catching dress features a bold print and a flattering, relaxed silhouette. Perfect for running errands, casual outings, or a weekend brunch with friends., [Spring, Summer], 67.99, 5)\n",
      "FBL9876 ~ Floral Blouse(\"Womens Clothing\", Add a touch of femininity to your wardrobe with our floral blouse. This elegant top features a vibrant floral print and a flattering, flowy silhouette. Dress it up with trousers or a skirt for the office or pair it with jeans for a casual weekend look., [Spring, Summer, Fall], 42.0, 6)\n",
      "CHN5432 ~ Chunky Knit Sweater(\"Womens Clothing\", Stay cozy and stylish with our chunky knit sweater. Crafted from soft, high-quality yarn, this oversized sweater features a trendy, chunky knit pattern and a relaxed fit. Perfect for layering or wearing on its own., [Fall, Winter], 79.99, 4)\n",
      "CRD3210 ~ Corduroy Pants(\"Womens Clothing\", Embrace the retro trend with our corduroy pants. Crafted from soft, textured corduroy, these high-waisted pants offer a flattering fit and a touch of vintage charm. Dress them up with a blouse or keep it casual with a tee., [Fall, Winter], 65.0, 5)\n",
      "BMX5432 ~ Bomber Jacket(\"Womens Clothing\", Channel your inner rebel with our bomber jacket. Crafted from soft, lightweight material, this jacket features a classic bomber silhouette and a trendy, cropped length. Perfect for layering or making a statement on its own. Buy now and get a free matching beanie!, [Spring, Fall], 62.99, 6)\n",
      "KMN3210 ~ Knit Mini Dress(\"Womens Clothing\", \"Effortless and chic, our knit mini dress is a must-have for your wardrobe. Crafted from a soft, stretchy knit material, this form-fitting dress features a flattering silhouette and a trendy, mini length. Perfect for date nights, girls nights out, or dressing up or down. Limited-time sale - get two for the price of one!\", [Spring, Summer, Fall], 53.0, 4)\n",
      "FLT5678 ~ Flowy Linen Top(\"Womens Clothing\", Embrace effortless style with our flowy linen top. Crafted from airy, breathable linen, this relaxed top features a flattering drape and a chic, minimalist design. An ideal choice for warm weather or layering during transitional seasons., [Spring, Summer], 41.0, 8)\n",
      "DST6543 ~ Distressed Skinny Jeans(\"Womens Clothing\", Edgy meets comfortable in our distressed skinny jeans. These figure-hugging jeans feature strategic rips, fading, and a soft, stretchy denim construction. Pair them with a graphic tee for a casual, cool vibe. Limited stock - grab yours now!, [Spring, Summer, Fall], 56.0, 6)\n",
      "EMB4321 ~ Embroidered Blouse(\"Womens Clothing\", Add a touch of bohemian flair to your wardrobe with our embroidered blouse. This airy, lightweight blouse features intricate embroidery and a relaxed, flowy silhouette. An eye-catching choice for vacations, festivals, or casual outings., [Spring, Summer], 64.0, 7)\n",
      "RBB5432 ~ Ribbed Bodycon Dress(\"Womens Clothing\", \"Accentuate your curves with our ribbed bodycon dress. This form-fitting dress features a ribbed knit construction and a flattering, bodycon silhouette. A versatile choice for date nights, girls nights out, or dressing up or down.\", [Spring, Summer, Fall], 48.99, 5)\n",
      "CPT1098 ~ Camo Print Tee(\"Womens Clothing\", Embrace the military-inspired trend with our camo print tee. This casual t-shirt features a bold camo print and is crafted from soft, breathable cotton. A laidback choice for running errands, weekend wear, or layering under a jacket., [Spring, Summer, Fall], 47.0, 2)\n",
      "OVR3210 ~ Overalls Jumpsuit(\"Womens Clothing\", Channel your inner cool-girl vibe with our overalls jumpsuit. This trendy one-piece features a relaxed, oversized fit and adjustable straps for a customized look. A versatile choice for casual outings, festivals, or weekend wear., [Spring, Summer, Fall], 55.99, 6)\n",
      "BTN7654 ~ Button-Front Skirt(\"Womens Clothing\", Add a touch of retro charm to your look with our button-front skirt. This midi-length skirt features a flattering A-line silhouette and a row of buttons down the front. A versatile choice for dressing up or down., [Spring, Summer, Fall], 71.99, 4)\n",
      "CLR1098 ~ Colorblock Raincoat(\"Womens Clothing\", Brighten up rainy days with our colorblock raincoat. This water-resistant coat features a bold colorblock design and a flattering, belted silhouette. A stylish and practical choice for unpredictable weather., [Spring, Fall], 52.0, 7)\n",
      "LTH6789 ~ Leather Moto Jacket(\"Womens Clothing\", Channel your inner rebel with our leather moto jacket. This edgy jacket is crafted from buttery soft leather and features a classic moto silhouette with zippered details. An iconic piece that instantly elevates any outfit., [Fall, Winter, Spring], 72.0, 2)\n",
      "SKT4567 ~ Satin Skirt(\"Womens Clothing\", Indulge in luxury with our satin skirt. This elegant skirt features a lustrous satin fabric and a flattering, bias-cut silhouette. A sophisticated choice for date nights, cocktail parties, or dressing up any ensemble. Hurry, limited stock!, [All, seasons], 94.99, 1)\n",
      "DTD0123 ~ Denim Trucker Jacket(\"Womens Clothing\", A timeless staple, our denim trucker jacket is a must-have for any fashion-forward wardrobe. Crafted from sturdy denim, this jacket features a classic trucker silhouette with button-front closure. Layer it over dresses or pair it with jeans for a cool, casual look., [Spring, Fall], 79.0, 3)\n",
      "LGG4567 ~ Faux Leather Leggings(\"Womens Clothing\", Elevate your athleisure game with our faux leather leggings. These sleek leggings feature a ultra-soft faux leather construction and a flattering, stretchy fit. Perfect for dressing up or down and achieving an edgy, fashion-forward look., [Fall, Winter], 71.0, 2)\n",
      "CLR6789 ~ Colorblock Sweater(\"Womens Clothing\", Make a bold statement with our colorblock sweater. This eye-catching knit features a vibrant colorblock design and a relaxed, oversized silhouette. A standout piece for adding a pop of color to your cold-weather wardrobe., [Fall, Winter], 92.0, 1)\n",
      "VNL8901 ~ Vinyl Trench Coat(\"Womens Clothing\", Make a statement in our vinyl trench coat. This modern take on a classic features a sleek vinyl construction and a flattering, belted silhouette. A head-turning choice for rainy days or adding an edgy touch to any outfit., [Spring, Fall], 72.0, 2)\n",
      "FZF0123 ~ Fuzzy Fleece Jacket(\"Womens Clothing\", Cozy up in our fuzzy fleece jacket. This ultra-soft jacket features a plush, sherpa-like fleece construction and a relaxed, oversized fit. Perfect for lounging at home or running errands on chilly days., [Fall, Winter], 86.0, 2)\n",
      "CGN2345 ~ Cargo Pants(\"Womens Clothing\", Functionality meets style in our cargo pants. These utilitarian-inspired pants feature multiple pockets and a relaxed, straight-leg fit. Perfect for outdoor adventures, travel, or adding a touch of edge to your casual looks., [Spring, Summer, Fall], 80.0, 2)\n",
      "PWD6543 ~ Puffer Parka(\"Womens Clothing\", Stay toasty all winter long in our puffer parka. This heavyweight jacket features a water-resistant outer shell, cozy down insulation, and a faux-fur trimmed hood for added warmth. An essential for braving the cold in style., [Winter], 38.0, 8)\n",
      "SWT8765 ~ Sweater Dress(\"Womens Clothing\", Cozy meets chic in our sweater dress. This sweater-knit dress features a form-fitting silhouette and a trendy, midi length. Layer it over tights or leggings for a polished yet comfortable winter look., [Winter], 63.0, 6)\n",
      "FZV1098 ~ Fuzzy Vest(\"Womens Clothing\", Snuggle up in our fuzzy vest. This ultra-cozy vest features a plush, sherpa-like fleece construction and a relaxed, oversized fit. Perfect for layering over sweaters or adding a touch of warmth to any winter outfit., [Winter], 58.0, 4)\n",
      "QTD5432 ~ Quilted Down Coat(\"Womens Clothing\", Brave the cold in style with our quilted down coat. This heavyweight coat features a water-resistant outer shell, cozy down insulation, and a flattering, belted silhouette. A fashion-forward choice for staying warm all winter long., [Winter], 60.0, 4)\n",
      "FLC7654 ~ Fleece-Lined Leggings(\"Womens Clothing\", Stay warm and comfortable all winter long in our fleece-lined leggings. These stretchy leggings feature a soft, brushed interior for added warmth and a sleek, opaque outer layer. Perfect for layering under dresses, tunics, or wearing on their own., [Winter], 63.0, 7)\n",
      "LDR3210 ~ Lined Dress Coat(\"Womens Clothing\", Elevate your winter wardrobe with our lined dress coat. This elegant coat features a wool-blend outer shell, a cozy quilted lining, and a flattering, belted silhouette. A sophisticated choice for staying warm and stylish all season long., [Winter], 67.99, 3)\n",
      "WTL1098 ~ Wool Trench Coat(\"Womens Clothing\", Brave the elements in style with our wool trench coat. This classic coat features a warm wool-blend construction, a water-resistant outer shell, and a flattering, belted silhouette. A timeless and sophisticated choice for cold, rainy days., [Winter], 72.0, 2)\n",
      "SCS9876 ~ Sweater Coat(\"Womens Clothing\", Bundle up in warmth and style with our sweater coat. This cozy coat features a soft, sweater-knit construction and a flattering, belted silhouette. Perfect for layering over dresses, leggings, or jeans on chilly winter days., [Winter], 56.0, 3)\n",
      "SSN8901 ~ Stylish Sneakers(\"Womens Shoes\", Step out in style with our trendy sneakers. Combining comfort and fashion, these sneakers feature a sleek design and cushioned soles. Perfect for running errands or casual outings., [Spring, Summer, Fall], 30.0, 6)\n",
      "MSL1098 ~ Metallic Slingbacks(\"Womens Shoes\", Add a touch of glamour to your evening ensemble with our metallic slingbacks. These stylish heels feature a shimmering metallic finish and a comfortable slingback design. Perfect for dancing the night away or making a statement at a formal event., [All, seasons], 51.0, 6)\n",
      "SND7654 ~ Strappy Sandals(\"Womens Shoes\", Step into summer with our strappy sandals. These open-toe sandals feature a trendy, strappy design and a comfortable, cushioned footbed. Perfect for beach days, outdoor events, or casual weekend wear., [Spring, Summer], 27.0, 8)\n",
      "CHK8901 ~ Chunky Sneakers(\"Womens Shoes\", Step into trendy style with our chunky sneakers. These statement sneakers feature a bold, chunky sole and a sleek leather or knit upper. A must-have for fashion-savvy individuals who appreciate both style and comfort. Only a few pairs left!, [Spring, Fall], 42.0, 1)\n",
      "MLR0123 ~ Mule Loafers(\"Womens Shoes\", Slip into effortless style with our mule loafers. These sleek slip-on shoes feature a classic loafer silhouette and a trendy mule design. A chic and comfortable choice for the office, running errands, or weekend brunch., [Spring, Fall], 47.0, 2)\n",
      "CLG4567 ~ Clog Sandals(\"Womens Shoes\", Step into retro-inspired style with our clog sandals. These open-toe sandals feature a classic clog silhouette and a sturdy, wooden sole. A trendy and comfortable choice for casual outings or weekend wear., [Spring, Summer], 48.0, 3)\n",
      "SNB4321 ~ Snow Boots(\"Womens Shoes\", Brave the elements in our durable snow boots. These waterproof boots feature a rugged, lug sole for traction, a cozy fleece lining, and a water-resistant outer shell. A must-have for outdoor adventures or navigating snowy conditions., [Winter], 41.0, 5)\n"
     ]
    }
   ],
   "source": [
    "print(inventory.get_product_info())"
   ],
   "metadata": {
    "collapsed": false,
    "pycharm": {
     "name": "#%%\n"
    }
   }
  },
  {
   "cell_type": "code",
   "execution_count": 240,
   "outputs": [
    {
     "data": {
      "text/plain": "3686"
     },
     "execution_count": 240,
     "metadata": {},
     "output_type": "execute_result"
    }
   ],
   "source": [
    "MAX_TOKEN_NUM = int(4096 * 0.9)\n",
    "MAX_TOKEN_NUM"
   ],
   "metadata": {
    "collapsed": false,
    "pycharm": {
     "name": "#%%\n"
    }
   }
  },
  {
   "cell_type": "markdown",
   "source": [
    "# Task 1. Classify emails"
   ],
   "metadata": {
    "collapsed": false,
    "pycharm": {
     "name": "#%% md\n"
    }
   }
  },
  {
   "cell_type": "code",
   "execution_count": 241,
   "outputs": [
    {
     "name": "stdout",
     "output_type": "stream",
     "text": [
      "id -> E011\n",
      "subject -> Question on Retro Sunglasses Description\n",
      "message -> Hi there, The description for the RSG8901 Retro Sunglasses says they offer 'a cool, nostalgic vibe'. What era are they inspired by exactly? The 1950s, 1960s? I'm just curious about the style inspiration. Thank you!\n"
     ]
    },
    {
     "data": {
      "text/plain": "'-------------------'"
     },
     "metadata": {},
     "output_type": "display_data"
    },
    {
     "name": "stdout",
     "output_type": "stream",
     "text": [
      "\n",
      "0 => Email ID 'E001', ref: Leather Wallets, msg: Hi there, I want to order all the remaining LTH0976 Leather Bifold Wallets you have in stock. I'm opening up a small boutique shop and these would be perfect for my inventory. Thank you!\n",
      "1 => Email ID 'E002', ref: Buy Vibrant Tote with noise, msg: Good morning, I'm looking to buy the VBT2345 Vibrant Tote bag. My name is Jessica and I love tote bags, they're so convenient for carrying all my stuff. Last summer I bought this really cute straw tote that I used at the beach. Oh, and a few years ago I got this nylon tote as a free gift with purchase that I still use for groceries.\n",
      "2 => Email ID 'E003', ref: Need your help, msg: Hello, I need a new bag to carry my laptop and documents for work. My name is David and I'm having a hard time deciding which would be better - the LTH1098 Leather Backpack or the Leather Tote? Does one have more organizational pockets than the other? Any insight would be appreciated!\n",
      "3 => Email ID 'E004', ref: Buy Infinity Scarves Order, msg: Hi, I'd like to order three to four SFT1098 Infinity Scarves please. My wife loves collecting scarves in different colors and patterns.\n",
      "4 => Email ID 'E005', ref: Inquiry on Cozy Shawl Details, msg: Good day, For the CSH1098 Cozy Shawl, the description mentions it can be worn as a lightweight blanket. At $22, is the material good enough quality to use as a lap blanket? Or is it more like a thick wrapping scarf? I'm considering buying it as a gift for my grandmother. Thank you!\n",
      "5 => Email ID 'E006', ref: None, msg: Hey there, I was thinking of ordering a pair of CBT8901 Chelsea Boots, but I'll wait until Fall to actually place the order. My name is Sam and I need some new boots for the colder months.\n",
      "6 => Email ID 'E007', ref: Order for Beanies, Slippers, msg: Hi, this is Liz. Please send me 5 CLF2109 Cable Knit Beanies and 2 pairs of FZZ1098 Fuzzy Slippers. I'm prepping some holiday gift baskets.\n",
      "7 => Email ID 'E008', ref: Ordering a Versatile Scarf-like item, msg: Hello, I'd want to order one of your Versatile Scarves, the one that can be worn as a scarf, shawl, or headwrap. Thanks!\n",
      "8 => Email ID 'E009', ref: Pregunta Sobre Gorro de Punto Grueso, msg: Hola, tengo una pregunta sobre el DHN0987 Gorro de punto grueso. ¿De qué material está hecho? ¿Es lo suficientemente cálido para usar en invierno? Gracias de antemano.\n",
      "9 => Email ID 'E010', ref: Purchase Retro Sunglasses, msg: Hello, I would like to order 1 pair of RSG8901 Retro Sunglasses. Thanks!\n",
      "10 => Email ID 'E011', ref: Question on Retro Sunglasses Description, msg: Hi there, The description for the RSG8901 Retro Sunglasses says they offer 'a cool, nostalgic vibe'. What era are they inspired by exactly? The 1950s, 1960s? I'm just curious about the style inspiration. Thank you!\n",
      "11 => Email ID 'E012', ref: Rambling About a New Work Bag, msg: Hey, hope you're doing well. Last year for my birthday, my wife Emily got me a really nice leather briefcase from your store. I loved it and used it every day for work until the strap broke a few months ago. Speaking of broken things, I also need to get my lawnmower fixed before spring. Anyway, what were some of the other messenger bag or briefcase style options you have? I could go for something slightly smaller than my previous one. Oh and we also need to make dinner reservations for our anniversary next month. Maybe a nice Italian place downtown. What was I saying again? Oh right, work bags! Let me know what you'd recommend. Thanks!\n",
      "12 => Email ID 'E013', ref: Shopping for Men's Sandals, msg: Hi, my name is Marco and I need to buy a pair of slide sandals for men, in the Men's Shoes category, for the summer.\n",
      "13 => Email ID 'E014', ref: Sleek Wallet Order, msg: Please send me 1 Sleek Wallet. Thanks, Johny\n",
      "14 => Email ID 'E015', ref: Stylish Yet Practical Men's Bag Recommendation, msg: Good morning, I'm looking for a nice bag for my husband Thomas for our anniversary. He has a professional office job, but also likes outdoor activities on weekends. Which men's bag would you recommend that's both stylish and practical? Something he can use for work but also take on hikes. Thank you in advance!\n",
      "15 => Email ID 'E016', ref: Summer Wedding Guest Dress Preferences, msg: Hello, I'm looking for a dress for a summer wedding I have coming up. My name is Claire. I don't want anything too short, low-cut, or super tight-fitting. But I also don't want it to be too loose or matronly. Something flattering but still comfortable to wear for an outdoor ceremony. Any recommendations on some options that might work for me? Thank you! And bag, I think I need some travel bag.\n",
      "16 => Email ID 'E017', ref: None, msg: Hi there I want to place an order for that popular item you sell. The one that's been selling like hotcakes lately. You know what I mean right?\n",
      "17 => Email ID 'E018', ref: None, msg: Hello I'd like to buy 2 pairs of the retro sun glasses (RSG8901). Thanks\n",
      "18 => Email ID 'E019', ref: Hi, msg: Hey there, I would like to buy Chelsea Boots [CBT 89 01] from you guys! You're so awesome I'm so impressed with the quality of Fuzzy Slippers - FZZ1098 I've bought from you before. I hope the quality stays. I would like to order Retro sunglasses from you, but probably next time! Thanks\n",
      "19 => Email ID 'E020', ref: Price check, msg: Hello I'd like to know how much does Saddle bag cost and if it is suitable for spring season? Thank you, Antonio\n",
      "20 => Email ID 'E021', ref: None, msg: So I've bought quite large collection of vintage items from your store: SDE2345, DJN8901, RGD7654, CRD3210, those are perfect fit for my style! I need your advice if there are any winter hats in your store? Thank you!\n"
     ]
    },
    {
     "data": {
      "text/plain": "1"
     },
     "metadata": {},
     "output_type": "display_data"
    },
    {
     "data": {
      "text/plain": "'-------------------'"
     },
     "metadata": {},
     "output_type": "display_data"
    },
    {
     "name": "stdout",
     "output_type": "stream",
     "text": [
      "[('Inquiry', 1), ('Order', 2)]\n",
      "```python\n",
      "[\n",
      "    ('E001', 'LTH0976', 'Leather Bifold Wallet', 'all', 2),\n",
      "    ('E002', 'VBT2345', 'Vibrant Tote', '1', 2),\n",
      "    ('E003', 'LTH1098', 'Leather Backpack', 'NULL', 1),\n",
      "    ('E003', 'LTH5432', 'Leather Tote', 'NULL', 1),\n",
      "    ('E004', 'SFT1098', 'Infinity Scarf', '3 to 4', 2),\n",
      "    ('E005', 'CSH1098', 'Cozy Shawl', 'NULL', 1),\n",
      "    ('E006', 'CBT8901', 'Chelsea Boots', 'NULL', 1),\n",
      "    ('E007', 'CLF2109', 'Cable Knit Beanie', '5', 2),\n",
      "    ('E007', 'FZZ1098', 'Fuzzy Slippers', '2', 2),\n",
      "    ('E008', 'VSC6789', 'Versatile Scarf', '1', 2),\n",
      "    ('E009', 'CHN0987', 'Chunky Knit Beanie', 'NULL', 1),\n",
      "    ('E010', 'RSG8901', 'Retro Sunglasses', '1', 2),\n",
      "    ('E011', 'RSG8901', 'Retro Sunglasses', 'NULL', 1),\n",
      "    ('E012', 'LTH2109', 'Leather Messenger Bag', 'NULL', 1),\n",
      "    ('E013', 'SLD7654', 'Slide Sandals', '1', 2),\n",
      "    ('E014', 'SWL2345', 'Sleek Wallet', '1', 2),\n",
      "    ('E015', 'NULL', 'NULL', 'NULL', 1),\n",
      "    ('E016', 'NULL', 'NULL', 'NULL', 1),\n",
      "    ('E017', 'NULL', 'NULL', 'NULL', 1),\n",
      "    ('E018', 'RSG8901', 'Retro Sunglasses', '2', 2),\n",
      "    ('E019', 'CBT8901', 'Chelsea Boots', '1', 2),\n",
      "    ('E019', 'FZZ1098', 'Fuzzy Slippers', 'NULL', 1),\n",
      "    ('E020', 'SDE2345', 'Saddle Bag', 'NULL', 1),\n",
      "    ('E021', 'NULL', 'NULL', 'NULL', 1)\n",
      "]\n",
      "```\n"
     ]
    },
    {
     "data": {
      "text/plain": "'-------------------'"
     },
     "metadata": {},
     "output_type": "display_data"
    },
    {
     "name": "stdout",
     "output_type": "stream",
     "text": [
      "('E003', 'LTH1098', 'Leather Backpack', None, <RequestType.Inquiry: 1>)\n",
      "('E003', 'LTH5432', 'Leather Tote', None, <RequestType.Inquiry: 1>)\n",
      "('E005', 'CSH1098', 'Cozy Shawl', None, <RequestType.Inquiry: 1>)\n",
      "('E006', 'CBT8901', 'Chelsea Boots', None, <RequestType.Inquiry: 1>)\n",
      "('E009', 'CHN0987', 'Chunky Knit Beanie', None, <RequestType.Inquiry: 1>)\n",
      "('E011', 'RSG8901', 'Retro Sunglasses', None, <RequestType.Inquiry: 1>)\n",
      "('E012', 'LTH2109', 'Leather Messenger Bag', None, <RequestType.Inquiry: 1>)\n",
      "('E019', 'FZZ1098', 'Fuzzy Slippers', None, <RequestType.Inquiry: 1>)\n",
      "('E020', 'SDE2345', 'Saddle Bag', None, <RequestType.Inquiry: 1>)\n"
     ]
    },
    {
     "data": {
      "text/plain": "'-------------------'"
     },
     "metadata": {},
     "output_type": "display_data"
    },
    {
     "data": {
      "text/plain": "'-------------------'"
     },
     "metadata": {},
     "output_type": "display_data"
    },
    {
     "name": "stdout",
     "output_type": "stream",
     "text": [
      "('E001', 'LTH0976', 'Leather Bifold Wallet', -1, <RequestType.Order: 2>)\n",
      "('E002', 'VBT2345', 'Vibrant Tote', 1, <RequestType.Order: 2>)\n",
      "('E004', 'SFT1098', 'Infinity Scarf 3 to', 4, <RequestType.Order: 2>)\n",
      "('E007', 'CLF2109', 'Cable Knit Beanie', 5, <RequestType.Order: 2>)\n",
      "('E007', 'FZZ1098', 'Fuzzy Slippers', 2, <RequestType.Order: 2>)\n",
      "('E008', 'VSC6789', 'Versatile Scarf', 1, <RequestType.Order: 2>)\n",
      "('E010', 'RSG8901', 'Retro Sunglasses', 1, <RequestType.Order: 2>)\n",
      "('E013', 'SLD7654', 'Slide Sandals', 1, <RequestType.Order: 2>)\n",
      "('E014', 'SWL2345', 'Sleek Wallet', 1, <RequestType.Order: 2>)\n",
      "('E018', 'RSG8901', 'Retro Sunglasses', 2, <RequestType.Order: 2>)\n",
      "('E019', 'CBT8901', 'Chelsea Boots', 1, <RequestType.Order: 2>)\n"
     ]
    },
    {
     "data": {
      "text/plain": "'-------------------'"
     },
     "metadata": {},
     "output_type": "display_data"
    }
   ],
   "source": [
    "EMAILS = [Email(*tuple(row)) for _, row in emails_df.iterrows()]\n",
    "EMAILS: dict[str, Email] = {email.id: email for email in EMAILS}\n",
    "for e, v in vars(random.choice(list(EMAILS.values()))).items():\n",
    "    print(f\"{e} -> {v}\")\n",
    "\n",
    "\n",
    "def approximate_tokens(text: str):\n",
    "    # Finding words\n",
    "    words = len(text.split())\n",
    "    # Finding symbols\n",
    "    symbols = len(re.findall(r'[^\\w\\s]', text))\n",
    "    return words + symbols\n",
    "approximate_tokens(\"Hello there! How're you doing? My name is <FILL>\")\n",
    "\n",
    "\n",
    "# Assuming email has been processed into an instance on class Email\n",
    "def process_email(email: Email):\n",
    "    prompt = f\"Email ID '{email.id}', ref: {email.subject}, msg: {email.message}\"\n",
    "    tokens = approximate_tokens(prompt)\n",
    "    return prompt, tokens\n",
    "\n",
    "# Batch process emails to fill as many tokens per prompt and improve on response speed\n",
    "# This will save on the tokens used as you'd need to append a new template tokens for each email request if not using batches\n",
    "def batch_process_emails(emails: list[Email], token_limit: int = None):\n",
    "    if token_limit is None:\n",
    "        token_limit = MAX_TOKEN_NUM\n",
    "    batches = []\n",
    "    batch = \"\"\n",
    "    batch_idx = 0\n",
    "    token_num = 0\n",
    "    for i, email in enumerate(emails):\n",
    "        prompt, tokens = process_email(email)\n",
    "        if token_num + tokens + 3 > token_limit:\n",
    "            if len(batch) > 0:\n",
    "                batches.append(batch)\n",
    "            print(batch)\n",
    "            batch = \"\"\n",
    "            batch_idx = 0\n",
    "            token_num = 0\n",
    "        batch += f\"\\n{batch_idx} => {prompt}\"\n",
    "        batch_idx += 1\n",
    "        token_num += (tokens + 3)\n",
    "        # print(batch)\n",
    "        if len(batches) == 0 and i == len(emails)-1:\n",
    "            batches.append(batch)\n",
    "    return batches\n",
    "display(f\"-------------------\")\n",
    "print(batch_process_emails(list(EMAILS.values()))[0])\n",
    "display(len(batch_process_emails(list(EMAILS.values()))))\n",
    "\n",
    "\n",
    "def get_request_types():\n",
    "    return [(k, v.value) for k, v in vars(RequestType).items() if \"_\" not in k]\n",
    "\n",
    "display(f\"-------------------\")\n",
    "print(get_request_types())\n",
    "\n",
    "\n",
    "def classify_emails(emails: list[Email], max_attempts=10):\n",
    "    # using RAG techniques\n",
    "    products = str(inventory.get_available_products()).replace(\"'\", \"\")\n",
    "    request_types = str(get_request_types()).replace(\"'\", \"\")\n",
    "    template = f\"Given the following list of available products and their product_id's, {products}.\" \\\n",
    "               f\"and the enum values of the request types, {request_types}\"  \\\n",
    "               f\"\\nONLY reply (in a string format) with a generated Python list of tuples, format\" \\\n",
    "               f\"(email_id, product_id, product_name, amount, request_type_value), classifying ALL the following email messages \" \\\n",
    "               f\"into request types 'Inquiries' and 'Orders',  based on the tone and content of the emails. \" \\\n",
    "               f\"\\nNote that if product or product_id is not available the product_id set SHOULD be NULL only if the message reads like the email user was requesting something on the particular product.\" \\\n",
    "               f\"\\nNote that emails with multiple product requests MUST be split into multiples tuples for each requests.\" \\\n",
    "               f\"\\nNote that if the entire stock of an item is required, the amount value should be 'all' and 'NULL' when it is an  inquiry\" \\\n",
    "               f\"\\nENSURE that no 'NULL' should be in amount value for orders\" \\\n",
    "               f\"\\nDO NOT use an apostrophe to represent the strings\" \\\n",
    "               f\"\\nNote that the tuples MUST be in new lines:\"\n",
    "\n",
    "    def filter_requests(response_):\n",
    "        def split_words(line: str):\n",
    "            split: list[str] = []\n",
    "            for value in line.split():\n",
    "                match = re.findall(r'\\b\\w+\\b', str(value))\n",
    "                if len(match) > 0:\n",
    "                    split.append(match[0])\n",
    "            return split\n",
    "\n",
    "        def get_request_type(value: int):\n",
    "            value = int(value)\n",
    "            types = {v.value: v for k, v in vars(RequestType).items() if \"_\" not in k}\n",
    "            if value in types:\n",
    "                return types[value]\n",
    "            else:\n",
    "                raise ValueError(f\"Unknown request type '{value}'\")\n",
    "            pass\n",
    "\n",
    "        def str_combine(strings: list[str]):\n",
    "            if len(strings) > 1:\n",
    "                text = strings[0]\n",
    "                for string in strings[1:]:\n",
    "                    text += f\" {string}\"\n",
    "            elif len(strings) == 1:\n",
    "                text = strings[0]\n",
    "            else:\n",
    "                raise ValueError(f\"Cannot combine empty list of strings\")\n",
    "            return text\n",
    "\n",
    "        def get_amount(value: str):\n",
    "            if 'all' in value.lower():\n",
    "                return -1\n",
    "            elif value.isnumeric():\n",
    "                return int(value)\n",
    "            elif value.lower() in ['none', 'null']:\n",
    "                return None\n",
    "            else:\n",
    "                # raise ValueError(f\"Unknown amount value {value}\")\n",
    "                return None\n",
    "\n",
    "        # Filter the tuples from the string\n",
    "        validation_pattern_1 = r'.*\\(.*E.*\\).*'\n",
    "        validation_pattern_2 = r'.*\\[.*E.*\\].*'\n",
    "        requests_: list[str] = [line for line in response_.content.replace(\",\", \"\\t\").splitlines() if bool(re.match(validation_pattern_1, line)) or bool(re.match(validation_pattern_2, line))]\n",
    "        requests_: list[str] = [line for line in requests_ if len(line) >= 4]\n",
    "        # Filter the elements of the tuple\n",
    "        requests_: list[list[str]] = [tuple(split_words(line)) for line in requests_]\n",
    "        # Convert string tuple to an actual tuple\n",
    "        requests_: list[tuple] = [(req[0], req[1], str_combine(req[2:len(req)-2]), get_amount(req[-2]), get_request_type(req[-1])) for req in requests_]\n",
    "        # Filter the faulty tuples\n",
    "        requests_ = [req for req in requests_ if not('null' in req[2].lower() or 'none' in req[2].lower())]\n",
    "        return requests_\n",
    "\n",
    "    responses, requests = [], []\n",
    "\n",
    "    def get(text: str):\n",
    "        prompt = template + text\n",
    "        # print(prompt)\n",
    "\n",
    "        client = OpenAI(\n",
    "            base_url='https://47v4us7kyypinfb5lcligtc3x40ygqbs.lambda-url.us-east-1.on.aws/v1/',\n",
    "            api_key='a0BIj000001iX7PMAU'\n",
    "        )\n",
    "\n",
    "        completion = client.chat.completions.create(\n",
    "          model=\"gpt-4o\",\n",
    "          messages=[\n",
    "            {\"role\": \"user\", \"content\": prompt}\n",
    "          ]\n",
    "        )\n",
    "        return completion.choices[0].message\n",
    "\n",
    "    for batch in batch_process_emails(emails):\n",
    "        done = False\n",
    "        attempts_done = 0\n",
    "        response, reqs = None, None\n",
    "        while not (done or attempts_done >= max_attempts):\n",
    "            response = get(batch)\n",
    "            print(response.content)\n",
    "            reqs = filter_requests(response)\n",
    "            for req in reqs:\n",
    "                if req[-1] == RequestType.Order and not isinstance(req[-2], int):\n",
    "                    attempts_done += 1\n",
    "                    continue\n",
    "            done = True\n",
    "\n",
    "        responses.append(response)\n",
    "        requests += reqs\n",
    "\n",
    "    # Filter request types\n",
    "    inquiries = [req for req in requests if req[-1] == RequestType.Inquiry]\n",
    "    orders = [req for req in requests if req[-1] == RequestType.Order]\n",
    "\n",
    "    return responses, inquiries, orders\n",
    "\n",
    "\n",
    "inventory.requests = {}\n",
    "responses, INQUIRIES, ORDERS = classify_emails(list(EMAILS.values()))\n",
    "\n",
    "\n",
    "for r_type in [INQUIRIES, ORDERS]:\n",
    "    display(f\"-------------------\")\n",
    "    for t in r_type:\n",
    "        print(t)\n",
    "    display(f\"-------------------\")"
   ],
   "metadata": {
    "collapsed": false,
    "pycharm": {
     "name": "#%%\n"
    }
   }
  },
  {
   "cell_type": "markdown",
   "metadata": {
    "id": "lm3ZeatjYjM3",
    "pycharm": {
     "name": "#%% md\n"
    }
   },
   "source": [
    "# Task 2. Process order requests"
   ]
  },
  {
   "cell_type": "code",
   "execution_count": 242,
   "outputs": [],
   "source": [
    "for order in ORDERS:\n",
    "    email_id, product_id, product, amount, product_type = order\n",
    "    inventory.order(product_id, product, amount, EMAILS[email_id])"
   ],
   "metadata": {
    "collapsed": false,
    "pycharm": {
     "name": "#%%\n"
    }
   }
  },
  {
   "cell_type": "markdown",
   "source": [
    "# Task 3. Handle product inquiry"
   ],
   "metadata": {
    "collapsed": false,
    "pycharm": {
     "name": "#%% md\n"
    }
   }
  },
  {
   "cell_type": "code",
   "execution_count": 243,
   "outputs": [],
   "source": [
    "for inquiry in INQUIRIES:\n",
    "    email_id, product_id, product, _, product_type = inquiry\n",
    "    inventory.inquire(product_id, product, EMAILS[email_id])"
   ],
   "metadata": {
    "collapsed": false,
    "pycharm": {
     "name": "#%%\n"
    }
   }
  },
  {
   "cell_type": "markdown",
   "source": [
    "# DEBUGGING"
   ],
   "metadata": {
    "collapsed": false,
    "pycharm": {
     "name": "#%% md\n"
    }
   }
  },
  {
   "cell_type": "code",
   "execution_count": 244,
   "outputs": [],
   "source": [
    "def reply_email(request: Request):\n",
    "    # Pseudo reply to email\n",
    "    if not request.responded:\n",
    "        print(f\"For email {request.email.id} ~ #{request.id}: {request.result}\")\n",
    "        request.responded = True\n",
    "\n",
    "\n",
    "def batch_reply_email(inventory: Inventory):\n",
    "    for request in inventory.requests.values():\n",
    "        reply_email(request)"
   ],
   "metadata": {
    "collapsed": false,
    "pycharm": {
     "name": "#%%\n"
    }
   }
  },
  {
   "cell_type": "code",
   "execution_count": 245,
   "outputs": [
    {
     "name": "stdout",
     "output_type": "stream",
     "text": [
      "For email E001 ~ #RQ0: Successfully ordered 4 of Leather Bifold Wallet(#LTH0976) for $84.0\n",
      "For email E002 ~ #RQ1: Successfully ordered 1 of Vibrant Tote(#VBT2345) for $39.0\n",
      "For email E004 ~ #RQ2: Successfully ordered 4 of Infinity Scarf(#SFT1098) for $112.0\n",
      "For email E007 ~ #RQ3: Not enough stock to fill order of Cable Knit Beanie(#CLF2109); current stock=2, order amount=5\n",
      "For email E007 ~ #RQ4: Successfully ordered 2 of Fuzzy Slippers(#FZZ1098) for $58.0\n",
      "For email E008 ~ #RQ5: Successfully ordered 1 of Versatile Scarf(#VSC6789) for $23.0\n",
      "For email E010 ~ #RQ6: Successfully ordered 1 of Retro Sunglasses(#RSG8901) for $26.99\n",
      "For email E013 ~ #RQ7: Successfully ordered 1 of Slide Sandals(#SLD7654) for $22.0\n",
      "For email E014 ~ #RQ8: Successfully ordered 1 of Sleek Wallet(#SWL2345) for $30.0\n",
      "For email E018 ~ #RQ9: Retro Sunglasses(#RSG8901), is out of stock\n",
      "For email E019 ~ #RQ10: Successfully ordered 1 of Chelsea Boots(#CBT8901) for $65.0\n",
      "For email E003 ~ #RQ11: 'Leather Backpack'(#LTH1098): Upgrade your daily carry with our leather backpack. Crafted from premium leather, this stylish backpack features multiple compartments, a padded laptop sleeve, and adjustable straps for a comfortable fit. Perfect for work, travel, or everyday use.\n",
      "For email E003 ~ #RQ12: 'Leather Tote'(#LTH5432): Elevate your everyday carry with our leather tote bag. Crafted from premium, full-grain leather, this bag features a spacious interior, multiple pockets, and sturdy handles. Perfect for work, travel, or running errands in style.\n",
      "For email E005 ~ #RQ13: 'Cozy Shawl'(#CSH1098): Wrap yourself in comfort with our cozy shawl. Knitted from soft, warm yarn, this versatile accessory can be worn as a shawl, scarf, or even a lightweight blanket. Perfect for chilly evenings or adding a cozy layer to your outfit.\n",
      "For email E006 ~ #RQ14: 'Chelsea Boots'(#CBT8901): Elevate your casual looks with our Chelsea boots. These stylish ankle boots feature a sleek leather construction, elastic side panels, and a sturdy lug sole. An essential for completing modern, edgy outfits.\n",
      "For email E009 ~ #RQ15: 'Chunky Knit Beanie'(#CHN0987): Keep your head toasty with our chunky knit beanie. Knitted from thick, cozy yarn, this trendy beanie offers a slouchy, oversized fit and a touch of rustic charm. A versatile accessory to elevate your cold-weather looks.\n",
      "For email E011 ~ #RQ16: 'Retro Sunglasses'(#RSG8901): Transport yourself back in time with our retro sunglasses. These vintage-inspired shades offer a cool, nostalgic vibe while protecting your eyes from the sun's rays. Perfect for beach days or city strolls.\n",
      "For email E012 ~ #RQ17: 'Leather Messenger Bag'(#LTH2109): Carry your essentials in style with our leather messenger bag. Crafted from premium, full-grain leather, this bag features a spacious main compartment, multiple pockets, and an adjustable strap for a comfortable fit. A timeless choice for work, travel, or everyday use.\n",
      "For email E019 ~ #RQ18: 'Fuzzy Slippers'(#FZZ1098): Cozy up in our fuzzy slippers. These ultra-soft slippers feature a plush, fuzzy exterior and a cushioned, moisture-wicking footbed for ultimate comfort. An ideal choice for lounging at home or running errands on chilly days.\n",
      "For email E020 ~ #RQ19: 'Saddle Bag'(#SDE2345): Channel vintage charm with our saddle bag. This compact crossbody features a classic saddle shape and a trendy, minimalist design. Perfect for adding a touch of retro flair to any ensemble. Limited stock available!\n"
     ]
    }
   ],
   "source": [
    "batch_reply_email(inventory)\n",
    "\n",
    "# RESET responses for testing purposes\n",
    "for request in inventory.requests.values():\n",
    "    request.responded = False"
   ],
   "metadata": {
    "collapsed": false,
    "pycharm": {
     "name": "#%%\n"
    }
   }
  },
  {
   "cell_type": "code",
   "execution_count": 246,
   "outputs": [
    {
     "data": {
      "text/plain": "  product_id                name     category  \\\n0    RSG8901    Retro Sunglasses  Accessories   \n1    SWL2345        Sleek Wallet  Accessories   \n2    VSC6789     Versatile Scarf  Accessories   \n3    CSH1098          Cozy Shawl  Accessories   \n4    CHN0987  Chunky Knit Beanie  Accessories   \n\n                                         description  stock         seasons  \\\n0  Transport yourself back in time with our retro...    1.0  Spring, Summer   \n1  Keep your essentials organized and secure with...    5.0     All seasons   \n2  Add a touch of versatility to your wardrobe wi...    6.0    Spring, Fall   \n3  Wrap yourself in comfort with our cozy shawl. ...    3.0    Fall, Winter   \n4  Keep your head toasty with our chunky knit bea...    2.0    Fall, Winter   \n\n   price  \n0  26.99  \n1  30.00  \n2  23.00  \n3  22.00  \n4  22.00  ",
      "text/html": "<div>\n<style scoped>\n    .dataframe tbody tr th:only-of-type {\n        vertical-align: middle;\n    }\n\n    .dataframe tbody tr th {\n        vertical-align: top;\n    }\n\n    .dataframe thead th {\n        text-align: right;\n    }\n</style>\n<table border=\"1\" class=\"dataframe\">\n  <thead>\n    <tr style=\"text-align: right;\">\n      <th></th>\n      <th>product_id</th>\n      <th>name</th>\n      <th>category</th>\n      <th>description</th>\n      <th>stock</th>\n      <th>seasons</th>\n      <th>price</th>\n    </tr>\n  </thead>\n  <tbody>\n    <tr>\n      <th>0</th>\n      <td>RSG8901</td>\n      <td>Retro Sunglasses</td>\n      <td>Accessories</td>\n      <td>Transport yourself back in time with our retro...</td>\n      <td>1.0</td>\n      <td>Spring, Summer</td>\n      <td>26.99</td>\n    </tr>\n    <tr>\n      <th>1</th>\n      <td>SWL2345</td>\n      <td>Sleek Wallet</td>\n      <td>Accessories</td>\n      <td>Keep your essentials organized and secure with...</td>\n      <td>5.0</td>\n      <td>All seasons</td>\n      <td>30.00</td>\n    </tr>\n    <tr>\n      <th>2</th>\n      <td>VSC6789</td>\n      <td>Versatile Scarf</td>\n      <td>Accessories</td>\n      <td>Add a touch of versatility to your wardrobe wi...</td>\n      <td>6.0</td>\n      <td>Spring, Fall</td>\n      <td>23.00</td>\n    </tr>\n    <tr>\n      <th>3</th>\n      <td>CSH1098</td>\n      <td>Cozy Shawl</td>\n      <td>Accessories</td>\n      <td>Wrap yourself in comfort with our cozy shawl. ...</td>\n      <td>3.0</td>\n      <td>Fall, Winter</td>\n      <td>22.00</td>\n    </tr>\n    <tr>\n      <th>4</th>\n      <td>CHN0987</td>\n      <td>Chunky Knit Beanie</td>\n      <td>Accessories</td>\n      <td>Keep your head toasty with our chunky knit bea...</td>\n      <td>2.0</td>\n      <td>Fall, Winter</td>\n      <td>22.00</td>\n    </tr>\n  </tbody>\n</table>\n</div>"
     },
     "metadata": {},
     "output_type": "display_data"
    },
    {
     "data": {
      "text/plain": "  email_id                        subject  \\\n0     E001                Leather Wallets   \n1     E002    Buy Vibrant Tote with noise   \n2     E003                 Need your help   \n3     E004     Buy Infinity Scarves Order   \n4     E005  Inquiry on Cozy Shawl Details   \n\n                                             message  \n0  Hi there, I want to order all the remaining LT...  \n1  Good morning, I'm looking to buy the VBT2345 V...  \n2  Hello, I need a new bag to carry my laptop and...  \n3  Hi, I'd like to order three to four SFT1098 In...  \n4  Good day, For the CSH1098 Cozy Shawl, the desc...  ",
      "text/html": "<div>\n<style scoped>\n    .dataframe tbody tr th:only-of-type {\n        vertical-align: middle;\n    }\n\n    .dataframe tbody tr th {\n        vertical-align: top;\n    }\n\n    .dataframe thead th {\n        text-align: right;\n    }\n</style>\n<table border=\"1\" class=\"dataframe\">\n  <thead>\n    <tr style=\"text-align: right;\">\n      <th></th>\n      <th>email_id</th>\n      <th>subject</th>\n      <th>message</th>\n    </tr>\n  </thead>\n  <tbody>\n    <tr>\n      <th>0</th>\n      <td>E001</td>\n      <td>Leather Wallets</td>\n      <td>Hi there, I want to order all the remaining LT...</td>\n    </tr>\n    <tr>\n      <th>1</th>\n      <td>E002</td>\n      <td>Buy Vibrant Tote with noise</td>\n      <td>Good morning, I'm looking to buy the VBT2345 V...</td>\n    </tr>\n    <tr>\n      <th>2</th>\n      <td>E003</td>\n      <td>Need your help</td>\n      <td>Hello, I need a new bag to carry my laptop and...</td>\n    </tr>\n    <tr>\n      <th>3</th>\n      <td>E004</td>\n      <td>Buy Infinity Scarves Order</td>\n      <td>Hi, I'd like to order three to four SFT1098 In...</td>\n    </tr>\n    <tr>\n      <th>4</th>\n      <td>E005</td>\n      <td>Inquiry on Cozy Shawl Details</td>\n      <td>Good day, For the CSH1098 Cozy Shawl, the desc...</td>\n    </tr>\n  </tbody>\n</table>\n</div>"
     },
     "metadata": {},
     "output_type": "display_data"
    },
    {
     "data": {
      "text/plain": "  Request ID Email ID Category\n0        RQ0     E001    Order\n1        RQ1     E002    Order\n2        RQ2     E004    Order\n3        RQ3     E007    Order\n4        RQ4     E007    Order",
      "text/html": "<div>\n<style scoped>\n    .dataframe tbody tr th:only-of-type {\n        vertical-align: middle;\n    }\n\n    .dataframe tbody tr th {\n        vertical-align: top;\n    }\n\n    .dataframe thead th {\n        text-align: right;\n    }\n</style>\n<table border=\"1\" class=\"dataframe\">\n  <thead>\n    <tr style=\"text-align: right;\">\n      <th></th>\n      <th>Request ID</th>\n      <th>Email ID</th>\n      <th>Category</th>\n    </tr>\n  </thead>\n  <tbody>\n    <tr>\n      <th>0</th>\n      <td>RQ0</td>\n      <td>E001</td>\n      <td>Order</td>\n    </tr>\n    <tr>\n      <th>1</th>\n      <td>RQ1</td>\n      <td>E002</td>\n      <td>Order</td>\n    </tr>\n    <tr>\n      <th>2</th>\n      <td>RQ2</td>\n      <td>E004</td>\n      <td>Order</td>\n    </tr>\n    <tr>\n      <th>3</th>\n      <td>RQ3</td>\n      <td>E007</td>\n      <td>Order</td>\n    </tr>\n    <tr>\n      <th>4</th>\n      <td>RQ4</td>\n      <td>E007</td>\n      <td>Order</td>\n    </tr>\n  </tbody>\n</table>\n</div>"
     },
     "metadata": {},
     "output_type": "display_data"
    },
    {
     "data": {
      "text/plain": "  Request ID Email ID Product ID  Quantity        Status\n0        RQ0     E001    LTH0976        -1     Completed\n1        RQ1     E002    VBT2345         1     Completed\n2        RQ2     E004    SFT1098         4     Completed\n3        RQ3     E007    CLF2109         5  Out of Stock\n4        RQ4     E007    FZZ1098         2     Completed",
      "text/html": "<div>\n<style scoped>\n    .dataframe tbody tr th:only-of-type {\n        vertical-align: middle;\n    }\n\n    .dataframe tbody tr th {\n        vertical-align: top;\n    }\n\n    .dataframe thead th {\n        text-align: right;\n    }\n</style>\n<table border=\"1\" class=\"dataframe\">\n  <thead>\n    <tr style=\"text-align: right;\">\n      <th></th>\n      <th>Request ID</th>\n      <th>Email ID</th>\n      <th>Product ID</th>\n      <th>Quantity</th>\n      <th>Status</th>\n    </tr>\n  </thead>\n  <tbody>\n    <tr>\n      <th>0</th>\n      <td>RQ0</td>\n      <td>E001</td>\n      <td>LTH0976</td>\n      <td>-1</td>\n      <td>Completed</td>\n    </tr>\n    <tr>\n      <th>1</th>\n      <td>RQ1</td>\n      <td>E002</td>\n      <td>VBT2345</td>\n      <td>1</td>\n      <td>Completed</td>\n    </tr>\n    <tr>\n      <th>2</th>\n      <td>RQ2</td>\n      <td>E004</td>\n      <td>SFT1098</td>\n      <td>4</td>\n      <td>Completed</td>\n    </tr>\n    <tr>\n      <th>3</th>\n      <td>RQ3</td>\n      <td>E007</td>\n      <td>CLF2109</td>\n      <td>5</td>\n      <td>Out of Stock</td>\n    </tr>\n    <tr>\n      <th>4</th>\n      <td>RQ4</td>\n      <td>E007</td>\n      <td>FZZ1098</td>\n      <td>2</td>\n      <td>Completed</td>\n    </tr>\n  </tbody>\n</table>\n</div>"
     },
     "metadata": {},
     "output_type": "display_data"
    },
    {
     "data": {
      "text/plain": "  Request ID Email ID                                           Response\n0        RQ0     E001  Successfully ordered 4 of Leather Bifold Walle...\n1        RQ1     E002  Successfully ordered 1 of Vibrant Tote(#VBT234...\n2        RQ2     E004  Successfully ordered 4 of Infinity Scarf(#SFT1...\n3        RQ3     E007  Not enough stock to fill order of Cable Knit B...\n4        RQ4     E007  Successfully ordered 2 of Fuzzy Slippers(#FZZ1...",
      "text/html": "<div>\n<style scoped>\n    .dataframe tbody tr th:only-of-type {\n        vertical-align: middle;\n    }\n\n    .dataframe tbody tr th {\n        vertical-align: top;\n    }\n\n    .dataframe thead th {\n        text-align: right;\n    }\n</style>\n<table border=\"1\" class=\"dataframe\">\n  <thead>\n    <tr style=\"text-align: right;\">\n      <th></th>\n      <th>Request ID</th>\n      <th>Email ID</th>\n      <th>Response</th>\n    </tr>\n  </thead>\n  <tbody>\n    <tr>\n      <th>0</th>\n      <td>RQ0</td>\n      <td>E001</td>\n      <td>Successfully ordered 4 of Leather Bifold Walle...</td>\n    </tr>\n    <tr>\n      <th>1</th>\n      <td>RQ1</td>\n      <td>E002</td>\n      <td>Successfully ordered 1 of Vibrant Tote(#VBT234...</td>\n    </tr>\n    <tr>\n      <th>2</th>\n      <td>RQ2</td>\n      <td>E004</td>\n      <td>Successfully ordered 4 of Infinity Scarf(#SFT1...</td>\n    </tr>\n    <tr>\n      <th>3</th>\n      <td>RQ3</td>\n      <td>E007</td>\n      <td>Not enough stock to fill order of Cable Knit B...</td>\n    </tr>\n    <tr>\n      <th>4</th>\n      <td>RQ4</td>\n      <td>E007</td>\n      <td>Successfully ordered 2 of Fuzzy Slippers(#FZZ1...</td>\n    </tr>\n  </tbody>\n</table>\n</div>"
     },
     "metadata": {},
     "output_type": "display_data"
    },
    {
     "data": {
      "text/plain": "  Request ID Email ID                                           Response\n0       RQ11     E003  'Leather Backpack'(#LTH1098): Upgrade your dai...\n1       RQ12     E003  'Leather Tote'(#LTH5432): Elevate your everyda...\n2       RQ13     E005  'Cozy Shawl'(#CSH1098): Wrap yourself in comfo...\n3       RQ14     E006  'Chelsea Boots'(#CBT8901): Elevate your casual...\n4       RQ15     E009  'Chunky Knit Beanie'(#CHN0987): Keep your head...",
      "text/html": "<div>\n<style scoped>\n    .dataframe tbody tr th:only-of-type {\n        vertical-align: middle;\n    }\n\n    .dataframe tbody tr th {\n        vertical-align: top;\n    }\n\n    .dataframe thead th {\n        text-align: right;\n    }\n</style>\n<table border=\"1\" class=\"dataframe\">\n  <thead>\n    <tr style=\"text-align: right;\">\n      <th></th>\n      <th>Request ID</th>\n      <th>Email ID</th>\n      <th>Response</th>\n    </tr>\n  </thead>\n  <tbody>\n    <tr>\n      <th>0</th>\n      <td>RQ11</td>\n      <td>E003</td>\n      <td>'Leather Backpack'(#LTH1098): Upgrade your dai...</td>\n    </tr>\n    <tr>\n      <th>1</th>\n      <td>RQ12</td>\n      <td>E003</td>\n      <td>'Leather Tote'(#LTH5432): Elevate your everyda...</td>\n    </tr>\n    <tr>\n      <th>2</th>\n      <td>RQ13</td>\n      <td>E005</td>\n      <td>'Cozy Shawl'(#CSH1098): Wrap yourself in comfo...</td>\n    </tr>\n    <tr>\n      <th>3</th>\n      <td>RQ14</td>\n      <td>E006</td>\n      <td>'Chelsea Boots'(#CBT8901): Elevate your casual...</td>\n    </tr>\n    <tr>\n      <th>4</th>\n      <td>RQ15</td>\n      <td>E009</td>\n      <td>'Chunky Knit Beanie'(#CHN0987): Keep your head...</td>\n    </tr>\n  </tbody>\n</table>\n</div>"
     },
     "metadata": {},
     "output_type": "display_data"
    }
   ],
   "source": [
    "for df in spreadsheet.as_dataframe().values():\n",
    "    display(df.head())"
   ],
   "metadata": {
    "collapsed": false,
    "pycharm": {
     "name": "#%%\n"
    }
   }
  },
  {
   "cell_type": "code",
   "execution_count": 246,
   "outputs": [],
   "source": [],
   "metadata": {
    "collapsed": false,
    "pycharm": {
     "name": "#%%\n"
    }
   }
  }
 ],
 "metadata": {
  "colab": {
   "provenance": [
    {
     "file_id": "1MH0-btlh2iKODb_Go9yMBeVYPWq9imQR",
     "timestamp": 1727774774486
    }
   ]
  },
  "kernelspec": {
   "display_name": "Python 3",
   "name": "python3"
  },
  "language_info": {
   "name": "python"
  }
 },
 "nbformat": 4,
 "nbformat_minor": 0
}