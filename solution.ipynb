{
 "cells": [
  {
   "cell_type": "markdown",
   "metadata": {
    "id": "e0n49UaWPGAd",
    "pycharm": {
     "name": "#%% md\n"
    }
   },
   "source": [
    "# Solving Business Problems with AI\n",
    "\n",
    "## Objective\n",
    "Develop a proof-of-concept application to intelligently process email order requests and customer inquiries for a fashion store. The system should accurately categorize emails as either product inquiries or order requests and generate appropriate responses using the product catalog information and current stock status.\n",
    "\n",
    "## Task Description\n",
    "\n",
    "### Inputs\n",
    "\n",
    "Google Spreadsheet **[Document](https://docs.google.com/spreadsheets/d/14fKHsblfqZfWj3iAaM2oA51TlYfQlFT4WKo52fVaQ9U)** containing:\n",
    "\n",
    "- **Products**: List of products with fields including product ID, name, category, stock amount, detailed description, and season.\n",
    "\n",
    "- **Emails**: Sequential list of emails with fields such as email ID, subject, and body.\n",
    "\n",
    "### Instructions\n",
    "\n",
    "- Implement all requirements using advanced Large Language Models (LLMs) to handle complex tasks, process extensive data, and generate accurate outputs effectively.\n",
    "- Use Retrieval-Augmented Generation (RAG) and vector store techniques where applicable to retrieve relevant information and generate responses.\n",
    "- You are provided with a temporary OpenAI API key granting access to GPT-4o, which has a token quota. Use it wisely or use your own key if preferred.\n",
    "- Address the requirements in the order listed. Review them in advance to develop a general implementation plan before starting.\n",
    "- Your deliverables should include:\n",
    "   - Code developed within this notebook.\n",
    "   - A single spreadsheet containing results, organized across separate sheets.\n",
    "   - Comments detailing your thought process.\n",
    "- You may use additional libraries (e.g., langchain) to streamline the solution. Use libraries appropriately to align with best practices for AI and LLM tools.\n",
    "- Use the most suitable AI techniques for each task. Note that solving tasks with traditional programming methods will not earn points, as this assessment evaluates your knowledge of LLM tools and best practices.\n",
    "\n",
    "### Requirements\n",
    "\n",
    "#### 1. Classify emails\n",
    "    \n",
    "Classify each email as either a _**\"product inquiry\"**_ or an _**\"order request\"**_. Ensure that the classification accurately reflects the intent of the email.\n",
    "\n",
    "**Output**: Populate the **email-classification** sheet with columns: email ID, category.\n",
    "\n",
    "#### 2. Process order requests\n",
    "1.   Process orders\n",
    "  - For each order request, verify product availability in stock.\n",
    "  - If the order can be fulfilled, create a new order line with the status “created”.\n",
    "  - If the order cannot be fulfilled due to insufficient stock, create a line with the status “out of stock” and include the requested quantity.\n",
    "  - Update stock levels after processing each order.\n",
    "  - Record each product request from the email.\n",
    "  - **Output**: Populate the **order-status** sheet with columns: email ID, product ID, quantity, status (**_\"created\"_**, **_\"out of stock\"_**).\n",
    "\n",
    "2.   Generate responses\n",
    "  - Create response emails based on the order processing results:\n",
    "      - If the order is fully processed, inform the customer and provide product details.\n",
    "      - If the order cannot be fulfilled or is only partially fulfilled, explain the situation, specify the out-of-stock items, and suggest alternatives or options (e.g., waiting for restock).\n",
    "  - Ensure the email tone is professional and production-ready.\n",
    "  - **Output**: Populate the **order-response** sheet with columns: email ID, response.\n",
    "\n",
    "#### 3. Handle product inquiry\n",
    "\n",
    "Customers may ask general open questions.\n",
    "  - Respond to product inquiries using relevant information from the product catalog.\n",
    "  - Ensure your solution scales to handle a full catalog of over 100,000 products without exceeding token limits. Avoid including the entire catalog in the prompt.\n",
    "  - **Output**: Populate the **inquiry-response** sheet with columns: email ID, response.\n",
    "\n",
    "## Evaluation Criteria\n",
    "- **Advanced AI Techniques**: The system should use Retrieval-Augmented Generation (RAG) and vector store techniques to retrieve relevant information from data sources and use it to respond to customer inquiries.\n",
    "- **Tone Adaptation**: The AI should adapt its tone appropriately based on the context of the customer's inquiry. Responses should be informative and enhance the customer experience.\n",
    "- **Code Completeness**: All functionalities outlined in the requirements must be fully implemented and operational as described.\n",
    "- **Code Quality and Clarity**: The code should be well-organized, with clear logic and a structured approach. It should be easy to understand and maintain.\n",
    "- **Presence of Expected Outputs**: All specified outputs must be correctly generated and saved in the appropriate sheets of the output spreadsheet. Ensure the format of each output matches the requirements—do not add extra columns or sheets.\n",
    "- **Accuracy of Outputs**: The accuracy of the generated outputs is crucial and will significantly impact the evaluation of your submission.\n",
    "\n",
    "We look forward to seeing your solution and your approach to solving real-world problems with AI technologies."
   ]
  },
  {
   "cell_type": "markdown",
   "metadata": {
    "id": "GOUEcKe-xSPr",
    "pycharm": {
     "name": "#%% md\n"
    }
   },
   "source": [
    "# Prerequisites"
   ]
  },
  {
   "cell_type": "markdown",
   "metadata": {
    "id": "otSVe-sQ-CsW",
    "pycharm": {
     "name": "#%% md\n"
    }
   },
   "source": [
    "### Configure OpenAI API Key."
   ]
  },
  {
   "cell_type": "code",
   "execution_count": 331,
   "metadata": {
    "colab": {
     "base_uri": "https://localhost:8080/"
    },
    "executionInfo": {
     "elapsed": 15610,
     "status": "ok",
     "timestamp": 1727778408169,
     "user": {
      "displayName": "DISMAS NG'ODA",
      "userId": "17074486062948487534"
     },
     "user_tz": -180
    },
    "id": "UvOkHAkDghww",
    "outputId": "7654c55c-d1f5-4fd9-a19b-bde4bce20037",
    "pycharm": {
     "name": "#%%\n"
    }
   },
   "outputs": [
    {
     "name": "stdout",
     "output_type": "stream",
     "text": [
      "Looking in indexes: https://pypi.org/simple, https://pypi.ngc.nvidia.com\n",
      "Requirement already satisfied: openai in c:\\python3.11\\lib\\site-packages (1.50.2)\n",
      "Requirement already satisfied: anyio<5,>=3.5.0 in c:\\python3.11\\lib\\site-packages (from openai) (4.4.0)\n",
      "Requirement already satisfied: distro<2,>=1.7.0 in c:\\python3.11\\lib\\site-packages (from openai) (1.9.0)\n",
      "Requirement already satisfied: httpx<1,>=0.23.0 in c:\\python3.11\\lib\\site-packages (from openai) (0.27.0)\n",
      "Requirement already satisfied: jiter<1,>=0.4.0 in c:\\python3.11\\lib\\site-packages (from openai) (0.5.0)\n",
      "Requirement already satisfied: pydantic<3,>=1.9.0 in c:\\python3.11\\lib\\site-packages (from openai) (2.9.2)\n",
      "Requirement already satisfied: sniffio in c:\\python3.11\\lib\\site-packages (from openai) (1.3.1)\n",
      "Requirement already satisfied: tqdm>4 in c:\\python3.11\\lib\\site-packages (from openai) (4.66.5)\n",
      "Requirement already satisfied: typing-extensions<5,>=4.11 in c:\\python3.11\\lib\\site-packages (from openai) (4.12.2)\n",
      "Requirement already satisfied: idna>=2.8 in c:\\python3.11\\lib\\site-packages (from anyio<5,>=3.5.0->openai) (3.7)\n",
      "Requirement already satisfied: certifi in c:\\python3.11\\lib\\site-packages (from httpx<1,>=0.23.0->openai) (2024.7.4)\n",
      "Requirement already satisfied: httpcore==1.* in c:\\python3.11\\lib\\site-packages (from httpx<1,>=0.23.0->openai) (1.0.5)\n",
      "Requirement already satisfied: h11<0.15,>=0.13 in c:\\python3.11\\lib\\site-packages (from httpcore==1.*->httpx<1,>=0.23.0->openai) (0.14.0)\n",
      "Requirement already satisfied: annotated-types>=0.6.0 in c:\\python3.11\\lib\\site-packages (from pydantic<3,>=1.9.0->openai) (0.7.0)\n",
      "Requirement already satisfied: pydantic-core==2.23.4 in c:\\python3.11\\lib\\site-packages (from pydantic<3,>=1.9.0->openai) (2.23.4)\n",
      "Requirement already satisfied: colorama in c:\\python3.11\\lib\\site-packages (from tqdm>4->openai) (0.4.6)\n",
      "Note: you may need to restart the kernel to use updated packages.\n",
      "Looking in indexes: https://pypi.org/simple, https://pypi.ngc.nvidia.com\n",
      "Requirement already satisfied: langchain in c:\\python3.11\\lib\\site-packages (0.3.1)\n",
      "Requirement already satisfied: openai in c:\\python3.11\\lib\\site-packages (1.50.2)\n",
      "Requirement already satisfied: chromadb in c:\\python3.11\\lib\\site-packages (0.5.11)\n",
      "Requirement already satisfied: gspread in c:\\python3.11\\lib\\site-packages (6.1.2)\n",
      "Requirement already satisfied: oauth2client in c:\\python3.11\\lib\\site-packages (4.1.3)\n",
      "Requirement already satisfied: pandas in c:\\python3.11\\lib\\site-packages (2.2.2)\n",
      "Requirement already satisfied: PyYAML>=5.3 in c:\\python3.11\\lib\\site-packages (from langchain) (6.0.1)\n",
      "Requirement already satisfied: SQLAlchemy<3,>=1.4 in c:\\python3.11\\lib\\site-packages (from langchain) (2.0.35)\n",
      "Requirement already satisfied: aiohttp<4.0.0,>=3.8.3 in c:\\python3.11\\lib\\site-packages (from langchain) (3.10.8)\n",
      "Requirement already satisfied: langchain-core<0.4.0,>=0.3.6 in c:\\python3.11\\lib\\site-packages (from langchain) (0.3.7)\n",
      "Requirement already satisfied: langchain-text-splitters<0.4.0,>=0.3.0 in c:\\python3.11\\lib\\site-packages (from langchain) (0.3.0)\n",
      "Requirement already satisfied: langsmith<0.2.0,>=0.1.17 in c:\\python3.11\\lib\\site-packages (from langchain) (0.1.129)\n",
      "Requirement already satisfied: numpy<2,>=1 in c:\\python3.11\\lib\\site-packages (from langchain) (1.26.4)\n",
      "Requirement already satisfied: pydantic<3.0.0,>=2.7.4 in c:\\python3.11\\lib\\site-packages (from langchain) (2.9.2)\n",
      "Requirement already satisfied: requests<3,>=2 in c:\\python3.11\\lib\\site-packages (from langchain) (2.32.3)\n",
      "Requirement already satisfied: tenacity!=8.4.0,<9.0.0,>=8.1.0 in c:\\python3.11\\lib\\site-packages (from langchain) (8.5.0)\n",
      "Requirement already satisfied: anyio<5,>=3.5.0 in c:\\python3.11\\lib\\site-packages (from openai) (4.4.0)\n",
      "Requirement already satisfied: distro<2,>=1.7.0 in c:\\python3.11\\lib\\site-packages (from openai) (1.9.0)\n",
      "Requirement already satisfied: httpx<1,>=0.23.0 in c:\\python3.11\\lib\\site-packages (from openai) (0.27.0)\n",
      "Requirement already satisfied: jiter<1,>=0.4.0 in c:\\python3.11\\lib\\site-packages (from openai) (0.5.0)\n",
      "Requirement already satisfied: sniffio in c:\\python3.11\\lib\\site-packages (from openai) (1.3.1)\n",
      "Requirement already satisfied: tqdm>4 in c:\\python3.11\\lib\\site-packages (from openai) (4.66.5)\n",
      "Requirement already satisfied: typing-extensions<5,>=4.11 in c:\\python3.11\\lib\\site-packages (from openai) (4.12.2)\n",
      "Requirement already satisfied: build>=1.0.3 in c:\\python3.11\\lib\\site-packages (from chromadb) (1.2.2)\n",
      "Requirement already satisfied: chroma-hnswlib==0.7.6 in c:\\python3.11\\lib\\site-packages (from chromadb) (0.7.6)\n",
      "Requirement already satisfied: fastapi>=0.95.2 in c:\\python3.11\\lib\\site-packages (from chromadb) (0.115.0)\n",
      "Requirement already satisfied: uvicorn>=0.18.3 in c:\\python3.11\\lib\\site-packages (from uvicorn[standard]>=0.18.3->chromadb) (0.31.0)\n",
      "Requirement already satisfied: posthog>=2.4.0 in c:\\python3.11\\lib\\site-packages (from chromadb) (3.6.6)\n",
      "Requirement already satisfied: onnxruntime>=1.14.1 in c:\\python3.11\\lib\\site-packages (from chromadb) (1.19.2)\n",
      "Requirement already satisfied: opentelemetry-api>=1.2.0 in c:\\python3.11\\lib\\site-packages (from chromadb) (1.27.0)\n",
      "Requirement already satisfied: opentelemetry-exporter-otlp-proto-grpc>=1.2.0 in c:\\python3.11\\lib\\site-packages (from chromadb) (1.27.0)\n",
      "Requirement already satisfied: opentelemetry-instrumentation-fastapi>=0.41b0 in c:\\python3.11\\lib\\site-packages (from chromadb) (0.48b0)\n",
      "Requirement already satisfied: opentelemetry-sdk>=1.2.0 in c:\\python3.11\\lib\\site-packages (from chromadb) (1.27.0)\n",
      "Requirement already satisfied: tokenizers>=0.13.2 in c:\\python3.11\\lib\\site-packages (from chromadb) (0.19.1)\n",
      "Requirement already satisfied: pypika>=0.48.9 in c:\\python3.11\\lib\\site-packages (from chromadb) (0.48.9)\n",
      "Requirement already satisfied: overrides>=7.3.1 in c:\\python3.11\\lib\\site-packages (from chromadb) (7.7.0)\n",
      "Requirement already satisfied: importlib-resources in c:\\python3.11\\lib\\site-packages (from chromadb) (6.4.5)\n",
      "Requirement already satisfied: grpcio>=1.58.0 in c:\\python3.11\\lib\\site-packages (from chromadb) (1.65.1)\n",
      "Requirement already satisfied: bcrypt>=4.0.1 in c:\\python3.11\\lib\\site-packages (from chromadb) (4.2.0)\n",
      "Requirement already satisfied: typer>=0.9.0 in c:\\python3.11\\lib\\site-packages (from chromadb) (0.12.5)\n",
      "Requirement already satisfied: kubernetes>=28.1.0 in c:\\python3.11\\lib\\site-packages (from chromadb) (31.0.0)\n",
      "Requirement already satisfied: mmh3>=4.0.1 in c:\\python3.11\\lib\\site-packages (from chromadb) (5.0.1)\n",
      "Requirement already satisfied: orjson>=3.9.12 in c:\\python3.11\\lib\\site-packages (from chromadb) (3.10.7)\n",
      "Requirement already satisfied: rich>=10.11.0 in c:\\python3.11\\lib\\site-packages (from chromadb) (13.9.1)\n",
      "Requirement already satisfied: google-auth>=1.12.0 in c:\\python3.11\\lib\\site-packages (from gspread) (2.35.0)\n",
      "Requirement already satisfied: google-auth-oauthlib>=0.4.1 in c:\\python3.11\\lib\\site-packages (from gspread) (1.2.1)\n",
      "Requirement already satisfied: httplib2>=0.9.1 in c:\\python3.11\\lib\\site-packages (from oauth2client) (0.22.0)\n",
      "Requirement already satisfied: pyasn1>=0.1.7 in c:\\python3.11\\lib\\site-packages (from oauth2client) (0.6.1)\n",
      "Requirement already satisfied: pyasn1-modules>=0.0.5 in c:\\python3.11\\lib\\site-packages (from oauth2client) (0.4.1)\n",
      "Requirement already satisfied: rsa>=3.1.4 in c:\\python3.11\\lib\\site-packages (from oauth2client) (4.9)\n",
      "Requirement already satisfied: six>=1.6.1 in c:\\python3.11\\lib\\site-packages (from oauth2client) (1.16.0)\n",
      "Requirement already satisfied: python-dateutil>=2.8.2 in c:\\python3.11\\lib\\site-packages (from pandas) (2.9.0.post0)\n",
      "Requirement already satisfied: pytz>=2020.1 in c:\\python3.11\\lib\\site-packages (from pandas) (2024.1)\n",
      "Requirement already satisfied: tzdata>=2022.7 in c:\\python3.11\\lib\\site-packages (from pandas) (2024.1)\n",
      "Requirement already satisfied: aiohappyeyeballs>=2.3.0 in c:\\python3.11\\lib\\site-packages (from aiohttp<4.0.0,>=3.8.3->langchain) (2.4.3)\n",
      "Requirement already satisfied: aiosignal>=1.1.2 in c:\\python3.11\\lib\\site-packages (from aiohttp<4.0.0,>=3.8.3->langchain) (1.3.1)\n",
      "Requirement already satisfied: attrs>=17.3.0 in c:\\python3.11\\lib\\site-packages (from aiohttp<4.0.0,>=3.8.3->langchain) (23.2.0)\n",
      "Requirement already satisfied: frozenlist>=1.1.1 in c:\\python3.11\\lib\\site-packages (from aiohttp<4.0.0,>=3.8.3->langchain) (1.4.1)\n",
      "Requirement already satisfied: multidict<7.0,>=4.5 in c:\\python3.11\\lib\\site-packages (from aiohttp<4.0.0,>=3.8.3->langchain) (6.1.0)\n",
      "Requirement already satisfied: yarl<2.0,>=1.12.0 in c:\\python3.11\\lib\\site-packages (from aiohttp<4.0.0,>=3.8.3->langchain) (1.13.1)\n",
      "Requirement already satisfied: idna>=2.8 in c:\\python3.11\\lib\\site-packages (from anyio<5,>=3.5.0->openai) (3.7)\n",
      "Requirement already satisfied: packaging>=19.1 in c:\\python3.11\\lib\\site-packages (from build>=1.0.3->chromadb) (24.1)\n",
      "Requirement already satisfied: pyproject_hooks in c:\\python3.11\\lib\\site-packages (from build>=1.0.3->chromadb) (1.2.0)\n",
      "Requirement already satisfied: colorama in c:\\python3.11\\lib\\site-packages (from build>=1.0.3->chromadb) (0.4.6)\n",
      "Requirement already satisfied: starlette<0.39.0,>=0.37.2 in c:\\python3.11\\lib\\site-packages (from fastapi>=0.95.2->chromadb) (0.38.6)\n",
      "Requirement already satisfied: cachetools<6.0,>=2.0.0 in c:\\python3.11\\lib\\site-packages (from google-auth>=1.12.0->gspread) (5.5.0)\n",
      "Requirement already satisfied: requests-oauthlib>=0.7.0 in c:\\python3.11\\lib\\site-packages (from google-auth-oauthlib>=0.4.1->gspread) (2.0.0)\n",
      "Requirement already satisfied: pyparsing!=3.0.0,!=3.0.1,!=3.0.2,!=3.0.3,<4,>=2.4.2 in c:\\python3.11\\lib\\site-packages (from httplib2>=0.9.1->oauth2client) (3.1.2)\n",
      "Requirement already satisfied: certifi in c:\\python3.11\\lib\\site-packages (from httpx<1,>=0.23.0->openai) (2024.7.4)\n",
      "Requirement already satisfied: httpcore==1.* in c:\\python3.11\\lib\\site-packages (from httpx<1,>=0.23.0->openai) (1.0.5)\n",
      "Requirement already satisfied: h11<0.15,>=0.13 in c:\\python3.11\\lib\\site-packages (from httpcore==1.*->httpx<1,>=0.23.0->openai) (0.14.0)\n",
      "Requirement already satisfied: websocket-client!=0.40.0,!=0.41.*,!=0.42.*,>=0.32.0 in c:\\python3.11\\lib\\site-packages (from kubernetes>=28.1.0->chromadb) (1.8.0)\n",
      "Requirement already satisfied: oauthlib>=3.2.2 in c:\\python3.11\\lib\\site-packages (from kubernetes>=28.1.0->chromadb) (3.2.2)\n",
      "Requirement already satisfied: urllib3>=1.24.2 in c:\\python3.11\\lib\\site-packages (from kubernetes>=28.1.0->chromadb) (2.2.2)\n",
      "Requirement already satisfied: durationpy>=0.7 in c:\\python3.11\\lib\\site-packages (from kubernetes>=28.1.0->chromadb) (0.8)\n",
      "Requirement already satisfied: jsonpatch<2.0,>=1.33 in c:\\python3.11\\lib\\site-packages (from langchain-core<0.4.0,>=0.3.6->langchain) (1.33)\n",
      "Requirement already satisfied: coloredlogs in c:\\python3.11\\lib\\site-packages (from onnxruntime>=1.14.1->chromadb) (15.0.1)\n",
      "Requirement already satisfied: flatbuffers in c:\\python3.11\\lib\\site-packages (from onnxruntime>=1.14.1->chromadb) (24.3.25)\n",
      "Requirement already satisfied: protobuf in c:\\python3.11\\lib\\site-packages (from onnxruntime>=1.14.1->chromadb) (4.25.3)\n",
      "Requirement already satisfied: sympy in c:\\python3.11\\lib\\site-packages (from onnxruntime>=1.14.1->chromadb) (1.12)\n",
      "Requirement already satisfied: deprecated>=1.2.6 in c:\\python3.11\\lib\\site-packages (from opentelemetry-api>=1.2.0->chromadb) (1.2.14)\n",
      "Requirement already satisfied: importlib-metadata<=8.4.0,>=6.0 in c:\\python3.11\\lib\\site-packages (from opentelemetry-api>=1.2.0->chromadb) (8.4.0)\n",
      "Requirement already satisfied: googleapis-common-protos~=1.52 in c:\\python3.11\\lib\\site-packages (from opentelemetry-exporter-otlp-proto-grpc>=1.2.0->chromadb) (1.65.0)\n",
      "Requirement already satisfied: opentelemetry-exporter-otlp-proto-common==1.27.0 in c:\\python3.11\\lib\\site-packages (from opentelemetry-exporter-otlp-proto-grpc>=1.2.0->chromadb) (1.27.0)\n",
      "Requirement already satisfied: opentelemetry-proto==1.27.0 in c:\\python3.11\\lib\\site-packages (from opentelemetry-exporter-otlp-proto-grpc>=1.2.0->chromadb) (1.27.0)\n",
      "Requirement already satisfied: opentelemetry-instrumentation-asgi==0.48b0 in c:\\python3.11\\lib\\site-packages (from opentelemetry-instrumentation-fastapi>=0.41b0->chromadb) (0.48b0)\n",
      "Requirement already satisfied: opentelemetry-instrumentation==0.48b0 in c:\\python3.11\\lib\\site-packages (from opentelemetry-instrumentation-fastapi>=0.41b0->chromadb) (0.48b0)\n",
      "Requirement already satisfied: opentelemetry-semantic-conventions==0.48b0 in c:\\python3.11\\lib\\site-packages (from opentelemetry-instrumentation-fastapi>=0.41b0->chromadb) (0.48b0)\n",
      "Requirement already satisfied: opentelemetry-util-http==0.48b0 in c:\\python3.11\\lib\\site-packages (from opentelemetry-instrumentation-fastapi>=0.41b0->chromadb) (0.48b0)\n",
      "Requirement already satisfied: setuptools>=16.0 in c:\\python3.11\\lib\\site-packages (from opentelemetry-instrumentation==0.48b0->opentelemetry-instrumentation-fastapi>=0.41b0->chromadb) (65.5.0)\n",
      "Requirement already satisfied: wrapt<2.0.0,>=1.0.0 in c:\\python3.11\\lib\\site-packages (from opentelemetry-instrumentation==0.48b0->opentelemetry-instrumentation-fastapi>=0.41b0->chromadb) (1.16.0)\n",
      "Requirement already satisfied: asgiref~=3.0 in c:\\python3.11\\lib\\site-packages (from opentelemetry-instrumentation-asgi==0.48b0->opentelemetry-instrumentation-fastapi>=0.41b0->chromadb) (3.8.1)\n",
      "Requirement already satisfied: monotonic>=1.5 in c:\\python3.11\\lib\\site-packages (from posthog>=2.4.0->chromadb) (1.6)\n",
      "Requirement already satisfied: backoff>=1.10.0 in c:\\python3.11\\lib\\site-packages (from posthog>=2.4.0->chromadb) (2.2.1)\n",
      "Requirement already satisfied: annotated-types>=0.6.0 in c:\\python3.11\\lib\\site-packages (from pydantic<3.0.0,>=2.7.4->langchain) (0.7.0)\n",
      "Requirement already satisfied: pydantic-core==2.23.4 in c:\\python3.11\\lib\\site-packages (from pydantic<3.0.0,>=2.7.4->langchain) (2.23.4)\n",
      "Requirement already satisfied: charset-normalizer<4,>=2 in c:\\python3.11\\lib\\site-packages (from requests<3,>=2->langchain) (3.3.2)\n",
      "Requirement already satisfied: markdown-it-py>=2.2.0 in c:\\python3.11\\lib\\site-packages (from rich>=10.11.0->chromadb) (3.0.0)\n",
      "Requirement already satisfied: pygments<3.0.0,>=2.13.0 in c:\\python3.11\\lib\\site-packages (from rich>=10.11.0->chromadb) (2.18.0)\n",
      "Requirement already satisfied: greenlet!=0.4.17 in c:\\python3.11\\lib\\site-packages (from SQLAlchemy<3,>=1.4->langchain) (3.1.1)\n",
      "Requirement already satisfied: huggingface-hub<1.0,>=0.16.4 in c:\\python3.11\\lib\\site-packages (from tokenizers>=0.13.2->chromadb) (0.24.5)\n",
      "Requirement already satisfied: click>=8.0.0 in c:\\python3.11\\lib\\site-packages (from typer>=0.9.0->chromadb) (8.1.7)\n",
      "Requirement already satisfied: shellingham>=1.3.0 in c:\\python3.11\\lib\\site-packages (from typer>=0.9.0->chromadb) (1.5.4)\n",
      "Requirement already satisfied: httptools>=0.5.0 in c:\\python3.11\\lib\\site-packages (from uvicorn[standard]>=0.18.3->chromadb) (0.6.1)\n",
      "Requirement already satisfied: python-dotenv>=0.13 in c:\\python3.11\\lib\\site-packages (from uvicorn[standard]>=0.18.3->chromadb) (1.0.1)\n",
      "Requirement already satisfied: watchfiles>=0.13 in c:\\python3.11\\lib\\site-packages (from uvicorn[standard]>=0.18.3->chromadb) (0.24.0)\n",
      "Requirement already satisfied: websockets>=10.4 in c:\\python3.11\\lib\\site-packages (from uvicorn[standard]>=0.18.3->chromadb) (13.1)\n",
      "Requirement already satisfied: filelock in c:\\python3.11\\lib\\site-packages (from huggingface-hub<1.0,>=0.16.4->tokenizers>=0.13.2->chromadb) (3.13.1)\n",
      "Requirement already satisfied: fsspec>=2023.5.0 in c:\\python3.11\\lib\\site-packages (from huggingface-hub<1.0,>=0.16.4->tokenizers>=0.13.2->chromadb) (2024.2.0)\n",
      "Requirement already satisfied: zipp>=0.5 in c:\\python3.11\\lib\\site-packages (from importlib-metadata<=8.4.0,>=6.0->opentelemetry-api>=1.2.0->chromadb) (3.20.2)\n",
      "Requirement already satisfied: jsonpointer>=1.9 in c:\\python3.11\\lib\\site-packages (from jsonpatch<2.0,>=1.33->langchain-core<0.4.0,>=0.3.6->langchain) (3.0.0)\n",
      "Requirement already satisfied: mdurl~=0.1 in c:\\python3.11\\lib\\site-packages (from markdown-it-py>=2.2.0->rich>=10.11.0->chromadb) (0.1.2)\n",
      "Requirement already satisfied: humanfriendly>=9.1 in c:\\python3.11\\lib\\site-packages (from coloredlogs->onnxruntime>=1.14.1->chromadb) (10.0)\n",
      "Requirement already satisfied: mpmath>=0.19 in c:\\python3.11\\lib\\site-packages (from sympy->onnxruntime>=1.14.1->chromadb) (1.3.0)\n",
      "Requirement already satisfied: pyreadline3 in c:\\python3.11\\lib\\site-packages (from humanfriendly>=9.1->coloredlogs->onnxruntime>=1.14.1->chromadb) (3.5.4)\n",
      "Note: you may need to restart the kernel to use updated packages.\n",
      "Looking in indexes: https://pypi.org/simple, https://pypi.ngc.nvidia.com\n",
      "Requirement already satisfied: langchain in c:\\python3.11\\lib\\site-packages (0.3.1)\n",
      "Requirement already satisfied: openai in c:\\python3.11\\lib\\site-packages (1.50.2)\n",
      "Collecting openai\n",
      "  Downloading openai-1.51.0-py3-none-any.whl.metadata (24 kB)\n",
      "Requirement already satisfied: chromadb in c:\\python3.11\\lib\\site-packages (0.5.11)\n",
      "Requirement already satisfied: PyYAML>=5.3 in c:\\python3.11\\lib\\site-packages (from langchain) (6.0.1)\n",
      "Requirement already satisfied: SQLAlchemy<3,>=1.4 in c:\\python3.11\\lib\\site-packages (from langchain) (2.0.35)\n",
      "Requirement already satisfied: aiohttp<4.0.0,>=3.8.3 in c:\\python3.11\\lib\\site-packages (from langchain) (3.10.8)\n",
      "Requirement already satisfied: langchain-core<0.4.0,>=0.3.6 in c:\\python3.11\\lib\\site-packages (from langchain) (0.3.7)\n",
      "Requirement already satisfied: langchain-text-splitters<0.4.0,>=0.3.0 in c:\\python3.11\\lib\\site-packages (from langchain) (0.3.0)\n",
      "Requirement already satisfied: langsmith<0.2.0,>=0.1.17 in c:\\python3.11\\lib\\site-packages (from langchain) (0.1.129)\n",
      "Requirement already satisfied: numpy<2,>=1 in c:\\python3.11\\lib\\site-packages (from langchain) (1.26.4)\n",
      "Requirement already satisfied: pydantic<3.0.0,>=2.7.4 in c:\\python3.11\\lib\\site-packages (from langchain) (2.9.2)\n",
      "Requirement already satisfied: requests<3,>=2 in c:\\python3.11\\lib\\site-packages (from langchain) (2.32.3)\n",
      "Requirement already satisfied: tenacity!=8.4.0,<9.0.0,>=8.1.0 in c:\\python3.11\\lib\\site-packages (from langchain) (8.5.0)\n",
      "Requirement already satisfied: anyio<5,>=3.5.0 in c:\\python3.11\\lib\\site-packages (from openai) (4.4.0)\n",
      "Requirement already satisfied: distro<2,>=1.7.0 in c:\\python3.11\\lib\\site-packages (from openai) (1.9.0)\n",
      "Requirement already satisfied: httpx<1,>=0.23.0 in c:\\python3.11\\lib\\site-packages (from openai) (0.27.0)\n",
      "Requirement already satisfied: jiter<1,>=0.4.0 in c:\\python3.11\\lib\\site-packages (from openai) (0.5.0)\n",
      "Requirement already satisfied: sniffio in c:\\python3.11\\lib\\site-packages (from openai) (1.3.1)\n",
      "Requirement already satisfied: tqdm>4 in c:\\python3.11\\lib\\site-packages (from openai) (4.66.5)\n",
      "Requirement already satisfied: typing-extensions<5,>=4.11 in c:\\python3.11\\lib\\site-packages (from openai) (4.12.2)\n",
      "Requirement already satisfied: build>=1.0.3 in c:\\python3.11\\lib\\site-packages (from chromadb) (1.2.2)\n",
      "Requirement already satisfied: chroma-hnswlib==0.7.6 in c:\\python3.11\\lib\\site-packages (from chromadb) (0.7.6)\n",
      "Requirement already satisfied: fastapi>=0.95.2 in c:\\python3.11\\lib\\site-packages (from chromadb) (0.115.0)\n",
      "Requirement already satisfied: uvicorn>=0.18.3 in c:\\python3.11\\lib\\site-packages (from uvicorn[standard]>=0.18.3->chromadb) (0.31.0)\n",
      "Requirement already satisfied: posthog>=2.4.0 in c:\\python3.11\\lib\\site-packages (from chromadb) (3.6.6)\n",
      "Requirement already satisfied: onnxruntime>=1.14.1 in c:\\python3.11\\lib\\site-packages (from chromadb) (1.19.2)\n",
      "Requirement already satisfied: opentelemetry-api>=1.2.0 in c:\\python3.11\\lib\\site-packages (from chromadb) (1.27.0)\n",
      "Requirement already satisfied: opentelemetry-exporter-otlp-proto-grpc>=1.2.0 in c:\\python3.11\\lib\\site-packages (from chromadb) (1.27.0)\n",
      "Requirement already satisfied: opentelemetry-instrumentation-fastapi>=0.41b0 in c:\\python3.11\\lib\\site-packages (from chromadb) (0.48b0)\n",
      "Requirement already satisfied: opentelemetry-sdk>=1.2.0 in c:\\python3.11\\lib\\site-packages (from chromadb) (1.27.0)\n",
      "Requirement already satisfied: tokenizers>=0.13.2 in c:\\python3.11\\lib\\site-packages (from chromadb) (0.19.1)\n",
      "Requirement already satisfied: pypika>=0.48.9 in c:\\python3.11\\lib\\site-packages (from chromadb) (0.48.9)\n",
      "Requirement already satisfied: overrides>=7.3.1 in c:\\python3.11\\lib\\site-packages (from chromadb) (7.7.0)\n",
      "Requirement already satisfied: importlib-resources in c:\\python3.11\\lib\\site-packages (from chromadb) (6.4.5)\n",
      "Requirement already satisfied: grpcio>=1.58.0 in c:\\python3.11\\lib\\site-packages (from chromadb) (1.65.1)\n",
      "Requirement already satisfied: bcrypt>=4.0.1 in c:\\python3.11\\lib\\site-packages (from chromadb) (4.2.0)\n",
      "Requirement already satisfied: typer>=0.9.0 in c:\\python3.11\\lib\\site-packages (from chromadb) (0.12.5)\n",
      "Requirement already satisfied: kubernetes>=28.1.0 in c:\\python3.11\\lib\\site-packages (from chromadb) (31.0.0)\n",
      "Requirement already satisfied: mmh3>=4.0.1 in c:\\python3.11\\lib\\site-packages (from chromadb) (5.0.1)\n",
      "Requirement already satisfied: orjson>=3.9.12 in c:\\python3.11\\lib\\site-packages (from chromadb) (3.10.7)\n",
      "Requirement already satisfied: rich>=10.11.0 in c:\\python3.11\\lib\\site-packages (from chromadb) (13.9.1)\n",
      "Requirement already satisfied: aiohappyeyeballs>=2.3.0 in c:\\python3.11\\lib\\site-packages (from aiohttp<4.0.0,>=3.8.3->langchain) (2.4.3)\n",
      "Requirement already satisfied: aiosignal>=1.1.2 in c:\\python3.11\\lib\\site-packages (from aiohttp<4.0.0,>=3.8.3->langchain) (1.3.1)\n",
      "Requirement already satisfied: attrs>=17.3.0 in c:\\python3.11\\lib\\site-packages (from aiohttp<4.0.0,>=3.8.3->langchain) (23.2.0)\n",
      "Requirement already satisfied: frozenlist>=1.1.1 in c:\\python3.11\\lib\\site-packages (from aiohttp<4.0.0,>=3.8.3->langchain) (1.4.1)\n",
      "Requirement already satisfied: multidict<7.0,>=4.5 in c:\\python3.11\\lib\\site-packages (from aiohttp<4.0.0,>=3.8.3->langchain) (6.1.0)\n",
      "Requirement already satisfied: yarl<2.0,>=1.12.0 in c:\\python3.11\\lib\\site-packages (from aiohttp<4.0.0,>=3.8.3->langchain) (1.13.1)\n",
      "Requirement already satisfied: idna>=2.8 in c:\\python3.11\\lib\\site-packages (from anyio<5,>=3.5.0->openai) (3.7)\n",
      "Requirement already satisfied: packaging>=19.1 in c:\\python3.11\\lib\\site-packages (from build>=1.0.3->chromadb) (24.1)\n",
      "Requirement already satisfied: pyproject_hooks in c:\\python3.11\\lib\\site-packages (from build>=1.0.3->chromadb) (1.2.0)\n",
      "Requirement already satisfied: colorama in c:\\python3.11\\lib\\site-packages (from build>=1.0.3->chromadb) (0.4.6)\n",
      "Requirement already satisfied: starlette<0.39.0,>=0.37.2 in c:\\python3.11\\lib\\site-packages (from fastapi>=0.95.2->chromadb) (0.38.6)\n",
      "Requirement already satisfied: certifi in c:\\python3.11\\lib\\site-packages (from httpx<1,>=0.23.0->openai) (2024.7.4)\n",
      "Requirement already satisfied: httpcore==1.* in c:\\python3.11\\lib\\site-packages (from httpx<1,>=0.23.0->openai) (1.0.5)\n",
      "Requirement already satisfied: h11<0.15,>=0.13 in c:\\python3.11\\lib\\site-packages (from httpcore==1.*->httpx<1,>=0.23.0->openai) (0.14.0)\n",
      "Requirement already satisfied: six>=1.9.0 in c:\\python3.11\\lib\\site-packages (from kubernetes>=28.1.0->chromadb) (1.16.0)\n",
      "Requirement already satisfied: python-dateutil>=2.5.3 in c:\\python3.11\\lib\\site-packages (from kubernetes>=28.1.0->chromadb) (2.9.0.post0)\n",
      "Requirement already satisfied: google-auth>=1.0.1 in c:\\python3.11\\lib\\site-packages (from kubernetes>=28.1.0->chromadb) (2.35.0)\n",
      "Requirement already satisfied: websocket-client!=0.40.0,!=0.41.*,!=0.42.*,>=0.32.0 in c:\\python3.11\\lib\\site-packages (from kubernetes>=28.1.0->chromadb) (1.8.0)\n",
      "Requirement already satisfied: requests-oauthlib in c:\\python3.11\\lib\\site-packages (from kubernetes>=28.1.0->chromadb) (2.0.0)\n",
      "Requirement already satisfied: oauthlib>=3.2.2 in c:\\python3.11\\lib\\site-packages (from kubernetes>=28.1.0->chromadb) (3.2.2)\n",
      "Requirement already satisfied: urllib3>=1.24.2 in c:\\python3.11\\lib\\site-packages (from kubernetes>=28.1.0->chromadb) (2.2.2)\n",
      "Requirement already satisfied: durationpy>=0.7 in c:\\python3.11\\lib\\site-packages (from kubernetes>=28.1.0->chromadb) (0.8)\n",
      "Requirement already satisfied: jsonpatch<2.0,>=1.33 in c:\\python3.11\\lib\\site-packages (from langchain-core<0.4.0,>=0.3.6->langchain) (1.33)\n",
      "Requirement already satisfied: coloredlogs in c:\\python3.11\\lib\\site-packages (from onnxruntime>=1.14.1->chromadb) (15.0.1)\n",
      "Requirement already satisfied: flatbuffers in c:\\python3.11\\lib\\site-packages (from onnxruntime>=1.14.1->chromadb) (24.3.25)\n",
      "Requirement already satisfied: protobuf in c:\\python3.11\\lib\\site-packages (from onnxruntime>=1.14.1->chromadb) (4.25.3)\n",
      "Requirement already satisfied: sympy in c:\\python3.11\\lib\\site-packages (from onnxruntime>=1.14.1->chromadb) (1.12)\n",
      "Requirement already satisfied: deprecated>=1.2.6 in c:\\python3.11\\lib\\site-packages (from opentelemetry-api>=1.2.0->chromadb) (1.2.14)\n",
      "Requirement already satisfied: importlib-metadata<=8.4.0,>=6.0 in c:\\python3.11\\lib\\site-packages (from opentelemetry-api>=1.2.0->chromadb) (8.4.0)\n",
      "Requirement already satisfied: googleapis-common-protos~=1.52 in c:\\python3.11\\lib\\site-packages (from opentelemetry-exporter-otlp-proto-grpc>=1.2.0->chromadb) (1.65.0)\n",
      "Requirement already satisfied: opentelemetry-exporter-otlp-proto-common==1.27.0 in c:\\python3.11\\lib\\site-packages (from opentelemetry-exporter-otlp-proto-grpc>=1.2.0->chromadb) (1.27.0)\n",
      "Requirement already satisfied: opentelemetry-proto==1.27.0 in c:\\python3.11\\lib\\site-packages (from opentelemetry-exporter-otlp-proto-grpc>=1.2.0->chromadb) (1.27.0)\n",
      "Requirement already satisfied: opentelemetry-instrumentation-asgi==0.48b0 in c:\\python3.11\\lib\\site-packages (from opentelemetry-instrumentation-fastapi>=0.41b0->chromadb) (0.48b0)\n",
      "Requirement already satisfied: opentelemetry-instrumentation==0.48b0 in c:\\python3.11\\lib\\site-packages (from opentelemetry-instrumentation-fastapi>=0.41b0->chromadb) (0.48b0)\n",
      "Requirement already satisfied: opentelemetry-semantic-conventions==0.48b0 in c:\\python3.11\\lib\\site-packages (from opentelemetry-instrumentation-fastapi>=0.41b0->chromadb) (0.48b0)\n",
      "Requirement already satisfied: opentelemetry-util-http==0.48b0 in c:\\python3.11\\lib\\site-packages (from opentelemetry-instrumentation-fastapi>=0.41b0->chromadb) (0.48b0)\n",
      "Requirement already satisfied: setuptools>=16.0 in c:\\python3.11\\lib\\site-packages (from opentelemetry-instrumentation==0.48b0->opentelemetry-instrumentation-fastapi>=0.41b0->chromadb) (65.5.0)\n",
      "Requirement already satisfied: wrapt<2.0.0,>=1.0.0 in c:\\python3.11\\lib\\site-packages (from opentelemetry-instrumentation==0.48b0->opentelemetry-instrumentation-fastapi>=0.41b0->chromadb) (1.16.0)\n",
      "Requirement already satisfied: asgiref~=3.0 in c:\\python3.11\\lib\\site-packages (from opentelemetry-instrumentation-asgi==0.48b0->opentelemetry-instrumentation-fastapi>=0.41b0->chromadb) (3.8.1)\n",
      "Requirement already satisfied: monotonic>=1.5 in c:\\python3.11\\lib\\site-packages (from posthog>=2.4.0->chromadb) (1.6)\n",
      "Requirement already satisfied: backoff>=1.10.0 in c:\\python3.11\\lib\\site-packages (from posthog>=2.4.0->chromadb) (2.2.1)\n",
      "Requirement already satisfied: annotated-types>=0.6.0 in c:\\python3.11\\lib\\site-packages (from pydantic<3.0.0,>=2.7.4->langchain) (0.7.0)\n",
      "Requirement already satisfied: pydantic-core==2.23.4 in c:\\python3.11\\lib\\site-packages (from pydantic<3.0.0,>=2.7.4->langchain) (2.23.4)\n",
      "Requirement already satisfied: charset-normalizer<4,>=2 in c:\\python3.11\\lib\\site-packages (from requests<3,>=2->langchain) (3.3.2)\n",
      "Requirement already satisfied: markdown-it-py>=2.2.0 in c:\\python3.11\\lib\\site-packages (from rich>=10.11.0->chromadb) (3.0.0)\n",
      "Requirement already satisfied: pygments<3.0.0,>=2.13.0 in c:\\python3.11\\lib\\site-packages (from rich>=10.11.0->chromadb) (2.18.0)\n",
      "Requirement already satisfied: greenlet!=0.4.17 in c:\\python3.11\\lib\\site-packages (from SQLAlchemy<3,>=1.4->langchain) (3.1.1)\n",
      "Requirement already satisfied: huggingface-hub<1.0,>=0.16.4 in c:\\python3.11\\lib\\site-packages (from tokenizers>=0.13.2->chromadb) (0.24.5)\n",
      "Requirement already satisfied: click>=8.0.0 in c:\\python3.11\\lib\\site-packages (from typer>=0.9.0->chromadb) (8.1.7)\n",
      "Requirement already satisfied: shellingham>=1.3.0 in c:\\python3.11\\lib\\site-packages (from typer>=0.9.0->chromadb) (1.5.4)\n",
      "Requirement already satisfied: httptools>=0.5.0 in c:\\python3.11\\lib\\site-packages (from uvicorn[standard]>=0.18.3->chromadb) (0.6.1)\n",
      "Requirement already satisfied: python-dotenv>=0.13 in c:\\python3.11\\lib\\site-packages (from uvicorn[standard]>=0.18.3->chromadb) (1.0.1)\n",
      "Requirement already satisfied: watchfiles>=0.13 in c:\\python3.11\\lib\\site-packages (from uvicorn[standard]>=0.18.3->chromadb) (0.24.0)\n",
      "Requirement already satisfied: websockets>=10.4 in c:\\python3.11\\lib\\site-packages (from uvicorn[standard]>=0.18.3->chromadb) (13.1)\n",
      "Requirement already satisfied: cachetools<6.0,>=2.0.0 in c:\\python3.11\\lib\\site-packages (from google-auth>=1.0.1->kubernetes>=28.1.0->chromadb) (5.5.0)\n",
      "Requirement already satisfied: pyasn1-modules>=0.2.1 in c:\\python3.11\\lib\\site-packages (from google-auth>=1.0.1->kubernetes>=28.1.0->chromadb) (0.4.1)\n",
      "Requirement already satisfied: rsa<5,>=3.1.4 in c:\\python3.11\\lib\\site-packages (from google-auth>=1.0.1->kubernetes>=28.1.0->chromadb) (4.9)\n",
      "Requirement already satisfied: filelock in c:\\python3.11\\lib\\site-packages (from huggingface-hub<1.0,>=0.16.4->tokenizers>=0.13.2->chromadb) (3.13.1)\n",
      "Requirement already satisfied: fsspec>=2023.5.0 in c:\\python3.11\\lib\\site-packages (from huggingface-hub<1.0,>=0.16.4->tokenizers>=0.13.2->chromadb) (2024.2.0)\n",
      "Requirement already satisfied: zipp>=0.5 in c:\\python3.11\\lib\\site-packages (from importlib-metadata<=8.4.0,>=6.0->opentelemetry-api>=1.2.0->chromadb) (3.20.2)\n",
      "Requirement already satisfied: jsonpointer>=1.9 in c:\\python3.11\\lib\\site-packages (from jsonpatch<2.0,>=1.33->langchain-core<0.4.0,>=0.3.6->langchain) (3.0.0)\n",
      "Requirement already satisfied: mdurl~=0.1 in c:\\python3.11\\lib\\site-packages (from markdown-it-py>=2.2.0->rich>=10.11.0->chromadb) (0.1.2)\n",
      "Requirement already satisfied: humanfriendly>=9.1 in c:\\python3.11\\lib\\site-packages (from coloredlogs->onnxruntime>=1.14.1->chromadb) (10.0)\n",
      "Requirement already satisfied: mpmath>=0.19 in c:\\python3.11\\lib\\site-packages (from sympy->onnxruntime>=1.14.1->chromadb) (1.3.0)\n",
      "Requirement already satisfied: pyreadline3 in c:\\python3.11\\lib\\site-packages (from humanfriendly>=9.1->coloredlogs->onnxruntime>=1.14.1->chromadb) (3.5.4)\n",
      "Requirement already satisfied: pyasn1<0.7.0,>=0.4.6 in c:\\python3.11\\lib\\site-packages (from pyasn1-modules>=0.2.1->google-auth>=1.0.1->kubernetes>=28.1.0->chromadb) (0.6.1)\n",
      "Downloading openai-1.51.0-py3-none-any.whl (383 kB)\n",
      "Installing collected packages: openai\n",
      "  Attempting uninstall: openai\n",
      "    Found existing installation: openai 1.50.2\n",
      "    Uninstalling openai-1.50.2:\n",
      "      Successfully uninstalled openai-1.50.2\n",
      "Successfully installed openai-1.51.0\n",
      "Note: you may need to restart the kernel to use updated packages.\n",
      "Looking in indexes: https://pypi.org/simple, https://pypi.ngc.nvidia.com\n",
      "Requirement already satisfied: langchain[all] in c:\\python3.11\\lib\\site-packages (0.3.1)\n",
      "Requirement already satisfied: PyYAML>=5.3 in c:\\python3.11\\lib\\site-packages (from langchain[all]) (6.0.1)\n",
      "Requirement already satisfied: SQLAlchemy<3,>=1.4 in c:\\python3.11\\lib\\site-packages (from langchain[all]) (2.0.35)\n",
      "Requirement already satisfied: aiohttp<4.0.0,>=3.8.3 in c:\\python3.11\\lib\\site-packages (from langchain[all]) (3.10.8)\n",
      "Requirement already satisfied: langchain-core<0.4.0,>=0.3.6 in c:\\python3.11\\lib\\site-packages (from langchain[all]) (0.3.7)\n",
      "Requirement already satisfied: langchain-text-splitters<0.4.0,>=0.3.0 in c:\\python3.11\\lib\\site-packages (from langchain[all]) (0.3.0)\n",
      "Requirement already satisfied: langsmith<0.2.0,>=0.1.17 in c:\\python3.11\\lib\\site-packages (from langchain[all]) (0.1.129)\n",
      "Requirement already satisfied: numpy<2,>=1 in c:\\python3.11\\lib\\site-packages (from langchain[all]) (1.26.4)\n",
      "Requirement already satisfied: pydantic<3.0.0,>=2.7.4 in c:\\python3.11\\lib\\site-packages (from langchain[all]) (2.9.2)\n",
      "Requirement already satisfied: requests<3,>=2 in c:\\python3.11\\lib\\site-packages (from langchain[all]) (2.32.3)\n",
      "Requirement already satisfied: tenacity!=8.4.0,<9.0.0,>=8.1.0 in c:\\python3.11\\lib\\site-packages (from langchain[all]) (8.5.0)\n",
      "Requirement already satisfied: aiohappyeyeballs>=2.3.0 in c:\\python3.11\\lib\\site-packages (from aiohttp<4.0.0,>=3.8.3->langchain[all]) (2.4.3)\n",
      "Requirement already satisfied: aiosignal>=1.1.2 in c:\\python3.11\\lib\\site-packages (from aiohttp<4.0.0,>=3.8.3->langchain[all]) (1.3.1)\n",
      "Requirement already satisfied: attrs>=17.3.0 in c:\\python3.11\\lib\\site-packages (from aiohttp<4.0.0,>=3.8.3->langchain[all]) (23.2.0)\n",
      "Requirement already satisfied: frozenlist>=1.1.1 in c:\\python3.11\\lib\\site-packages (from aiohttp<4.0.0,>=3.8.3->langchain[all]) (1.4.1)\n",
      "Requirement already satisfied: multidict<7.0,>=4.5 in c:\\python3.11\\lib\\site-packages (from aiohttp<4.0.0,>=3.8.3->langchain[all]) (6.1.0)\n",
      "Requirement already satisfied: yarl<2.0,>=1.12.0 in c:\\python3.11\\lib\\site-packages (from aiohttp<4.0.0,>=3.8.3->langchain[all]) (1.13.1)\n",
      "Requirement already satisfied: jsonpatch<2.0,>=1.33 in c:\\python3.11\\lib\\site-packages (from langchain-core<0.4.0,>=0.3.6->langchain[all]) (1.33)\n",
      "Requirement already satisfied: packaging<25,>=23.2 in c:\\python3.11\\lib\\site-packages (from langchain-core<0.4.0,>=0.3.6->langchain[all]) (24.1)\n",
      "Requirement already satisfied: typing-extensions>=4.7 in c:\\python3.11\\lib\\site-packages (from langchain-core<0.4.0,>=0.3.6->langchain[all]) (4.12.2)\n",
      "Requirement already satisfied: httpx<1,>=0.23.0 in c:\\python3.11\\lib\\site-packages (from langsmith<0.2.0,>=0.1.17->langchain[all]) (0.27.0)\n",
      "Requirement already satisfied: orjson<4.0.0,>=3.9.14 in c:\\python3.11\\lib\\site-packages (from langsmith<0.2.0,>=0.1.17->langchain[all]) (3.10.7)\n",
      "Requirement already satisfied: annotated-types>=0.6.0 in c:\\python3.11\\lib\\site-packages (from pydantic<3.0.0,>=2.7.4->langchain[all]) (0.7.0)\n",
      "Requirement already satisfied: pydantic-core==2.23.4 in c:\\python3.11\\lib\\site-packages (from pydantic<3.0.0,>=2.7.4->langchain[all]) (2.23.4)\n",
      "Requirement already satisfied: charset-normalizer<4,>=2 in c:\\python3.11\\lib\\site-packages (from requests<3,>=2->langchain[all]) (3.3.2)\n",
      "Requirement already satisfied: idna<4,>=2.5 in c:\\python3.11\\lib\\site-packages (from requests<3,>=2->langchain[all]) (3.7)\n",
      "Requirement already satisfied: urllib3<3,>=1.21.1 in c:\\python3.11\\lib\\site-packages (from requests<3,>=2->langchain[all]) (2.2.2)\n",
      "Requirement already satisfied: certifi>=2017.4.17 in c:\\python3.11\\lib\\site-packages (from requests<3,>=2->langchain[all]) (2024.7.4)\n",
      "Requirement already satisfied: greenlet!=0.4.17 in c:\\python3.11\\lib\\site-packages (from SQLAlchemy<3,>=1.4->langchain[all]) (3.1.1)\n",
      "Requirement already satisfied: anyio in c:\\python3.11\\lib\\site-packages (from httpx<1,>=0.23.0->langsmith<0.2.0,>=0.1.17->langchain[all]) (4.4.0)\n",
      "Requirement already satisfied: httpcore==1.* in c:\\python3.11\\lib\\site-packages (from httpx<1,>=0.23.0->langsmith<0.2.0,>=0.1.17->langchain[all]) (1.0.5)\n",
      "Requirement already satisfied: sniffio in c:\\python3.11\\lib\\site-packages (from httpx<1,>=0.23.0->langsmith<0.2.0,>=0.1.17->langchain[all]) (1.3.1)\n",
      "Requirement already satisfied: h11<0.15,>=0.13 in c:\\python3.11\\lib\\site-packages (from httpcore==1.*->httpx<1,>=0.23.0->langsmith<0.2.0,>=0.1.17->langchain[all]) (0.14.0)\n",
      "Requirement already satisfied: jsonpointer>=1.9 in c:\\python3.11\\lib\\site-packages (from jsonpatch<2.0,>=1.33->langchain-core<0.4.0,>=0.3.6->langchain[all]) (3.0.0)\n",
      "Note: you may need to restart the kernel to use updated packages.\n"
     ]
    },
    {
     "name": "stderr",
     "output_type": "stream",
     "text": [
      "WARNING: langchain 0.3.1 does not provide the extra 'all'\n"
     ]
    }
   ],
   "source": [
    "# Install the OpenAI Python package.\n",
    "%pip install openai\n",
    "%pip install langchain openai chromadb gspread oauth2client pandas\n",
    "%pip install --upgrade langchain openai chromadb\n",
    "%pip install langchain[all]\n"
   ]
  },
  {
   "cell_type": "markdown",
   "metadata": {
    "id": "IKJf-dPLwXMu",
    "pycharm": {
     "name": "#%% md\n"
    }
   },
   "source": [
    "**IMPORTANT: If you are going to use our custom API Key then make sure that you also use custom base URL as in example below. Otherwise it will not work.**"
   ]
  },
  {
   "cell_type": "code",
   "execution_count": 332,
   "metadata": {
    "colab": {
     "base_uri": "https://localhost:8080/"
    },
    "executionInfo": {
     "elapsed": 4849,
     "status": "ok",
     "timestamp": 1727776657711,
     "user": {
      "displayName": "DISMAS NG'ODA",
      "userId": "17074486062948487534"
     },
     "user_tz": -180
    },
    "id": "caEG5zIMw8DV",
    "outputId": "2d2601f8-99e7-4d45-b020-e2e6231a49d3",
    "pycharm": {
     "name": "#%%\n"
    }
   },
   "outputs": [
    {
     "name": "stdout",
     "output_type": "stream",
     "text": [
      "ChatCompletionMessage(content='Hi there! How can I assist you today?', refusal=None, role='assistant', function_call=None, tool_calls=None)\n"
     ]
    }
   ],
   "source": [
    "# Code example of OpenAI communication\n",
    "\n",
    "from openai import OpenAI\n",
    "\n",
    "client = OpenAI(\n",
    "    # In order to use provided API key, make sure that models you create point to this custom base URL.\n",
    "    base_url='https://47v4us7kyypinfb5lcligtc3x40ygqbs.lambda-url.us-east-1.on.aws/v1/',\n",
    "    # The temporary API key giving access to ChatGPT 4o model. Quotas apply: you have 500'000 input and 500'000 output tokens, use them wisely ;)\n",
    "    api_key='a0BIj000001iX7PMAU'\n",
    ")\n",
    "\n",
    "completion = client.chat.completions.create(\n",
    "  model=\"gpt-4o\",\n",
    "  messages=[\n",
    "    {\"role\": \"user\", \"content\": \"Hello!\"}\n",
    "  ]\n",
    ")\n",
    "\n",
    "print(completion.choices[0].message)"
   ]
  },
  {
   "cell_type": "code",
   "execution_count": 333,
   "outputs": [],
   "source": [
    "# IMPORTS\n",
    "from IPython.display import display\n",
    "from typing import Union\n",
    "from enum import Enum\n",
    "\n",
    "import pandas as pd\n",
    "import time as clock\n",
    "import re\n",
    "import random"
   ],
   "metadata": {
    "collapsed": false,
    "pycharm": {
     "name": "#%%\n"
    }
   }
  },
  {
   "cell_type": "code",
   "execution_count": 334,
   "metadata": {
    "colab": {
     "base_uri": "https://localhost:8080/",
     "height": 270
    },
    "executionInfo": {
     "elapsed": 882,
     "status": "ok",
     "timestamp": 1727776663948,
     "user": {
      "displayName": "DISMAS NG'ODA",
      "userId": "17074486062948487534"
     },
     "user_tz": -180
    },
    "id": "shE97VzGwZ4v",
    "outputId": "18a8b365-0861-49c1-cd30-11e520f92293",
    "pycharm": {
     "name": "#%%\n"
    }
   },
   "outputs": [
    {
     "data": {
      "text/plain": "   product_id                name       category  \\\n0     RSG8901    Retro Sunglasses    Accessories   \n1     SWL2345        Sleek Wallet    Accessories   \n2     VSC6789     Versatile Scarf    Accessories   \n3     CSH1098          Cozy Shawl    Accessories   \n4     CHN0987  Chunky Knit Beanie    Accessories   \n..        ...                 ...            ...   \n94    SND7654     Strappy Sandals  Women's Shoes   \n95    CHK8901     Chunky Sneakers  Women's Shoes   \n96    MLR0123        Mule Loafers  Women's Shoes   \n97    CLG4567        Clog Sandals  Women's Shoes   \n98    SNB4321          Snow Boots  Women's Shoes   \n\n                                          description  stock         seasons  \\\n0   Transport yourself back in time with our retro...      1  Spring, Summer   \n1   Keep your essentials organized and secure with...      5     All seasons   \n2   Add a touch of versatility to your wardrobe wi...      6    Spring, Fall   \n3   Wrap yourself in comfort with our cozy shawl. ...      3    Fall, Winter   \n4   Keep your head toasty with our chunky knit bea...      2    Fall, Winter   \n..                                                ...    ...             ...   \n94  Step into summer with our strappy sandals. The...      8  Spring, Summer   \n95  Step into trendy style with our chunky sneaker...      1    Spring, Fall   \n96  Slip into effortless style with our mule loafe...      2    Spring, Fall   \n97  Step into retro-inspired style with our clog s...      3  Spring, Summer   \n98  Brave the elements in our durable snow boots. ...      5          Winter   \n\n    price  \n0   26.99  \n1   30.00  \n2   23.00  \n3   22.00  \n4   22.00  \n..    ...  \n94  27.00  \n95  42.00  \n96  47.00  \n97  48.00  \n98  41.00  \n\n[99 rows x 7 columns]",
      "text/html": "<div>\n<style scoped>\n    .dataframe tbody tr th:only-of-type {\n        vertical-align: middle;\n    }\n\n    .dataframe tbody tr th {\n        vertical-align: top;\n    }\n\n    .dataframe thead th {\n        text-align: right;\n    }\n</style>\n<table border=\"1\" class=\"dataframe\">\n  <thead>\n    <tr style=\"text-align: right;\">\n      <th></th>\n      <th>product_id</th>\n      <th>name</th>\n      <th>category</th>\n      <th>description</th>\n      <th>stock</th>\n      <th>seasons</th>\n      <th>price</th>\n    </tr>\n  </thead>\n  <tbody>\n    <tr>\n      <th>0</th>\n      <td>RSG8901</td>\n      <td>Retro Sunglasses</td>\n      <td>Accessories</td>\n      <td>Transport yourself back in time with our retro...</td>\n      <td>1</td>\n      <td>Spring, Summer</td>\n      <td>26.99</td>\n    </tr>\n    <tr>\n      <th>1</th>\n      <td>SWL2345</td>\n      <td>Sleek Wallet</td>\n      <td>Accessories</td>\n      <td>Keep your essentials organized and secure with...</td>\n      <td>5</td>\n      <td>All seasons</td>\n      <td>30.00</td>\n    </tr>\n    <tr>\n      <th>2</th>\n      <td>VSC6789</td>\n      <td>Versatile Scarf</td>\n      <td>Accessories</td>\n      <td>Add a touch of versatility to your wardrobe wi...</td>\n      <td>6</td>\n      <td>Spring, Fall</td>\n      <td>23.00</td>\n    </tr>\n    <tr>\n      <th>3</th>\n      <td>CSH1098</td>\n      <td>Cozy Shawl</td>\n      <td>Accessories</td>\n      <td>Wrap yourself in comfort with our cozy shawl. ...</td>\n      <td>3</td>\n      <td>Fall, Winter</td>\n      <td>22.00</td>\n    </tr>\n    <tr>\n      <th>4</th>\n      <td>CHN0987</td>\n      <td>Chunky Knit Beanie</td>\n      <td>Accessories</td>\n      <td>Keep your head toasty with our chunky knit bea...</td>\n      <td>2</td>\n      <td>Fall, Winter</td>\n      <td>22.00</td>\n    </tr>\n    <tr>\n      <th>...</th>\n      <td>...</td>\n      <td>...</td>\n      <td>...</td>\n      <td>...</td>\n      <td>...</td>\n      <td>...</td>\n      <td>...</td>\n    </tr>\n    <tr>\n      <th>94</th>\n      <td>SND7654</td>\n      <td>Strappy Sandals</td>\n      <td>Women's Shoes</td>\n      <td>Step into summer with our strappy sandals. The...</td>\n      <td>8</td>\n      <td>Spring, Summer</td>\n      <td>27.00</td>\n    </tr>\n    <tr>\n      <th>95</th>\n      <td>CHK8901</td>\n      <td>Chunky Sneakers</td>\n      <td>Women's Shoes</td>\n      <td>Step into trendy style with our chunky sneaker...</td>\n      <td>1</td>\n      <td>Spring, Fall</td>\n      <td>42.00</td>\n    </tr>\n    <tr>\n      <th>96</th>\n      <td>MLR0123</td>\n      <td>Mule Loafers</td>\n      <td>Women's Shoes</td>\n      <td>Slip into effortless style with our mule loafe...</td>\n      <td>2</td>\n      <td>Spring, Fall</td>\n      <td>47.00</td>\n    </tr>\n    <tr>\n      <th>97</th>\n      <td>CLG4567</td>\n      <td>Clog Sandals</td>\n      <td>Women's Shoes</td>\n      <td>Step into retro-inspired style with our clog s...</td>\n      <td>3</td>\n      <td>Spring, Summer</td>\n      <td>48.00</td>\n    </tr>\n    <tr>\n      <th>98</th>\n      <td>SNB4321</td>\n      <td>Snow Boots</td>\n      <td>Women's Shoes</td>\n      <td>Brave the elements in our durable snow boots. ...</td>\n      <td>5</td>\n      <td>Winter</td>\n      <td>41.00</td>\n    </tr>\n  </tbody>\n</table>\n<p>99 rows × 7 columns</p>\n</div>"
     },
     "metadata": {},
     "output_type": "display_data"
    },
    {
     "data": {
      "text/plain": "  email_id                               subject  \\\n0     E001                       Leather Wallets   \n1     E002           Buy Vibrant Tote with noise   \n2     E003                        Need your help   \n3     E004            Buy Infinity Scarves Order   \n4     E005         Inquiry on Cozy Shawl Details   \n5     E006                                   NaN   \n6     E007           Order for Beanies, Slippers   \n7     E008  Ordering a Versatile Scarf-like item   \n8     E009  Pregunta Sobre Gorro de Punto Grueso   \n9     E010             Purchase Retro Sunglasses   \n\n                                             message  \n0  Hi there, I want to order all the remaining LT...  \n1  Good morning, I'm looking to buy the VBT2345 V...  \n2  Hello, I need a new bag to carry my laptop and...  \n3  Hi, I'd like to order three to four SFT1098 In...  \n4  Good day, For the CSH1098 Cozy Shawl, the desc...  \n5  Hey there, I was thinking of ordering a pair o...  \n6  Hi, this is Liz. Please send me 5 CLF2109 Cabl...  \n7  Hello, I'd want to order one of your Versatile...  \n8  Hola, tengo una pregunta sobre el DHN0987 Gorr...  \n9  Hello, I would like to order 1 pair of RSG8901...  ",
      "text/html": "<div>\n<style scoped>\n    .dataframe tbody tr th:only-of-type {\n        vertical-align: middle;\n    }\n\n    .dataframe tbody tr th {\n        vertical-align: top;\n    }\n\n    .dataframe thead th {\n        text-align: right;\n    }\n</style>\n<table border=\"1\" class=\"dataframe\">\n  <thead>\n    <tr style=\"text-align: right;\">\n      <th></th>\n      <th>email_id</th>\n      <th>subject</th>\n      <th>message</th>\n    </tr>\n  </thead>\n  <tbody>\n    <tr>\n      <th>0</th>\n      <td>E001</td>\n      <td>Leather Wallets</td>\n      <td>Hi there, I want to order all the remaining LT...</td>\n    </tr>\n    <tr>\n      <th>1</th>\n      <td>E002</td>\n      <td>Buy Vibrant Tote with noise</td>\n      <td>Good morning, I'm looking to buy the VBT2345 V...</td>\n    </tr>\n    <tr>\n      <th>2</th>\n      <td>E003</td>\n      <td>Need your help</td>\n      <td>Hello, I need a new bag to carry my laptop and...</td>\n    </tr>\n    <tr>\n      <th>3</th>\n      <td>E004</td>\n      <td>Buy Infinity Scarves Order</td>\n      <td>Hi, I'd like to order three to four SFT1098 In...</td>\n    </tr>\n    <tr>\n      <th>4</th>\n      <td>E005</td>\n      <td>Inquiry on Cozy Shawl Details</td>\n      <td>Good day, For the CSH1098 Cozy Shawl, the desc...</td>\n    </tr>\n    <tr>\n      <th>5</th>\n      <td>E006</td>\n      <td>NaN</td>\n      <td>Hey there, I was thinking of ordering a pair o...</td>\n    </tr>\n    <tr>\n      <th>6</th>\n      <td>E007</td>\n      <td>Order for Beanies, Slippers</td>\n      <td>Hi, this is Liz. Please send me 5 CLF2109 Cabl...</td>\n    </tr>\n    <tr>\n      <th>7</th>\n      <td>E008</td>\n      <td>Ordering a Versatile Scarf-like item</td>\n      <td>Hello, I'd want to order one of your Versatile...</td>\n    </tr>\n    <tr>\n      <th>8</th>\n      <td>E009</td>\n      <td>Pregunta Sobre Gorro de Punto Grueso</td>\n      <td>Hola, tengo una pregunta sobre el DHN0987 Gorr...</td>\n    </tr>\n    <tr>\n      <th>9</th>\n      <td>E010</td>\n      <td>Purchase Retro Sunglasses</td>\n      <td>Hello, I would like to order 1 pair of RSG8901...</td>\n    </tr>\n  </tbody>\n</table>\n</div>"
     },
     "metadata": {},
     "output_type": "display_data"
    }
   ],
   "source": [
    "# Getting data\n",
    "\n",
    "def read_data_frame(document_id, sheet_name):\n",
    "    export_link = f\"https://docs.google.com/spreadsheets/d/{document_id}/gviz/tq?tqx=out:csv&sheet={sheet_name}\"\n",
    "    return pd.read_csv(export_link)\n",
    "\n",
    "DOC_ID = '14fKHsblfqZfWj3iAaM2oA51TlYfQlFT4WKo52fVaQ9U'\n",
    "products_df = read_data_frame(DOC_ID, 'products')\n",
    "emails_df = read_data_frame(DOC_ID, 'emails')\n",
    "\n",
    "# Display first 3 rows of each DataFrame\n",
    "display(products_df)\n",
    "display(emails_df.head(10))"
   ]
  },
  {
   "cell_type": "code",
   "execution_count": 335,
   "outputs": [
    {
     "name": "stdout",
     "output_type": "stream",
     "text": [
      "There are no duplicate products in inventory\n"
     ]
    }
   ],
   "source": [
    "if len(products_df['product_id']) == len(products_df['product_id'].unique()):\n",
    "    print(f\"There are no duplicate products in inventory\")\n",
    "else:\n",
    "    raise ValueError(\"duplicate products exist in inventory\")"
   ],
   "metadata": {
    "collapsed": false,
    "pycharm": {
     "name": "#%%\n"
    }
   }
  },
  {
   "cell_type": "code",
   "execution_count": 336,
   "outputs": [],
   "source": [
    "class Product(object):\n",
    "    def __init__(self, key: str, name: str, category: str, info: str, stock: int, seasons: str, price: str):\n",
    "        self.id = key\n",
    "        self.name = name\n",
    "        self.category = category\n",
    "        self.description = info\n",
    "        self.stock = int(stock)\n",
    "        self.seasons = seasons\n",
    "        self.price = float(price)\n",
    "\n",
    "    def create_order(self):\n",
    "        if self.stock > 0:\n",
    "            self.stock -= 1\n",
    "            return True\n",
    "        return False\n",
    "\n",
    "class RequestType(Enum):\n",
    "    Inquiry = 1\n",
    "    Order = 2\n",
    "\n",
    "class Request(object):\n",
    "    def __init__(self, key: int, product: Union[Product, None], email: str, time: int, type: RequestType):\n",
    "        self.id = key\n",
    "        self.product = product\n",
    "        self.email = email\n",
    "        self.time = time\n",
    "        self.type = type\n",
    "        self.successful = False\n",
    "        self.result: str = None\n",
    "        self.responded = False\n",
    "\n",
    "class Inventory(object):\n",
    "    request_id = -1\n",
    "    def __init__(self, products: list[Product]):\n",
    "        self.products: dict[str, Product] = {p.id: p for p in products}\n",
    "        self.requests: list[Request] = []\n",
    "\n",
    "    def _get_request_id(self):\n",
    "        self.request_id += 1\n",
    "        return self.request_id\n",
    "\n",
    "    def _get_product(self, id: str):\n",
    "        if id in self.products:\n",
    "            return self.products[id]\n",
    "        else:\n",
    "            return None\n",
    "\n",
    "    def _request(self, product_id: str, email: str):\n",
    "        product = self._get_product(product_id)\n",
    "        request = Request(self._get_request_id(), product, email, clock.time(), RequestType.Order)\n",
    "        return product, request\n",
    "\n",
    "    def inquire(self, id: str, name: str, email: str):\n",
    "        product, request = self._request(id, email)\n",
    "        if product:\n",
    "            request.successful = True\n",
    "            request.result = product.description\n",
    "        else:\n",
    "            request.result = f\"The product '{name}' you are inquiring does not exist!\"\n",
    "        self.requests.append(request)\n",
    "        return request\n",
    "\n",
    "    def order(self, id: str, name: str, email: str):\n",
    "        product, request = self._request(id, email)\n",
    "        if product:\n",
    "            if product.create_order():\n",
    "                request.successful = True\n",
    "                request.result = f\"Order on '{product.name}', id #{product.id}, was successful\"\n",
    "            else:\n",
    "                request.result = f\"'{product.name}', id #{product.id}, is out of stock\"\n",
    "        else:\n",
    "            request.result = f\"The product '{name}', you are ordering does not exist!\"\n",
    "        self.requests.append(request)\n",
    "        return request\n",
    "\n",
    "    def get_available_products(self):\n",
    "        return [(key, p.name) for key, p in self.products.items()]"
   ],
   "metadata": {
    "collapsed": false,
    "pycharm": {
     "name": "#%%\n"
    }
   }
  },
  {
   "cell_type": "code",
   "execution_count": 337,
   "outputs": [
    {
     "name": "stdout",
     "output_type": "stream",
     "text": [
      "id -> CHN5432 (type=<class 'str'>)\n",
      "name -> Chunky Knit Sweater (type=<class 'str'>)\n",
      "category -> Women's Clothing (type=<class 'str'>)\n",
      "description -> Stay cozy and stylish with our chunky knit sweater. Crafted from soft, high-quality yarn, this oversized sweater features a trendy, chunky knit pattern and a relaxed fit. Perfect for layering or wearing on its own. (type=<class 'str'>)\n",
      "stock -> 4 (type=<class 'int'>)\n",
      "seasons -> Fall, Winter (type=<class 'str'>)\n",
      "price -> 79.99 (type=<class 'float'>)\n"
     ]
    }
   ],
   "source": [
    "inventory = Inventory([Product(*tuple(row)) for _, row in products_df.iterrows()])\n",
    "\n",
    "for e, v in vars(random.choice(list(inventory.products.values()))).items():\n",
    "    print(f\"{e} -> {v} (type={type(v)})\")"
   ],
   "metadata": {
    "collapsed": false,
    "pycharm": {
     "name": "#%%\n"
    }
   }
  },
  {
   "cell_type": "code",
   "execution_count": 338,
   "outputs": [
    {
     "data": {
      "text/plain": "3686"
     },
     "execution_count": 338,
     "metadata": {},
     "output_type": "execute_result"
    }
   ],
   "source": [
    "MAX_TOKEN_NUM = int(4096 * 0.9)\n",
    "MAX_TOKEN_NUM"
   ],
   "metadata": {
    "collapsed": false,
    "pycharm": {
     "name": "#%%\n"
    }
   }
  },
  {
   "cell_type": "markdown",
   "metadata": {
    "id": "zyvqJ-BUNKQR",
    "pycharm": {
     "name": "#%% md\n"
    }
   },
   "source": [
    "# Task 1. Classify emails"
   ]
  },
  {
   "cell_type": "code",
   "execution_count": 339,
   "outputs": [],
   "source": [
    "class Email(object):\n",
    "    def __init__(self, key: str, subject: str, message: str):\n",
    "        self.id = key\n",
    "        self.subject = subject if 'nan' not in str(subject) else \"<NULL>\"\n",
    "        self.message = message"
   ],
   "metadata": {
    "collapsed": false,
    "pycharm": {
     "name": "#%%\n"
    }
   }
  },
  {
   "cell_type": "code",
   "execution_count": 340,
   "outputs": [
    {
     "name": "stdout",
     "output_type": "stream",
     "text": [
      "id -> E014\n",
      "subject -> Sleek Wallet Order\n",
      "message -> Please send me 1 Sleek Wallet. Thanks, Johny\n"
     ]
    }
   ],
   "source": [
    "EMAILS = [Email(*tuple(row)) for _, row in emails_df.iterrows()]\n",
    "for e, v in vars(random.choice(EMAILS)).items():\n",
    "    print(f\"{e} -> {v}\")"
   ],
   "metadata": {
    "collapsed": false,
    "pycharm": {
     "name": "#%%\n"
    }
   }
  },
  {
   "cell_type": "code",
   "execution_count": 341,
   "outputs": [
    {
     "data": {
      "text/plain": "14"
     },
     "execution_count": 341,
     "metadata": {},
     "output_type": "execute_result"
    }
   ],
   "source": [
    "def approximate_tokens(text: str):\n",
    "    # Finding words\n",
    "    words = len(text.split())\n",
    "    # Finding symbols\n",
    "    symbols = len(re.findall(r'[^\\w\\s]', text))\n",
    "    return words + symbols\n",
    "approximate_tokens(\"Hello there! How're you doing? My name is <FILL>\")"
   ],
   "metadata": {
    "collapsed": false,
    "pycharm": {
     "name": "#%%\n"
    }
   }
  },
  {
   "cell_type": "code",
   "execution_count": 342,
   "outputs": [
    {
     "name": "stdout",
     "output_type": "stream",
     "text": [
      "\n",
      "0 => Email ID 'E001', ref: Leather Wallets, msg: Hi there, I want to order all the remaining LTH0976 Leather Bifold Wallets you have in stock. I'm opening up a small boutique shop and these would be perfect for my inventory. Thank you!\n",
      "1 => Email ID 'E002', ref: Buy Vibrant Tote with noise, msg: Good morning, I'm looking to buy the VBT2345 Vibrant Tote bag. My name is Jessica and I love tote bags, they're so convenient for carrying all my stuff. Last summer I bought this really cute straw tote that I used at the beach. Oh, and a few years ago I got this nylon tote as a free gift with purchase that I still use for groceries.\n",
      "2 => Email ID 'E003', ref: Need your help, msg: Hello, I need a new bag to carry my laptop and documents for work. My name is David and I'm having a hard time deciding which would be better - the LTH1098 Leather Backpack or the Leather Tote? Does one have more organizational pockets than the other? Any insight would be appreciated!\n",
      "3 => Email ID 'E004', ref: Buy Infinity Scarves Order, msg: Hi, I'd like to order three to four SFT1098 Infinity Scarves please. My wife loves collecting scarves in different colors and patterns.\n",
      "4 => Email ID 'E005', ref: Inquiry on Cozy Shawl Details, msg: Good day, For the CSH1098 Cozy Shawl, the description mentions it can be worn as a lightweight blanket. At $22, is the material good enough quality to use as a lap blanket? Or is it more like a thick wrapping scarf? I'm considering buying it as a gift for my grandmother. Thank you!\n",
      "5 => Email ID 'E006', ref: <NULL>, msg: Hey there, I was thinking of ordering a pair of CBT8901 Chelsea Boots, but I'll wait until Fall to actually place the order. My name is Sam and I need some new boots for the colder months.\n",
      "6 => Email ID 'E007', ref: Order for Beanies, Slippers, msg: Hi, this is Liz. Please send me 5 CLF2109 Cable Knit Beanies and 2 pairs of FZZ1098 Fuzzy Slippers. I'm prepping some holiday gift baskets.\n",
      "7 => Email ID 'E008', ref: Ordering a Versatile Scarf-like item, msg: Hello, I'd want to order one of your Versatile Scarves, the one that can be worn as a scarf, shawl, or headwrap. Thanks!\n",
      "8 => Email ID 'E009', ref: Pregunta Sobre Gorro de Punto Grueso, msg: Hola, tengo una pregunta sobre el DHN0987 Gorro de punto grueso. ¿De qué material está hecho? ¿Es lo suficientemente cálido para usar en invierno? Gracias de antemano.\n",
      "9 => Email ID 'E010', ref: Purchase Retro Sunglasses, msg: Hello, I would like to order 1 pair of RSG8901 Retro Sunglasses. Thanks!\n",
      "10 => Email ID 'E011', ref: Question on Retro Sunglasses Description, msg: Hi there, The description for the RSG8901 Retro Sunglasses says they offer 'a cool, nostalgic vibe'. What era are they inspired by exactly? The 1950s, 1960s? I'm just curious about the style inspiration. Thank you!\n",
      "11 => Email ID 'E012', ref: Rambling About a New Work Bag, msg: Hey, hope you're doing well. Last year for my birthday, my wife Emily got me a really nice leather briefcase from your store. I loved it and used it every day for work until the strap broke a few months ago. Speaking of broken things, I also need to get my lawnmower fixed before spring. Anyway, what were some of the other messenger bag or briefcase style options you have? I could go for something slightly smaller than my previous one. Oh and we also need to make dinner reservations for our anniversary next month. Maybe a nice Italian place downtown. What was I saying again? Oh right, work bags! Let me know what you'd recommend. Thanks!\n",
      "12 => Email ID 'E013', ref: Shopping for Men's Sandals, msg: Hi, my name is Marco and I need to buy a pair of slide sandals for men, in the Men's Shoes category, for the summer.\n",
      "13 => Email ID 'E014', ref: Sleek Wallet Order, msg: Please send me 1 Sleek Wallet. Thanks, Johny\n",
      "14 => Email ID 'E015', ref: Stylish Yet Practical Men's Bag Recommendation, msg: Good morning, I'm looking for a nice bag for my husband Thomas for our anniversary. He has a professional office job, but also likes outdoor activities on weekends. Which men's bag would you recommend that's both stylish and practical? Something he can use for work but also take on hikes. Thank you in advance!\n",
      "15 => Email ID 'E016', ref: Summer Wedding Guest Dress Preferences, msg: Hello, I'm looking for a dress for a summer wedding I have coming up. My name is Claire. I don't want anything too short, low-cut, or super tight-fitting. But I also don't want it to be too loose or matronly. Something flattering but still comfortable to wear for an outdoor ceremony. Any recommendations on some options that might work for me? Thank you! And bag, I think I need some travel bag.\n",
      "16 => Email ID 'E017', ref: <NULL>, msg: Hi there I want to place an order for that popular item you sell. The one that's been selling like hotcakes lately. You know what I mean right?\n",
      "17 => Email ID 'E018', ref: <NULL>, msg: Hello I'd like to buy 2 pairs of the retro sun glasses (RSG8901). Thanks\n",
      "18 => Email ID 'E019', ref: Hi, msg: Hey there, I would like to buy Chelsea Boots [CBT 89 01] from you guys! You're so awesome I'm so impressed with the quality of Fuzzy Slippers - FZZ1098 I've bought from you before. I hope the quality stays. I would like to order Retro sunglasses from you, but probably next time! Thanks\n",
      "19 => Email ID 'E020', ref: Price check, msg: Hello I'd like to know how much does Saddle bag cost and if it is suitable for spring season? Thank you, Antonio\n",
      "20 => Email ID 'E021', ref: <NULL>, msg: So I've bought quite large collection of vintage items from your store: SDE2345, DJN8901, RGD7654, CRD3210, those are perfect fit for my style! I need your advice if there are any winter hats in your store? Thank you!\n"
     ]
    },
    {
     "data": {
      "text/plain": "1"
     },
     "metadata": {},
     "output_type": "display_data"
    }
   ],
   "source": [
    "# Assuming email has been processed into an instance on class Email\n",
    "def process_email(email: Email):\n",
    "    prompt = f\"Email ID '{email.id}', ref: {email.subject}, msg: {email.message}\"\n",
    "    tokens = approximate_tokens(prompt)\n",
    "    return prompt, tokens\n",
    "\n",
    "def batch_process_emails(emails: list[Email], token_limit: int = None):\n",
    "    if token_limit is None:\n",
    "        token_limit = MAX_TOKEN_NUM\n",
    "    batches = []\n",
    "    batch = \"\"\n",
    "    batch_idx = 0\n",
    "    token_num = 0\n",
    "    for i, email in enumerate(emails):\n",
    "        prompt, tokens = process_email(email)\n",
    "        if token_num + tokens + 3 > token_limit:\n",
    "            if len(batch) > 0:\n",
    "                batches.append(batch)\n",
    "            print(batch)\n",
    "            batch = \"\"\n",
    "            batch_idx = 0\n",
    "            token_num = 0\n",
    "        batch += f\"\\n{batch_idx} => {prompt}\"\n",
    "        batch_idx += 1\n",
    "        token_num += (tokens + 3)\n",
    "        # print(batch)\n",
    "        if len(batches) == 0 and i == len(emails)-1:\n",
    "            batches.append(batch)\n",
    "    return batches\n",
    "print(batch_process_emails(EMAILS)[0])\n",
    "display(len(batch_process_emails(EMAILS)))"
   ],
   "metadata": {
    "collapsed": false,
    "pycharm": {
     "name": "#%%\n"
    }
   }
  },
  {
   "cell_type": "code",
   "execution_count": 343,
   "outputs": [
    {
     "name": "stdout",
     "output_type": "stream",
     "text": [
      "[(RSG8901, Retro Sunglasses), (SWL2345, Sleek Wallet), (VSC6789, Versatile Scarf), (CSH1098, Cozy Shawl), (CHN0987, Chunky Knit Beanie), (LTH0976, Leather Bifold Wallet), (FZZ1098, Fuzzy Slippers), (FRP9876, Fringe Poncho), (BKR0123, Bucket Hat), (CBY6789, Corduroy Bucket Hat), (CLF2109, Cable Knit Beanie), (LTG5432, Leather Gloves), (CPN3210, Cashmere Poncho), (SFT1098, Infinity Scarf), (ERM5432, Earmuffs), (VBT2345, Vibrant Tote), (SBP4567, Sleek Backpack), (CCB6789, Chic Crossbody), (CCH6789, Chic Clutch), (CBG9876, Canvas Beach Bag), (LTH5432, Leather Tote), (LTH1098, Leather Backpack), (MSK1098, Metallic Clutch), (LTH2109, Leather Messenger Bag), (QTP5432, Quilted Tote), (FRP6789, Fringe Crossbody), (SDE2345, Saddle Bag), (DLD0123, Delightful Dress), (STT4567, Striped Tee), (CPJ2345, Cozy Pajama Set), (LFL7654, Long Fleece Robe), (PTR9876, Patterned Tie), (CSW6789, Cozy Sweater), (DJN8901, Distressed Jeans), (CPL0123, Casual Polo), (RCS0123, Rugged Cargo Shorts), (TLR5432, Tailored Suit), (RGD7654, Rugged Denim Jacket), (LNS3210, Linen Shorts), (CML7654, Camo Print Tee), (PLV8765, Plaid Flannel Vest), (PLD9876, Plaid Button-Down), (HNG3210, Hooded Nylon Jacket), (CBL5432, Cable Knit Sweater), (BMX2345, Bomber Jacket), (FLN2345, Flannel Shacket), (PTN4567, Patterned Joggers), (PTD8901, Patchwork Denim Jacket), (THK0976, Thermal Henley), (HDD9876, Hooded Down Vest), (FNK9876, Fair Isle Sweater), (SKR3210, Ski Sweater), (RBT0123, Rugged Boots), (SLP7654, Slip-on Sneakers), (SLD7654, Slide Sandals), (CBT8901, Chelsea Boots), (WTR7654, Waterproof Boots), (CHL4567, Chic Blazer), (FSD2345, Floral Sundress), (CCG8901, Cozy Cardigan), (WSK4567, Whimsical Skirt), (FLD9876, Floral Maxi Dress), (PTD3210, Printed Tunic Dress), (FBL9876, Floral Blouse), (CHN5432, Chunky Knit Sweater), (CRD3210, Corduroy Pants), (BMX5432, Bomber Jacket), (KMN3210, Knit Mini Dress), (FLT5678, Flowy Linen Top), (DST6543, Distressed Skinny Jeans), (EMB4321, Embroidered Blouse), (RBB5432, Ribbed Bodycon Dress), (CPT1098, Camo Print Tee), (OVR3210, Overalls Jumpsuit), (BTN7654, Button-Front Skirt), (CLR1098, Colorblock Raincoat), (LTH6789, Leather Moto Jacket), (SKT4567, Satin Skirt), (DTD0123, Denim Trucker Jacket), (LGG4567, Faux Leather Leggings), (CLR6789, Colorblock Sweater), (VNL8901, Vinyl Trench Coat), (FZF0123, Fuzzy Fleece Jacket), (CGN2345, Cargo Pants), (PWD6543, Puffer Parka), (SWT8765, Sweater Dress), (FZV1098, Fuzzy Vest), (QTD5432, Quilted Down Coat), (FLC7654, Fleece-Lined Leggings), (LDR3210, Lined Dress Coat), (WTL1098, Wool Trench Coat), (SCS9876, Sweater Coat), (SSN8901, Stylish Sneakers), (MSL1098, Metallic Slingbacks), (SND7654, Strappy Sandals), (CHK8901, Chunky Sneakers), (MLR0123, Mule Loafers), (CLG4567, Clog Sandals), (SNB4321, Snow Boots)]\n"
     ]
    }
   ],
   "source": [
    "print(str(inventory.get_available_products()).replace(\"'\", \"\"))"
   ],
   "metadata": {
    "collapsed": false,
    "pycharm": {
     "name": "#%%\n"
    }
   }
  },
  {
   "cell_type": "code",
   "execution_count": 344,
   "outputs": [
    {
     "name": "stdout",
     "output_type": "stream",
     "text": [
      "[('Inquiry', 1), ('Order', 2)]\n"
     ]
    }
   ],
   "source": [
    "def get_request_types():\n",
    "    return [(k, v.value) for k, v in vars(RequestType).items() if \"_\" not in k]\n",
    "\n",
    "print(get_request_types())"
   ],
   "metadata": {
    "collapsed": false,
    "pycharm": {
     "name": "#%%\n"
    }
   }
  },
  {
   "cell_type": "code",
   "execution_count": 345,
   "outputs": [
    {
     "name": "stdout",
     "output_type": "stream",
     "text": [
      "ChatCompletionMessage(content=\"[E001, LTH0976, Leather Bifold Wallet, 2]\\n[E002, VBT2345, Vibrant Tote, 2]\\n[E003, LTH1098, Leather Backpack, 1]\\n[E003, NULL, Leather Tote, 1]\\n[E004, SFT1098, Infinity Scarf, 2]\\n[E005, CSH1098, Cozy Shawl, 1]\\n[E006, CBT8901, Chelsea Boots, 1]\\n[E007, CLF2109, Cable Knit Beanie, 2]\\n[E007, FZZ1098, Fuzzy Slippers, 2]\\n[E008, VSC6789, Versatile Scarf, 2]\\n[E009, DHN0987, Chunky Knit Beanie, 1]\\n[E010, RSG8901, Retro Sunglasses, 2]\\n[E011, RSG8901, Retro Sunglasses, 1]\\n[E012, NULL, Messenger Bag, 1]\\n[E013, SND7654, Slide Sandals, 2]\\n[E014, SWL2345, Sleek Wallet, 2]\\n[E015, NULL, Men's Bag, 1]\\n[E016, NULL, Dress, 1]\\n[E016, NULL, Travel Bag, 1]\\n[E017, NULL, NULL, 2]\\n[E018, RSG8901, Retro Sunglasses, 2]\\n[E019, CBT8901, Chelsea Boots, 2]\\n[E019, FZZ1098, Fuzzy Slippers, 2]\\n[E020, SDE2345, Saddle Bag, 1]\\n[E021, NULL, Winter Hats, 1]\", refusal=None, role='assistant', function_call=None, tool_calls=None)\n"
     ]
    }
   ],
   "source": [
    "def classify_emails(emails: list[Email]):\n",
    "    products = str(inventory.get_available_products()).replace(\"'\", \"\")\n",
    "    request_types = str(get_request_types()).replace(\"'\", \"\")\n",
    "    template = f\"Given the following list of available products and their product_id's, {products}.\" \\\n",
    "               f\"and the enum values of the request types, {request_types}\"  \\\n",
    "               f\"\\nOnly reply (in a string format) with a generated Python list of tuples, format\" \\\n",
    "               f\"(email_id, product_id, product_name, request_type_value), classifying ALL the following email messages \" \\\n",
    "               f\"into request types 'Inquiries' and 'Orders',  based on the tone and content of the emails. \" \\\n",
    "               f\"\\nNote that if product or product_id is not available the product_id set SHOULD be NULL only if the message reads like the email user was requesting something on the particular product.\" \\\n",
    "               f\"\\nNote that emails with multiple product request MUST be split into multiples tuples for each requests.\" \\\n",
    "               f\"\\nDO NOT use an apostrophe to represent the strings\" \\\n",
    "               f\"\\nNote that the tuples MUST be in new lines:\"\n",
    "    responses = []\n",
    "    for batch in batch_process_emails(emails):\n",
    "        prompt = template + batch\n",
    "        # print(prompt)\n",
    "\n",
    "        client = OpenAI(\n",
    "            # In order to use provided API key, make sure that models you create point to this custom base URL.\n",
    "            base_url='https://47v4us7kyypinfb5lcligtc3x40ygqbs.lambda-url.us-east-1.on.aws/v1/',\n",
    "            # The temporary API key giving access to ChatGPT 4o model. Quotas apply: you have 500'000 input and 500'000 output tokens, use them wisely ;)\n",
    "            api_key='a0BIj000001iX7PMAU'\n",
    "        )\n",
    "\n",
    "        completion = client.chat.completions.create(\n",
    "          model=\"gpt-4o\",\n",
    "          messages=[\n",
    "            {\"role\": \"user\", \"content\": prompt}\n",
    "          ]\n",
    "        )\n",
    "\n",
    "        response = completion.choices[0].message\n",
    "        print(response)\n",
    "        responses.append(response)\n",
    "    return responses\n",
    "\n",
    "responses = classify_emails(EMAILS)"
   ],
   "metadata": {
    "collapsed": false,
    "pycharm": {
     "name": "#%%\n"
    }
   }
  },
  {
   "cell_type": "code",
   "execution_count": 346,
   "outputs": [
    {
     "name": "stdout",
     "output_type": "stream",
     "text": [
      "[E001, LTH0976, Leather Bifold Wallet, 2]\n",
      "[E002, VBT2345, Vibrant Tote, 2]\n",
      "[E003, LTH1098, Leather Backpack, 1]\n",
      "[E003, NULL, Leather Tote, 1]\n",
      "[E004, SFT1098, Infinity Scarf, 2]\n",
      "[E005, CSH1098, Cozy Shawl, 1]\n",
      "[E006, CBT8901, Chelsea Boots, 1]\n",
      "[E007, CLF2109, Cable Knit Beanie, 2]\n",
      "[E007, FZZ1098, Fuzzy Slippers, 2]\n",
      "[E008, VSC6789, Versatile Scarf, 2]\n",
      "[E009, DHN0987, Chunky Knit Beanie, 1]\n",
      "[E010, RSG8901, Retro Sunglasses, 2]\n",
      "[E011, RSG8901, Retro Sunglasses, 1]\n",
      "[E012, NULL, Messenger Bag, 1]\n",
      "[E013, SND7654, Slide Sandals, 2]\n",
      "[E014, SWL2345, Sleek Wallet, 2]\n",
      "[E015, NULL, Men's Bag, 1]\n",
      "[E016, NULL, Dress, 1]\n",
      "[E016, NULL, Travel Bag, 1]\n",
      "[E017, NULL, NULL, 2]\n",
      "[E018, RSG8901, Retro Sunglasses, 2]\n",
      "[E019, CBT8901, Chelsea Boots, 2]\n",
      "[E019, FZZ1098, Fuzzy Slippers, 2]\n",
      "[E020, SDE2345, Saddle Bag, 1]\n",
      "[E021, NULL, Winter Hats, 1]\n"
     ]
    }
   ],
   "source": [
    "print(responses[0].content)"
   ],
   "metadata": {
    "collapsed": false,
    "pycharm": {
     "name": "#%%\n"
    }
   }
  },
  {
   "cell_type": "code",
   "execution_count": 347,
   "outputs": [
    {
     "data": {
      "text/plain": "['[E005,', 'CSH1098,', 'Cozy', 'Shawl,', '1]']"
     },
     "execution_count": 347,
     "metadata": {},
     "output_type": "execute_result"
    }
   ],
   "source": [
    "responses[0].content.splitlines()[5].split()"
   ],
   "metadata": {
    "collapsed": false,
    "pycharm": {
     "name": "#%%\n"
    }
   }
  },
  {
   "cell_type": "code",
   "execution_count": 358,
   "outputs": [
    {
     "name": "stdout",
     "output_type": "stream",
     "text": [
      "E006\n",
      "CBT8901\n",
      "Chelsea\n",
      "Boots\n",
      "1\n"
     ]
    }
   ],
   "source": [
    "for txt in responses[0].content.splitlines()[6].split():\n",
    "    print(re.findall(r'\\b\\w+\\b', txt)[0])"
   ],
   "metadata": {
    "collapsed": false,
    "pycharm": {
     "name": "#%%\n"
    }
   }
  },
  {
   "cell_type": "code",
   "execution_count": 362,
   "outputs": [],
   "source": [
    "def filter_requests(response):\n",
    "    def get_request_type(value: int):\n",
    "        value = int(value)\n",
    "        types = {v.value: v for k, v in vars(RequestType).items() if \"_\" not in k}\n",
    "        if value in types:\n",
    "            return types[value]\n",
    "        else:\n",
    "            raise ValueError(f\"Unknown request type '{value}'\")\n",
    "        pass\n",
    "\n",
    "    def str_combine(strings: list[str]):\n",
    "        if len(strings) > 1:\n",
    "            text = strings[0]\n",
    "            for string in strings[1:]:\n",
    "                text += f\" {string}\"\n",
    "        elif len(strings) == 1:\n",
    "            text = strings[0]\n",
    "        else:\n",
    "            raise ValueError(f\"Cannot combine empty list of strings\")\n",
    "        return text\n",
    "\n",
    "    # Filter the tuples from the string\n",
    "    validation_pattern_1 = r'.*\\(.*E.*\\).*'\n",
    "    validation_pattern_2 = r'.*\\[.*E.*\\].*'\n",
    "    requests: list[str] = [line for line in response.content.splitlines() if bool(re.match(validation_pattern_1, line)) or bool(re.match(validation_pattern_2, line))]\n",
    "    # Filter the elements of the tuple\n",
    "    filter_pattern = r'\\b\\w+\\b'\n",
    "    requests: list[list[str]] = [tuple([re.findall(filter_pattern, item)[0] for item in line.split()]) for line in requests]\n",
    "    # Convert string tuple to an actual tuple\n",
    "    requests: list[tuple] = [(req[0], req[1], str_combine(req[2:len(req)-1]), get_request_type(req[-1])) for req in requests]\n",
    "    # Filter the faulty tuples\n",
    "    requests = [req for req in requests if 'NULL' not in req[2]]\n",
    "    # Filter request types\n",
    "    inquiries = [req for req in requests if req[3] == RequestType.Inquiry]\n",
    "    orders = [req for req in requests if req[3] == RequestType.Order]\n",
    "    return inquiries, orders"
   ],
   "metadata": {
    "collapsed": false,
    "pycharm": {
     "name": "#%%\n"
    }
   }
  },
  {
   "cell_type": "code",
   "execution_count": 363,
   "outputs": [],
   "source": [
    "INQUIRIES, ORDERS = [], []\n",
    "for batch in responses:\n",
    "    inq, odr = filter_requests(responses[0])\n",
    "    INQUIRIES += inq\n",
    "    ORDERS += odr"
   ],
   "metadata": {
    "collapsed": false,
    "pycharm": {
     "name": "#%%\n"
    }
   }
  },
  {
   "cell_type": "code",
   "execution_count": 364,
   "outputs": [
    {
     "name": "stdout",
     "output_type": "stream",
     "text": [
      "-------------------\n",
      "('E003', 'LTH1098', 'Leather Backpack', <RequestType.Inquiry: 1>)\n",
      "('E003', 'NULL', 'Leather Tote', <RequestType.Inquiry: 1>)\n",
      "('E005', 'CSH1098', 'Cozy Shawl', <RequestType.Inquiry: 1>)\n",
      "('E006', 'CBT8901', 'Chelsea Boots', <RequestType.Inquiry: 1>)\n",
      "('E009', 'DHN0987', 'Chunky Knit Beanie', <RequestType.Inquiry: 1>)\n",
      "('E011', 'RSG8901', 'Retro Sunglasses', <RequestType.Inquiry: 1>)\n",
      "('E012', 'NULL', 'Messenger Bag', <RequestType.Inquiry: 1>)\n",
      "('E015', 'NULL', 'Men Bag', <RequestType.Inquiry: 1>)\n",
      "('E016', 'NULL', 'Dress', <RequestType.Inquiry: 1>)\n",
      "('E016', 'NULL', 'Travel Bag', <RequestType.Inquiry: 1>)\n",
      "('E020', 'SDE2345', 'Saddle Bag', <RequestType.Inquiry: 1>)\n",
      "('E021', 'NULL', 'Winter Hats', <RequestType.Inquiry: 1>)\n",
      "-------------------\n",
      "-------------------\n",
      "('E001', 'LTH0976', 'Leather Bifold Wallet', <RequestType.Order: 2>)\n",
      "('E002', 'VBT2345', 'Vibrant Tote', <RequestType.Order: 2>)\n",
      "('E004', 'SFT1098', 'Infinity Scarf', <RequestType.Order: 2>)\n",
      "('E007', 'CLF2109', 'Cable Knit Beanie', <RequestType.Order: 2>)\n",
      "('E007', 'FZZ1098', 'Fuzzy Slippers', <RequestType.Order: 2>)\n",
      "('E008', 'VSC6789', 'Versatile Scarf', <RequestType.Order: 2>)\n",
      "('E010', 'RSG8901', 'Retro Sunglasses', <RequestType.Order: 2>)\n",
      "('E013', 'SND7654', 'Slide Sandals', <RequestType.Order: 2>)\n",
      "('E014', 'SWL2345', 'Sleek Wallet', <RequestType.Order: 2>)\n",
      "('E018', 'RSG8901', 'Retro Sunglasses', <RequestType.Order: 2>)\n",
      "('E019', 'CBT8901', 'Chelsea Boots', <RequestType.Order: 2>)\n",
      "('E019', 'FZZ1098', 'Fuzzy Slippers', <RequestType.Order: 2>)\n",
      "-------------------\n"
     ]
    }
   ],
   "source": [
    "for r_type in filter_requests(responses[0]):\n",
    "    print(f\"-------------------\")\n",
    "    for t in r_type:\n",
    "        print(t)\n",
    "    print(f\"-------------------\")"
   ],
   "metadata": {
    "collapsed": false,
    "pycharm": {
     "name": "#%%\n"
    }
   }
  },
  {
   "cell_type": "markdown",
   "metadata": {
    "id": "lm3ZeatjYjM3",
    "pycharm": {
     "name": "#%% md\n"
    }
   },
   "source": [
    "# Task 2. Process order requests"
   ]
  },
  {
   "cell_type": "code",
   "execution_count": 365,
   "outputs": [],
   "source": [
    "for order in ORDERS:\n",
    "    email_id, product_id, product, product_type = order\n",
    "    inventory.order(product_id, product, email_id)"
   ],
   "metadata": {
    "collapsed": false,
    "pycharm": {
     "name": "#%%\n"
    }
   }
  },
  {
   "cell_type": "markdown",
   "source": [
    "# Task 3. Handle product inquiry"
   ],
   "metadata": {
    "collapsed": false,
    "pycharm": {
     "name": "#%% md\n"
    }
   }
  },
  {
   "cell_type": "code",
   "execution_count": 366,
   "outputs": [],
   "source": [
    "for inquiry in ORDERS:\n",
    "    email_id, product_id, product, product_type = inquiry\n",
    "    inventory.inquire(product_id, product, email_id)"
   ],
   "metadata": {
    "collapsed": false,
    "pycharm": {
     "name": "#%%\n"
    }
   }
  },
  {
   "cell_type": "code",
   "execution_count": 378,
   "outputs": [],
   "source": [
    "def reply_email(request: Request):\n",
    "    # Pseudo reply to email\n",
    "    if not request.responded:\n",
    "        print(f\"For email {request.email} ~ {request.result}\")\n",
    "        request.responded = True\n",
    "\n",
    "\n",
    "def batch_reply_email(inventory: Inventory):\n",
    "    for request in inventory.requests:\n",
    "        reply_email(request)"
   ],
   "metadata": {
    "collapsed": false,
    "pycharm": {
     "name": "#%%\n"
    }
   }
  },
  {
   "cell_type": "code",
   "execution_count": 384,
   "outputs": [
    {
     "name": "stdout",
     "output_type": "stream",
     "text": [
      "For email E001 ~ Order on 'Leather Bifold Wallet', id #LTH0976, was successful\n",
      "For email E002 ~ Order on 'Vibrant Tote', id #VBT2345, was successful\n",
      "For email E004 ~ Order on 'Infinity Scarf', id #SFT1098, was successful\n",
      "For email E007 ~ Order on 'Cable Knit Beanie', id #CLF2109, was successful\n",
      "For email E007 ~ Order on 'Fuzzy Slippers', id #FZZ1098, was successful\n",
      "For email E008 ~ Order on 'Versatile Scarf', id #VSC6789, was successful\n",
      "For email E010 ~ Order on 'Retro Sunglasses', id #RSG8901, was successful\n",
      "For email E013 ~ Order on 'Strappy Sandals', id #SND7654, was successful\n",
      "For email E014 ~ Order on 'Sleek Wallet', id #SWL2345, was successful\n",
      "For email E018 ~ 'Retro Sunglasses', id #RSG8901, is out of stock\n",
      "For email E019 ~ Order on 'Chelsea Boots', id #CBT8901, was successful\n",
      "For email E019 ~ Order on 'Fuzzy Slippers', id #FZZ1098, was successful\n",
      "For email E001 ~ Upgrade your everyday carry with our leather bifold wallet. Crafted from premium, full-grain leather, this sleek wallet features multiple card slots, a billfold compartment, and a timeless, minimalist design. A sophisticated choice for any occasion.\n",
      "For email E002 ~ Add a pop of color to your everyday carry with our vibrant tote bag. Spacious and stylish, it's the perfect companion for running errands or carrying your essentials. The vibrant hue is sure to turn heads.\n",
      "For email E004 ~ Stay cozy and stylish with our infinity scarf. This versatile accessory features a soft, chunky knit construction and an endless loop design for easy wearing. Perfect for adding a touch of warmth and texture to your winter ensembles.\n",
      "For email E007 ~ Bundle up in our cable knit beanie. Knitted from premium wool, this classic beanie features a timeless cable knit pattern and a soft, stretchy fit. A versatile accessory for adding a touch of warmth and texture to your cold-weather looks.\n",
      "For email E007 ~ Cozy up in our fuzzy slippers. These ultra-soft slippers feature a plush, fuzzy exterior and a cushioned, moisture-wicking footbed for ultimate comfort. An ideal choice for lounging at home or running errands on chilly days.\n",
      "For email E008 ~ Add a touch of versatility to your wardrobe with our versatile scarf. This lightweight, multi-purpose accessory can be worn as a scarf, shawl, or even a headwrap. Perfect for transitional seasons or travel.\n",
      "For email E010 ~ Transport yourself back in time with our retro sunglasses. These vintage-inspired shades offer a cool, nostalgic vibe while protecting your eyes from the sun's rays. Perfect for beach days or city strolls.\n",
      "For email E013 ~ Step into summer with our strappy sandals. These open-toe sandals feature a trendy, strappy design and a comfortable, cushioned footbed. Perfect for beach days, outdoor events, or casual weekend wear.\n",
      "For email E014 ~ Keep your essentials organized and secure with our sleek wallet. Featuring multiple card slots and a billfold compartment, this stylish wallet is both functional and fashionable. Perfect for everyday carry.\n",
      "For email E018 ~ Transport yourself back in time with our retro sunglasses. These vintage-inspired shades offer a cool, nostalgic vibe while protecting your eyes from the sun's rays. Perfect for beach days or city strolls.\n",
      "For email E019 ~ Elevate your casual looks with our Chelsea boots. These stylish ankle boots feature a sleek leather construction, elastic side panels, and a sturdy lug sole. An essential for completing modern, edgy outfits.\n",
      "For email E019 ~ Cozy up in our fuzzy slippers. These ultra-soft slippers feature a plush, fuzzy exterior and a cushioned, moisture-wicking footbed for ultimate comfort. An ideal choice for lounging at home or running errands on chilly days.\n"
     ]
    }
   ],
   "source": [
    "batch_reply_email(inventory)\n",
    "\n",
    "# RESET responses\n",
    "for request in inventory.requests:\n",
    "    request.responded = False"
   ],
   "metadata": {
    "collapsed": false,
    "pycharm": {
     "name": "#%%\n"
    }
   }
  },
  {
   "cell_type": "code",
   "execution_count": null,
   "outputs": [],
   "source": [],
   "metadata": {
    "collapsed": false,
    "pycharm": {
     "name": "#%%\n",
     "is_executing": true
    }
   }
  },
  {
   "cell_type": "code",
   "execution_count": 383,
   "outputs": [],
   "source": [],
   "metadata": {
    "collapsed": false,
    "pycharm": {
     "name": "#%%\n"
    }
   }
  }
 ],
 "metadata": {
  "colab": {
   "provenance": [
    {
     "file_id": "1MH0-btlh2iKODb_Go9yMBeVYPWq9imQR",
     "timestamp": 1727774774486
    }
   ]
  },
  "kernelspec": {
   "display_name": "Python 3",
   "name": "python3"
  },
  "language_info": {
   "name": "python"
  }
 },
 "nbformat": 4,
 "nbformat_minor": 0
}