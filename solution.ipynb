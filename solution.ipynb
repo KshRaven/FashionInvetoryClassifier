{
 "cells": [
  {
   "cell_type": "markdown",
   "metadata": {
    "id": "e0n49UaWPGAd",
    "pycharm": {
     "name": "#%% md\n"
    }
   },
   "source": [
    "# Solving Business Problems with AI\n",
    "\n",
    "## Objective\n",
    "Develop a proof-of-concept application to intelligently process email order requests and customer inquiries for a fashion store. The system should accurately categorize emails as either product inquiries or order requests and generate appropriate responses using the product catalog information and current stock status.\n",
    "\n",
    "## Task Description\n",
    "\n",
    "### Inputs\n",
    "\n",
    "Google Spreadsheet **[Document](https://docs.google.com/spreadsheets/d/14fKHsblfqZfWj3iAaM2oA51TlYfQlFT4WKo52fVaQ9U)** containing:\n",
    "\n",
    "- **Products**: List of products with fields including product ID, name, category, stock amount, detailed description, and season.\n",
    "\n",
    "- **Emails**: Sequential list of emails with fields such as email ID, subject, and body.\n",
    "\n",
    "### Instructions\n",
    "\n",
    "- Implement all requirements using advanced Large Language Models (LLMs) to handle complex tasks, process extensive data, and generate accurate outputs effectively.\n",
    "- Use Retrieval-Augmented Generation (RAG) and vector store techniques where applicable to retrieve relevant information and generate responses.\n",
    "- You are provided with a temporary OpenAI API key granting access to GPT-4o, which has a token quota. Use it wisely or use your own key if preferred.\n",
    "- Address the requirements in the order listed. Review them in advance to develop a general implementation plan before starting.\n",
    "- Your deliverables should include:\n",
    "   - Code developed within this notebook.\n",
    "   - A single spreadsheet containing results, organized across separate sheets.\n",
    "   - Comments detailing your thought process.\n",
    "- You may use additional libraries (e.g., langchain) to streamline the solution. Use libraries appropriately to align with best practices for AI and LLM tools.\n",
    "- Use the most suitable AI techniques for each task. Note that solving tasks with traditional programming methods will not earn points, as this assessment evaluates your knowledge of LLM tools and best practices.\n",
    "\n",
    "### Requirements\n",
    "\n",
    "#### 1. Classify emails\n",
    "    \n",
    "Classify each email as either a _**\"product inquiry\"**_ or an _**\"order request\"**_. Ensure that the classification accurately reflects the intent of the email.\n",
    "\n",
    "**Output**: Populate the **email-classification** sheet with columns: email ID, category.\n",
    "\n",
    "#### 2. Process order requests\n",
    "1.   Process orders\n",
    "  - For each order request, verify product availability in stock.\n",
    "  - If the order can be fulfilled, create a new order line with the status “created”.\n",
    "  - If the order cannot be fulfilled due to insufficient stock, create a line with the status “out of stock” and include the requested quantity.\n",
    "  - Update stock levels after processing each order.\n",
    "  - Record each product request from the email.\n",
    "  - **Output**: Populate the **order-status** sheet with columns: email ID, product ID, quantity, status (**_\"created\"_**, **_\"out of stock\"_**).\n",
    "\n",
    "2.   Generate responses\n",
    "  - Create response emails based on the order processing results:\n",
    "      - If the order is fully processed, inform the customer and provide product details.\n",
    "      - If the order cannot be fulfilled or is only partially fulfilled, explain the situation, specify the out-of-stock items, and suggest alternatives or options (e.g., waiting for restock).\n",
    "  - Ensure the email tone is professional and production-ready.\n",
    "  - **Output**: Populate the **order-response** sheet with columns: email ID, response.\n",
    "\n",
    "#### 3. Handle product inquiry\n",
    "\n",
    "Customers may ask general open questions.\n",
    "  - Respond to product inquiries using relevant information from the product catalog.\n",
    "  - Ensure your solution scales to handle a full catalog of over 100,000 products without exceeding token limits. Avoid including the entire catalog in the prompt.\n",
    "  - **Output**: Populate the **inquiry-response** sheet with columns: email ID, response.\n",
    "\n",
    "## Evaluation Criteria\n",
    "- **Advanced AI Techniques**: The system should use Retrieval-Augmented Generation (RAG) and vector store techniques to retrieve relevant information from data sources and use it to respond to customer inquiries.\n",
    "- **Tone Adaptation**: The AI should adapt its tone appropriately based on the context of the customer's inquiry. Responses should be informative and enhance the customer experience.\n",
    "- **Code Completeness**: All functionalities outlined in the requirements must be fully implemented and operational as described.\n",
    "- **Code Quality and Clarity**: The code should be well-organized, with clear logic and a structured approach. It should be easy to understand and maintain.\n",
    "- **Presence of Expected Outputs**: All specified outputs must be correctly generated and saved in the appropriate sheets of the output spreadsheet. Ensure the format of each output matches the requirements—do not add extra columns or sheets.\n",
    "- **Accuracy of Outputs**: The accuracy of the generated outputs is crucial and will significantly impact the evaluation of your submission.\n",
    "\n",
    "We look forward to seeing your solution and your approach to solving real-world problems with AI technologies."
   ]
  },
  {
   "cell_type": "markdown",
   "metadata": {
    "id": "GOUEcKe-xSPr",
    "pycharm": {
     "name": "#%% md\n"
    }
   },
   "source": [
    "# Prerequisites"
   ]
  },
  {
   "cell_type": "code",
   "execution_count": null,
   "metadata": {
    "collapsed": false,
    "jupyter": {
     "outputs_hidden": false
    },
    "pycharm": {
     "name": "#%%\n"
    }
   },
   "outputs": [],
   "source": [
    "# # Install the OpenAI Python package.\n",
    "%pip install -U openai \"pandas<2.2.3\" openpyxl\n"
   ]
  },
  {
   "cell_type": "code",
   "execution_count": null,
   "metadata": {
    "collapsed": false,
    "jupyter": {
     "outputs_hidden": false
    },
    "pycharm": {
     "name": "#%%\n"
    }
   },
   "outputs": [],
   "source": [
    "# IMPORTS\n",
    "from IPython.display import display\n",
    "from openpyxl import load_workbook, Workbook\n",
    "from typing import Union\n",
    "from enum import Enum\n",
    "from openai import OpenAI\n",
    "\n",
    "import os\n",
    "import pandas as pd\n",
    "import time as clock\n",
    "import re\n",
    "import random\n",
    "import requests"
   ]
  },
  {
   "cell_type": "markdown",
   "metadata": {
    "collapsed": false,
    "jupyter": {
     "outputs_hidden": false
    },
    "pycharm": {
     "name": "#%% md\n"
    }
   },
   "source": [
    "### Configure OpenAI API Key."
   ]
  },
  {
   "cell_type": "markdown",
   "metadata": {
    "collapsed": false,
    "jupyter": {
     "outputs_hidden": false
    },
    "pycharm": {
     "name": "#%% md\n"
    }
   },
   "source": [
    "**IMPORTANT: If you are going to use our custom API Key then make sure that you also use custom base URL as in example below. Otherwise it will not work.**"
   ]
  },
  {
   "cell_type": "code",
   "execution_count": null,
   "metadata": {
    "collapsed": false,
    "jupyter": {
     "outputs_hidden": false
    },
    "pycharm": {
     "name": "#%%\n"
    }
   },
   "outputs": [],
   "source": [
    "# Code example of OpenAI communication\n",
    "\n",
    "client = OpenAI(\n",
    "    # In order to use provided API key, make sure that models you create point to this custom base URL.\n",
    "    base_url='https://47v4us7kyypinfb5lcligtc3x40ygqbs.lambda-url.us-east-1.on.aws/v1/',\n",
    "    # The temporary API key giving access to ChatGPT 4o model. Quotas apply: you have 500'000 input and 500'000 output tokens, use them wisely ;)\n",
    "    api_key='a0BIj000001iX7PMAU'\n",
    ")\n",
    "\n",
    "completion = client.chat.completions.create(\n",
    "  model=\"gpt-4o\",\n",
    "  messages=[\n",
    "    {\"role\": \"user\", \"content\": \"Hello!\"}\n",
    "  ]\n",
    ")\n",
    "\n",
    "print(completion.choices[0].message)"
   ]
  },
  {
   "cell_type": "code",
   "execution_count": null,
   "metadata": {
    "collapsed": false,
    "jupyter": {
     "outputs_hidden": false
    },
    "pycharm": {
     "name": "#%%\n"
    }
   },
   "outputs": [],
   "source": [
    "class Spreadsheet(object):\n",
    "    def __init__(self, filename: str = None):\n",
    "        if filename is None:\n",
    "            filename = \"source.xlsx\"\n",
    "        self.filename: str = f\"{os.getcwd()}\\\\{filename}\"\n",
    "        # Load the workbook if it exists, otherwise create a new one\n",
    "        try:\n",
    "            self.workbook = load_workbook(self.filename)\n",
    "        except FileNotFoundError:\n",
    "            self.workbook = Workbook()\n",
    "            self.workbook.save(self.filename)\n",
    "        self.worksheets = self.workbook.sheetnames  # List of worksheet names\n",
    "\n",
    "    # List all available worksheets\n",
    "    def list_worksheets(self):\n",
    "        return self.workbook.sheetnames\n",
    "\n",
    "    # Adds a new worksheet with given columns\n",
    "    def add_worksheet(self, sheet_name: str, columns: list[str]):\n",
    "        if sheet_name in self.workbook.sheetnames:\n",
    "            raise ValueError(f\"Worksheet '{sheet_name}' already exists\")\n",
    "        ws = self.workbook.create_sheet(title=sheet_name)\n",
    "        ws.append(columns)  # Add columns as the first row\n",
    "        self.workbook.save(self.filename)\n",
    "\n",
    "    # Deletes a worksheet\n",
    "    def del_worksheet(self, sheet_name: str):\n",
    "        if sheet_name not in self.workbook.sheetnames:\n",
    "            print(f\"Worksheet '{sheet_name}' does not exist\")\n",
    "        else:\n",
    "            del self.workbook[sheet_name]\n",
    "        self.workbook.save(self.filename)\n",
    "\n",
    "    # Adds a record to the given worksheet\n",
    "    def add_record(self, sheet_name: str, record: tuple):\n",
    "        if sheet_name not in self.workbook.sheetnames:\n",
    "            raise ValueError(f\"Worksheet '{sheet_name}' does not exist\")\n",
    "\n",
    "        ws = self.workbook[sheet_name]\n",
    "\n",
    "        # Check if the record exists (assuming the first element of the record is the unique key)\n",
    "        record_key = record[0]  # Assuming the first element is the unique identifier\n",
    "        found = False\n",
    "\n",
    "        for row in ws.iter_rows(min_row=2, values_only=False):  # Assuming first row contains headers\n",
    "            if row[0].value == record_key:\n",
    "                found = True\n",
    "                for i, cell in enumerate(row):\n",
    "                    cell.value = record[i]  # Overwrite with the new record values\n",
    "                break\n",
    "\n",
    "        if not found:\n",
    "            ws.append(record)  # Append as a new record if no matching record is found\n",
    "\n",
    "        self.workbook.save(self.filename)\n",
    "\n",
    "    # Deletes a record from the given worksheet based on the row index (1-based index)\n",
    "    def del_record(self, sheet_name: str, record_index: int):\n",
    "        if sheet_name not in self.workbook.sheetnames:\n",
    "            raise ValueError(f\"Worksheet '{sheet_name}' does not exist\")\n",
    "        ws = self.workbook[sheet_name]\n",
    "        ws.delete_rows(record_index)  # Delete the row at the specified index\n",
    "        self.workbook.save(self.filename)\n",
    "\n",
    "    # Returns all worksheets (or selected ones) as a dictionary of pandas DataFrames\n",
    "    def as_dataframe(self, worksheets=None):\n",
    "        if worksheets is None:\n",
    "            worksheets = self.workbook.sheetnames\n",
    "        dfs = {}\n",
    "        for sheet in worksheets:\n",
    "            if sheet not in self.workbook.sheetnames:\n",
    "                raise ValueError(f\"Worksheet '{sheet}' does not exist\")\n",
    "            ws = self.workbook[sheet]\n",
    "            data = ws.values\n",
    "            columns = next(data)  # First row is the columns\n",
    "            df = pd.DataFrame(data, columns=columns)\n",
    "            dfs[sheet] = df\n",
    "        return dfs"
   ]
  },
  {
   "cell_type": "code",
   "execution_count": null,
   "metadata": {
    "collapsed": false,
    "jupyter": {
     "outputs_hidden": false
    },
    "pycharm": {
     "name": "#%%\n"
    }
   },
   "outputs": [],
   "source": [
    "DOC_ID = '14fKHsblfqZfWj3iAaM2oA51TlYfQlFT4WKo52fVaQ9U'\n",
    "LINK = f\"https://docs.google.com/spreadsheets/d/{DOC_ID}/export?format=xlsx\"\n",
    "resp = requests.get(LINK)\n",
    "FILEPATH = os.getcwd() + f\"\\\\spreadsheet.xlsx\"\n",
    "display(FILEPATH)\n",
    "while not os.path.exists(FILEPATH):\n",
    "    with open(FILEPATH, 'wb') as file:\n",
    "        file.write(resp.content)"
   ]
  },
  {
   "cell_type": "code",
   "execution_count": null,
   "metadata": {
    "collapsed": false,
    "jupyter": {
     "outputs_hidden": false
    },
    "pycharm": {
     "name": "#%%\n"
    }
   },
   "outputs": [],
   "source": [
    "spreadsheet = Spreadsheet(\"spreadsheet.xlsx\")"
   ]
  },
  {
   "cell_type": "code",
   "execution_count": null,
   "metadata": {
    "collapsed": false,
    "jupyter": {
     "outputs_hidden": false
    },
    "pycharm": {
     "name": "#%%\n"
    }
   },
   "outputs": [],
   "source": [
    "spreadsheet.del_worksheet('email-classification')\n",
    "spreadsheet.del_worksheet('order-status')\n",
    "spreadsheet.del_worksheet('order-response')\n",
    "spreadsheet.del_worksheet('inquiry-response')\n",
    "spreadsheet.add_worksheet('email-classification', ['Request ID', 'Email ID', 'Category'])\n",
    "spreadsheet.add_worksheet('order-status', ['Request ID', 'Email ID', 'Product ID', 'Quantity', 'Status'])\n",
    "spreadsheet.add_worksheet('order-response', ['Request ID', 'Email ID', 'Response'])\n",
    "spreadsheet.add_worksheet('inquiry-response', ['Request ID', 'Email ID', 'Response'])"
   ]
  },
  {
   "cell_type": "code",
   "execution_count": null,
   "metadata": {
    "collapsed": false,
    "jupyter": {
     "outputs_hidden": false
    },
    "pycharm": {
     "name": "#%%\n"
    }
   },
   "outputs": [],
   "source": [
    "spreadsheet.as_dataframe()['inquiry-response']"
   ]
  },
  {
   "cell_type": "code",
   "execution_count": null,
   "metadata": {
    "collapsed": false,
    "jupyter": {
     "outputs_hidden": false
    },
    "pycharm": {
     "name": "#%%\n"
    }
   },
   "outputs": [],
   "source": [
    "for df in spreadsheet.as_dataframe().values():\n",
    "    display(df.head(3))"
   ]
  },
  {
   "cell_type": "code",
   "execution_count": null,
   "metadata": {
    "colab": {
     "base_uri": "https://localhost:8080/",
     "height": 270
    },
    "executionInfo": {
     "elapsed": 882,
     "status": "ok",
     "timestamp": 1727776663948,
     "user": {
      "displayName": "DISMAS NG'ODA",
      "userId": "17074486062948487534"
     },
     "user_tz": -180
    },
    "id": "shE97VzGwZ4v",
    "outputId": "18a8b365-0861-49c1-cd30-11e520f92293",
    "pycharm": {
     "name": "#%%\n"
    }
   },
   "outputs": [],
   "source": [
    "dfs = spreadsheet.as_dataframe()\n",
    "products_df = dfs['products']\n",
    "emails_df = dfs['emails']\n",
    "\n",
    "# Display debugging\n",
    "display(products_df)\n",
    "display(emails_df.head(10))"
   ]
  },
  {
   "cell_type": "code",
   "execution_count": null,
   "metadata": {
    "collapsed": false,
    "jupyter": {
     "outputs_hidden": false
    },
    "pycharm": {
     "name": "#%%\n"
    }
   },
   "outputs": [],
   "source": [
    "# Verify the product info\n",
    "if len(products_df['product_id']) == len(products_df['product_id'].unique()):\n",
    "    print(f\"There are no duplicate products in inventory\")\n",
    "else:\n",
    "    raise ValueError(\"duplicate products exist in inventory\")"
   ]
  },
  {
   "cell_type": "code",
   "execution_count": null,
   "metadata": {
    "collapsed": false,
    "jupyter": {
     "outputs_hidden": false
    },
    "pycharm": {
     "name": "#%%\n"
    }
   },
   "outputs": [],
   "source": [
    "class Email(object):\n",
    "    def __init__(self, key: str, subject: str, message: str):\n",
    "        self.id = key\n",
    "        self.subject = subject if 'nan' not in str(subject) else \"<NULL>\"\n",
    "        self.message = message"
   ]
  },
  {
   "cell_type": "code",
   "execution_count": null,
   "metadata": {
    "collapsed": false,
    "jupyter": {
     "outputs_hidden": false
    },
    "pycharm": {
     "name": "#%%\n"
    }
   },
   "outputs": [],
   "source": [
    "# product class to hold product infomation\n",
    "class Product(object):\n",
    "    def __init__(self, key: str, name: str, category: str, info: str, stock: int, seasons: str, price: str):\n",
    "        self.id = key\n",
    "        self.name = name\n",
    "        self.category = category\n",
    "        self.description = info\n",
    "        self.stock = int(stock)\n",
    "        self.seasons: list[str] = [re.findall( r'\\b\\w+\\b', season)[0] for season in seasons.split()]\n",
    "        self.price = float(price)\n",
    "\n",
    "    def create_order(self, amount: Union[int, None]):\n",
    "        if amount is None or amount < -1 or amount == 0:\n",
    "            raise ValueError(f\"Invalid amount value '{amount}'\")\n",
    "        elif amount == -1:\n",
    "            amount = self.stock\n",
    "        rem = self.stock - amount\n",
    "        if rem >= 0 and amount != 0:\n",
    "            self.stock -= amount\n",
    "            return amount\n",
    "        elif self.stock == 0:\n",
    "            return 0\n",
    "        elif rem < 0:\n",
    "            return -amount\n",
    "\n",
    "    def get_info(self):\n",
    "        return f\"{self.name}{(self.category, self.description, self.seasons, self.price, self.stock)}\".replace(\"'\", \"\")"
   ]
  },
  {
   "cell_type": "code",
   "execution_count": null,
   "metadata": {
    "collapsed": false,
    "jupyter": {
     "outputs_hidden": false
    },
    "pycharm": {
     "name": "#%%\n"
    }
   },
   "outputs": [],
   "source": [
    "class RequestType(Enum):\n",
    "    Inquiry = 1\n",
    "    Order = 2\n",
    "\n",
    "# A request class to fulfill hold info requests\n",
    "class Request(object):\n",
    "    def __init__(self, key: str, product: Union[Product, None], email: Email, time: int, type: RequestType):\n",
    "        self.id = key\n",
    "        self.product = product\n",
    "        self.email = email\n",
    "        self.time = time\n",
    "        self.type = type\n",
    "        self.successful = False\n",
    "        self.result: str = None\n",
    "        self.responded = False"
   ]
  },
  {
   "cell_type": "code",
   "execution_count": null,
   "metadata": {
    "collapsed": false,
    "jupyter": {
     "outputs_hidden": false
    },
    "pycharm": {
     "name": "#%%\n"
    }
   },
   "outputs": [],
   "source": [
    "# An inventory class to retrieve info on products and fulfill requests on orders and inquiries\n",
    "class Inventory(object):\n",
    "    request_id = -1\n",
    "    def __init__(self, products: list[Product]):\n",
    "        self.products: dict[str, Product] = {p.id: p for p in products}\n",
    "        self.requests: dict[str, Request] = {}\n",
    "\n",
    "    def _get_request_id(self):\n",
    "        self.request_id += 1\n",
    "        return self.request_id\n",
    "\n",
    "    def _get_product(self, id: str):\n",
    "        if id in self.products:\n",
    "            return self.products[id]\n",
    "        else:\n",
    "            return None\n",
    "\n",
    "    def _request(self, product_id: str, email: Email):\n",
    "        product = self._get_product(product_id)\n",
    "        request = Request(f\"RQ{self._get_request_id()}\", product, email, clock.time(), RequestType.Order)\n",
    "        spreadsheet.add_record('email-classification', (request.id, email.id, request.type.name))\n",
    "        return product, request\n",
    "\n",
    "    def inquire(self, id: str, name: str, email: Email):\n",
    "        product, request = self._request(id, email)\n",
    "        if product:\n",
    "            request.successful = True\n",
    "            request.result = f\"'{product.name}'(#{product.id}): {product.description}\"\n",
    "        else:\n",
    "            request.result = f\"The product '{name}' you are inquiring does not exist!\"\n",
    "        self.requests[request.id] = request\n",
    "        spreadsheet.add_record('inquiry-response', (request.id, email.id, request.result))\n",
    "        return request\n",
    "\n",
    "    def order(self, id: str, name: str, amount: Union[int, None], email: Email):\n",
    "        product, request = self._request(id, email)\n",
    "        status = 'Out of Stock'\n",
    "        if product:\n",
    "            order_amount = product.create_order(amount)\n",
    "            if order_amount > 0:\n",
    "                request.successful = True\n",
    "                bill = order_amount * product.price\n",
    "                request.result = f\"Successfully ordered {order_amount} of '{product.name}'(#{product.id}) for ${bill}\"\n",
    "                status = 'Completed'\n",
    "            elif order_amount == 0:\n",
    "                request.result = f\"'{product.name}'(#{product.id}), is out of stock\"\n",
    "            else:\n",
    "                request.result = f\"Not enough stock to fill order of {product.name}'(#{product.id}); \" \\\n",
    "                                 f\"current stock={product.stock}, order amount={amount}\"\n",
    "        else:\n",
    "            request.result = f\"The product '{name}', you are ordering does not exist!\"\n",
    "        request.result = request.result.replace(\"'\", \"\")\n",
    "        self.requests[request.id] = request\n",
    "        spreadsheet.add_record('order-status', (request.id, email.id, product.id if product else None, amount, status))\n",
    "        spreadsheet.add_record('order-response', (request.id, email.id, request.result))\n",
    "        return request\n",
    "\n",
    "    def get_available_products(self):\n",
    "        return [(key, p.name) for key, p in self.products.items()]\n",
    "\n",
    "    def get_product_info(self):\n",
    "        text = \"With formatting ID ~ Name(Category, Description, Seasons, Price in $, Stock), product info:\"\n",
    "        for key, p in self.products.items():\n",
    "            text += f\"\\n{key} ~ {p.get_info()}\"\n",
    "        return text"
   ]
  },
  {
   "cell_type": "code",
   "execution_count": null,
   "metadata": {
    "collapsed": false,
    "jupyter": {
     "outputs_hidden": false
    },
    "pycharm": {
     "name": "#%%\n"
    }
   },
   "outputs": [],
   "source": [
    "inventory = Inventory([Product(*tuple(row)) for _, row in products_df.iterrows()])\n",
    "\n",
    "for e, v in vars(random.choice(list(inventory.products.values()))).items():\n",
    "    print(f\"{e} -> {v} (type={type(v)})\")"
   ]
  },
  {
   "cell_type": "code",
   "execution_count": null,
   "metadata": {
    "collapsed": false,
    "jupyter": {
     "outputs_hidden": false
    },
    "pycharm": {
     "name": "#%%\n"
    }
   },
   "outputs": [],
   "source": [
    "print(inventory.get_product_info())"
   ]
  },
  {
   "cell_type": "code",
   "execution_count": null,
   "metadata": {
    "collapsed": false,
    "jupyter": {
     "outputs_hidden": false
    },
    "pycharm": {
     "name": "#%%\n"
    }
   },
   "outputs": [],
   "source": [
    "MAX_TOKEN_NUM = int(4096 * 0.9)\n",
    "MAX_TOKEN_NUM"
   ]
  },
  {
   "cell_type": "markdown",
   "metadata": {
    "collapsed": false,
    "jupyter": {
     "outputs_hidden": false
    },
    "pycharm": {
     "name": "#%% md\n"
    }
   },
   "source": [
    "# Task 1. Classify emails"
   ]
  },
  {
   "cell_type": "code",
   "execution_count": null,
   "metadata": {
    "collapsed": false,
    "jupyter": {
     "outputs_hidden": false
    },
    "pycharm": {
     "name": "#%%\n"
    }
   },
   "outputs": [],
   "source": [
    "EMAILS = [Email(*tuple(row)) for _, row in emails_df.iterrows()]\n",
    "EMAILS: dict[str, Email] = {email.id: email for email in EMAILS}\n",
    "for e, v in vars(random.choice(list(EMAILS.values()))).items():\n",
    "    print(f\"{e} -> {v}\")\n",
    "\n",
    "\n",
    "def approximate_tokens(text: str):\n",
    "    # Finding words\n",
    "    words = len(text.split())\n",
    "    # Finding symbols\n",
    "    symbols = len(re.findall(r'[^\\w\\s]', text))\n",
    "    return words + symbols\n",
    "approximate_tokens(\"Hello there! How're you doing? My name is <FILL>\")\n",
    "\n",
    "\n",
    "# Assuming email has been processed into an instance on class Email\n",
    "def process_email(email: Email):\n",
    "    prompt = f\"Email ID '{email.id}', ref: {email.subject}, msg: {email.message}\"\n",
    "    tokens = approximate_tokens(prompt)\n",
    "    return prompt, tokens\n",
    "\n",
    "# Batch process emails to fill as many tokens per prompt and improve on response speed\n",
    "# This will save on the tokens used as you'd need to append a new template tokens for each email request if not using batches\n",
    "def batch_process_emails(emails: list[Email], token_limit: int = None):\n",
    "    if token_limit is None:\n",
    "        token_limit = MAX_TOKEN_NUM\n",
    "    batches = []\n",
    "    batch = \"\"\n",
    "    batch_idx = 0\n",
    "    token_num = 0\n",
    "    for i, email in enumerate(emails):\n",
    "        prompt, tokens = process_email(email)\n",
    "        if token_num + tokens + 3 > token_limit:\n",
    "            if len(batch) > 0:\n",
    "                batches.append(batch)\n",
    "            print(batch)\n",
    "            batch = \"\"\n",
    "            batch_idx = 0\n",
    "            token_num = 0\n",
    "        batch += f\"\\n{batch_idx} => {prompt}\"\n",
    "        batch_idx += 1\n",
    "        token_num += (tokens + 3)\n",
    "        # print(batch)\n",
    "        if len(batches) == 0 and i == len(emails)-1:\n",
    "            batches.append(batch)\n",
    "    return batches\n",
    "display(f\"-------------------\")\n",
    "print(batch_process_emails(list(EMAILS.values()))[0])\n",
    "display(len(batch_process_emails(list(EMAILS.values()))))\n",
    "\n",
    "\n",
    "def get_request_types():\n",
    "    return [(k, v.value) for k, v in vars(RequestType).items() if \"_\" not in k]\n",
    "\n",
    "display(f\"-------------------\")\n",
    "print(get_request_types())\n",
    "\n",
    "\n",
    "def classify_emails(emails: list[Email], max_attempts=10):\n",
    "    # using RAG techniques\n",
    "    products = str(inventory.get_available_products()).replace(\"'\", \"\")\n",
    "    request_types = str(get_request_types()).replace(\"'\", \"\")\n",
    "    template = f\"Given the following list of available products and their product_id's, {products}.\" \\\n",
    "               f\"and the enum values of the request types, {request_types}\"  \\\n",
    "               f\"\\nONLY reply (in a string format) with a generated Python list of tuples, format\" \\\n",
    "               f\"(email_id, product_id, product_name, amount, request_type_value), classifying ALL the following email messages \" \\\n",
    "               f\"into request types 'Inquiries' and 'Orders',  based on the tone and content of the emails. \" \\\n",
    "               f\"\\nNote that if product or product_id is not available the product_id set SHOULD be NULL only if the message reads like the email user was requesting something on the particular product.\" \\\n",
    "               f\"\\nNote that emails with multiple product requests MUST be split into multiples tuples for each requests.\" \\\n",
    "               f\"\\nNote that if the entire stock of an item is required, the amount value should be 'all' and 'NULL' when it is an  inquiry\" \\\n",
    "               f\"\\nENSURE that no 'NULL' should be in amount value for orders\" \\\n",
    "               f\"\\nDO NOT use an apostrophe to represent the strings\" \\\n",
    "               f\"\\nNote that the tuples MUST be in new lines:\"\n",
    "\n",
    "    def filter_requests(response_):\n",
    "        def split_words(line: str):\n",
    "            split: list[str] = []\n",
    "            for value in line.split():\n",
    "                match = re.findall(r'\\b\\w+\\b', str(value))\n",
    "                if len(match) > 0:\n",
    "                    split.append(match[0])\n",
    "            return split\n",
    "\n",
    "        def get_request_type(value: int):\n",
    "            value = int(value)\n",
    "            types = {v.value: v for k, v in vars(RequestType).items() if \"_\" not in k}\n",
    "            if value in types:\n",
    "                return types[value]\n",
    "            else:\n",
    "                raise ValueError(f\"Unknown request type '{value}'\")\n",
    "            pass\n",
    "\n",
    "        def str_combine(strings: list[str]):\n",
    "            if len(strings) > 1:\n",
    "                text = strings[0]\n",
    "                for string in strings[1:]:\n",
    "                    text += f\" {string}\"\n",
    "            elif len(strings) == 1:\n",
    "                text = strings[0]\n",
    "            else:\n",
    "                raise ValueError(f\"Cannot combine empty list of strings\")\n",
    "            return text\n",
    "\n",
    "        def get_amount(value: str):\n",
    "            if 'all' in value.lower():\n",
    "                return -1\n",
    "            elif value.isnumeric():\n",
    "                return int(value)\n",
    "            elif value.lower() in ['none', 'null']:\n",
    "                return None\n",
    "            else:\n",
    "                # raise ValueError(f\"Unknown amount value {value}\")\n",
    "                return None\n",
    "\n",
    "        # Filter the tuples from the string\n",
    "        validation_pattern_1 = r'.*\\(.*E.*\\).*'\n",
    "        validation_pattern_2 = r'.*\\[.*E.*\\].*'\n",
    "        requests_: list[str] = [line for line in response_.content.replace(\",\", \"\\t\").splitlines() if bool(re.match(validation_pattern_1, line)) or bool(re.match(validation_pattern_2, line))]\n",
    "        requests_: list[str] = [line for line in requests_ if len(line) >= 4]\n",
    "        # Filter the elements of the tuple\n",
    "        requests_: list[list[str]] = [tuple(split_words(line)) for line in requests_]\n",
    "        # Convert string tuple to an actual tuple\n",
    "        requests_: list[tuple] = [(req[0], req[1], str_combine(req[2:len(req)-2]), get_amount(req[-2]), get_request_type(req[-1])) for req in requests_]\n",
    "        # Filter the faulty tuples\n",
    "        requests_ = [req for req in requests_ if not('null' in req[2].lower() or 'none' in req[2].lower())]\n",
    "        return requests_\n",
    "\n",
    "    responses, requests = [], []\n",
    "\n",
    "    def get(text: str):\n",
    "        prompt = template + text\n",
    "        # print(prompt)\n",
    "\n",
    "        client = OpenAI(\n",
    "            base_url='https://47v4us7kyypinfb5lcligtc3x40ygqbs.lambda-url.us-east-1.on.aws/v1/',\n",
    "            api_key='a0BIj000001iX7PMAU'\n",
    "        )\n",
    "\n",
    "        completion = client.chat.completions.create(\n",
    "          model=\"gpt-4o\",\n",
    "          messages=[\n",
    "            {\"role\": \"user\", \"content\": prompt}\n",
    "          ]\n",
    "        )\n",
    "        return completion.choices[0].message\n",
    "\n",
    "    for batch in batch_process_emails(emails):\n",
    "        done = False\n",
    "        attempts_done = 0\n",
    "        response, reqs = None, None\n",
    "        while not (done or attempts_done >= max_attempts):\n",
    "            response = get(batch)\n",
    "            print(response.content)\n",
    "            reqs = filter_requests(response)\n",
    "            for req in reqs:\n",
    "                if req[-1] == RequestType.Order and not isinstance(req[-2], int):\n",
    "                    attempts_done += 1\n",
    "                    continue\n",
    "            done = True\n",
    "\n",
    "        responses.append(response)\n",
    "        requests += reqs\n",
    "\n",
    "    # Filter request types\n",
    "    inquiries = [req for req in requests if req[-1] == RequestType.Inquiry]\n",
    "    orders = [req for req in requests if req[-1] == RequestType.Order]\n",
    "\n",
    "    return responses, inquiries, orders\n",
    "\n",
    "\n",
    "inventory.requests = {}\n",
    "responses, INQUIRIES, ORDERS = classify_emails(list(EMAILS.values()))\n",
    "\n",
    "\n",
    "for r_type in [INQUIRIES, ORDERS]:\n",
    "    display(f\"-------------------\")\n",
    "    for t in r_type:\n",
    "        print(t)\n",
    "    display(f\"-------------------\")"
   ]
  },
  {
   "cell_type": "markdown",
   "metadata": {
    "id": "lm3ZeatjYjM3",
    "pycharm": {
     "name": "#%% md\n"
    }
   },
   "source": [
    "# Task 2. Process order requests"
   ]
  },
  {
   "cell_type": "code",
   "execution_count": null,
   "metadata": {
    "collapsed": false,
    "jupyter": {
     "outputs_hidden": false
    },
    "pycharm": {
     "name": "#%%\n"
    }
   },
   "outputs": [],
   "source": [
    "# Execute order\n",
    "# If you encounter 'None' error here, rerun Task 1 Cells\n",
    "for order in ORDERS:\n",
    "    email_id, product_id, product, amount, product_type = order\n",
    "    inventory.order(product_id, product, amount, EMAILS[email_id])"
   ]
  },
  {
   "cell_type": "markdown",
   "metadata": {
    "collapsed": false,
    "jupyter": {
     "outputs_hidden": false
    },
    "pycharm": {
     "name": "#%% md\n"
    }
   },
   "source": [
    "# Task 3. Handle product inquiry"
   ]
  },
  {
   "cell_type": "code",
   "execution_count": null,
   "metadata": {
    "collapsed": false,
    "jupyter": {
     "outputs_hidden": false
    },
    "pycharm": {
     "name": "#%%\n"
    }
   },
   "outputs": [],
   "source": [
    "# Execute inquiries\n",
    "for inquiry in INQUIRIES:\n",
    "    email_id, product_id, product, _, product_type = inquiry\n",
    "    inventory.inquire(product_id, product, EMAILS[email_id])"
   ]
  },
  {
   "cell_type": "markdown",
   "metadata": {
    "collapsed": false,
    "jupyter": {
     "outputs_hidden": false
    },
    "pycharm": {
     "name": "#%% md\n"
    }
   },
   "source": [
    "# DEBUGGING"
   ]
  },
  {
   "cell_type": "code",
   "execution_count": null,
   "metadata": {
    "collapsed": false,
    "jupyter": {
     "outputs_hidden": false
    },
    "pycharm": {
     "name": "#%%\n"
    }
   },
   "outputs": [],
   "source": [
    "def reply_email(request: Request):\n",
    "    # Pseudo reply to email\n",
    "    if not request.responded:\n",
    "        print(f\"For email {request.email.id} ~ #{request.id}: {request.result}\")\n",
    "        request.responded = True\n",
    "\n",
    "\n",
    "def batch_reply_email(inventory: Inventory):\n",
    "    for request in inventory.requests.values():\n",
    "        reply_email(request)"
   ]
  },
  {
   "cell_type": "code",
   "execution_count": null,
   "metadata": {
    "collapsed": false,
    "jupyter": {
     "outputs_hidden": false
    },
    "pycharm": {
     "name": "#%%\n"
    }
   },
   "outputs": [],
   "source": [
    "batch_reply_email(inventory)\n",
    "\n",
    "# RESET responses for testing purposes\n",
    "for request in inventory.requests.values():\n",
    "    request.responded = False"
   ]
  },
  {
   "cell_type": "code",
   "execution_count": 250,
   "metadata": {
    "collapsed": false,
    "jupyter": {
     "outputs_hidden": false
    },
    "pycharm": {
     "name": "#%%\n"
    }
   },
   "outputs": [
    {
     "name": "stdout",
     "output_type": "stream",
     "text": [
      "Sheet Name = products\n"
     ]
    },
    {
     "data": {
      "text/plain": "  product_id                name     category  \\\n0    RSG8901    Retro Sunglasses  Accessories   \n1    SWL2345        Sleek Wallet  Accessories   \n2    VSC6789     Versatile Scarf  Accessories   \n3    CSH1098          Cozy Shawl  Accessories   \n4    CHN0987  Chunky Knit Beanie  Accessories   \n\n                                         description  stock         seasons  \\\n0  Transport yourself back in time with our retro...    1.0  Spring, Summer   \n1  Keep your essentials organized and secure with...    5.0     All seasons   \n2  Add a touch of versatility to your wardrobe wi...    6.0    Spring, Fall   \n3  Wrap yourself in comfort with our cozy shawl. ...    3.0    Fall, Winter   \n4  Keep your head toasty with our chunky knit bea...    2.0    Fall, Winter   \n\n   price  \n0  26.99  \n1  30.00  \n2  23.00  \n3  22.00  \n4  22.00  ",
      "text/html": "<div>\n<style scoped>\n    .dataframe tbody tr th:only-of-type {\n        vertical-align: middle;\n    }\n\n    .dataframe tbody tr th {\n        vertical-align: top;\n    }\n\n    .dataframe thead th {\n        text-align: right;\n    }\n</style>\n<table border=\"1\" class=\"dataframe\">\n  <thead>\n    <tr style=\"text-align: right;\">\n      <th></th>\n      <th>product_id</th>\n      <th>name</th>\n      <th>category</th>\n      <th>description</th>\n      <th>stock</th>\n      <th>seasons</th>\n      <th>price</th>\n    </tr>\n  </thead>\n  <tbody>\n    <tr>\n      <th>0</th>\n      <td>RSG8901</td>\n      <td>Retro Sunglasses</td>\n      <td>Accessories</td>\n      <td>Transport yourself back in time with our retro...</td>\n      <td>1.0</td>\n      <td>Spring, Summer</td>\n      <td>26.99</td>\n    </tr>\n    <tr>\n      <th>1</th>\n      <td>SWL2345</td>\n      <td>Sleek Wallet</td>\n      <td>Accessories</td>\n      <td>Keep your essentials organized and secure with...</td>\n      <td>5.0</td>\n      <td>All seasons</td>\n      <td>30.00</td>\n    </tr>\n    <tr>\n      <th>2</th>\n      <td>VSC6789</td>\n      <td>Versatile Scarf</td>\n      <td>Accessories</td>\n      <td>Add a touch of versatility to your wardrobe wi...</td>\n      <td>6.0</td>\n      <td>Spring, Fall</td>\n      <td>23.00</td>\n    </tr>\n    <tr>\n      <th>3</th>\n      <td>CSH1098</td>\n      <td>Cozy Shawl</td>\n      <td>Accessories</td>\n      <td>Wrap yourself in comfort with our cozy shawl. ...</td>\n      <td>3.0</td>\n      <td>Fall, Winter</td>\n      <td>22.00</td>\n    </tr>\n    <tr>\n      <th>4</th>\n      <td>CHN0987</td>\n      <td>Chunky Knit Beanie</td>\n      <td>Accessories</td>\n      <td>Keep your head toasty with our chunky knit bea...</td>\n      <td>2.0</td>\n      <td>Fall, Winter</td>\n      <td>22.00</td>\n    </tr>\n  </tbody>\n</table>\n</div>"
     },
     "metadata": {},
     "output_type": "display_data"
    },
    {
     "name": "stdout",
     "output_type": "stream",
     "text": [
      "Sheet Name = emails\n"
     ]
    },
    {
     "data": {
      "text/plain": "  email_id                        subject  \\\n0     E001                Leather Wallets   \n1     E002    Buy Vibrant Tote with noise   \n2     E003                 Need your help   \n3     E004     Buy Infinity Scarves Order   \n4     E005  Inquiry on Cozy Shawl Details   \n\n                                             message  \n0  Hi there, I want to order all the remaining LT...  \n1  Good morning, I'm looking to buy the VBT2345 V...  \n2  Hello, I need a new bag to carry my laptop and...  \n3  Hi, I'd like to order three to four SFT1098 In...  \n4  Good day, For the CSH1098 Cozy Shawl, the desc...  ",
      "text/html": "<div>\n<style scoped>\n    .dataframe tbody tr th:only-of-type {\n        vertical-align: middle;\n    }\n\n    .dataframe tbody tr th {\n        vertical-align: top;\n    }\n\n    .dataframe thead th {\n        text-align: right;\n    }\n</style>\n<table border=\"1\" class=\"dataframe\">\n  <thead>\n    <tr style=\"text-align: right;\">\n      <th></th>\n      <th>email_id</th>\n      <th>subject</th>\n      <th>message</th>\n    </tr>\n  </thead>\n  <tbody>\n    <tr>\n      <th>0</th>\n      <td>E001</td>\n      <td>Leather Wallets</td>\n      <td>Hi there, I want to order all the remaining LT...</td>\n    </tr>\n    <tr>\n      <th>1</th>\n      <td>E002</td>\n      <td>Buy Vibrant Tote with noise</td>\n      <td>Good morning, I'm looking to buy the VBT2345 V...</td>\n    </tr>\n    <tr>\n      <th>2</th>\n      <td>E003</td>\n      <td>Need your help</td>\n      <td>Hello, I need a new bag to carry my laptop and...</td>\n    </tr>\n    <tr>\n      <th>3</th>\n      <td>E004</td>\n      <td>Buy Infinity Scarves Order</td>\n      <td>Hi, I'd like to order three to four SFT1098 In...</td>\n    </tr>\n    <tr>\n      <th>4</th>\n      <td>E005</td>\n      <td>Inquiry on Cozy Shawl Details</td>\n      <td>Good day, For the CSH1098 Cozy Shawl, the desc...</td>\n    </tr>\n  </tbody>\n</table>\n</div>"
     },
     "metadata": {},
     "output_type": "display_data"
    },
    {
     "name": "stdout",
     "output_type": "stream",
     "text": [
      "Sheet Name = email-classification\n"
     ]
    },
    {
     "data": {
      "text/plain": "  Request ID Email ID Category\n0        RQ0     E001    Order\n1        RQ1     E002    Order\n2        RQ2     E004    Order\n3        RQ3     E007    Order\n4        RQ4     E007    Order",
      "text/html": "<div>\n<style scoped>\n    .dataframe tbody tr th:only-of-type {\n        vertical-align: middle;\n    }\n\n    .dataframe tbody tr th {\n        vertical-align: top;\n    }\n\n    .dataframe thead th {\n        text-align: right;\n    }\n</style>\n<table border=\"1\" class=\"dataframe\">\n  <thead>\n    <tr style=\"text-align: right;\">\n      <th></th>\n      <th>Request ID</th>\n      <th>Email ID</th>\n      <th>Category</th>\n    </tr>\n  </thead>\n  <tbody>\n    <tr>\n      <th>0</th>\n      <td>RQ0</td>\n      <td>E001</td>\n      <td>Order</td>\n    </tr>\n    <tr>\n      <th>1</th>\n      <td>RQ1</td>\n      <td>E002</td>\n      <td>Order</td>\n    </tr>\n    <tr>\n      <th>2</th>\n      <td>RQ2</td>\n      <td>E004</td>\n      <td>Order</td>\n    </tr>\n    <tr>\n      <th>3</th>\n      <td>RQ3</td>\n      <td>E007</td>\n      <td>Order</td>\n    </tr>\n    <tr>\n      <th>4</th>\n      <td>RQ4</td>\n      <td>E007</td>\n      <td>Order</td>\n    </tr>\n  </tbody>\n</table>\n</div>"
     },
     "metadata": {},
     "output_type": "display_data"
    },
    {
     "name": "stdout",
     "output_type": "stream",
     "text": [
      "Sheet Name = order-status\n"
     ]
    },
    {
     "data": {
      "text/plain": "  Request ID Email ID Product ID  Quantity        Status\n0        RQ0     E001    LTH0976        -1     Completed\n1        RQ1     E002    VBT2345         1     Completed\n2        RQ2     E004    SFT1098         4     Completed\n3        RQ3     E007    CLF2109         5  Out of Stock\n4        RQ4     E007    FZZ1098         2     Completed",
      "text/html": "<div>\n<style scoped>\n    .dataframe tbody tr th:only-of-type {\n        vertical-align: middle;\n    }\n\n    .dataframe tbody tr th {\n        vertical-align: top;\n    }\n\n    .dataframe thead th {\n        text-align: right;\n    }\n</style>\n<table border=\"1\" class=\"dataframe\">\n  <thead>\n    <tr style=\"text-align: right;\">\n      <th></th>\n      <th>Request ID</th>\n      <th>Email ID</th>\n      <th>Product ID</th>\n      <th>Quantity</th>\n      <th>Status</th>\n    </tr>\n  </thead>\n  <tbody>\n    <tr>\n      <th>0</th>\n      <td>RQ0</td>\n      <td>E001</td>\n      <td>LTH0976</td>\n      <td>-1</td>\n      <td>Completed</td>\n    </tr>\n    <tr>\n      <th>1</th>\n      <td>RQ1</td>\n      <td>E002</td>\n      <td>VBT2345</td>\n      <td>1</td>\n      <td>Completed</td>\n    </tr>\n    <tr>\n      <th>2</th>\n      <td>RQ2</td>\n      <td>E004</td>\n      <td>SFT1098</td>\n      <td>4</td>\n      <td>Completed</td>\n    </tr>\n    <tr>\n      <th>3</th>\n      <td>RQ3</td>\n      <td>E007</td>\n      <td>CLF2109</td>\n      <td>5</td>\n      <td>Out of Stock</td>\n    </tr>\n    <tr>\n      <th>4</th>\n      <td>RQ4</td>\n      <td>E007</td>\n      <td>FZZ1098</td>\n      <td>2</td>\n      <td>Completed</td>\n    </tr>\n  </tbody>\n</table>\n</div>"
     },
     "metadata": {},
     "output_type": "display_data"
    },
    {
     "name": "stdout",
     "output_type": "stream",
     "text": [
      "Sheet Name = order-response\n"
     ]
    },
    {
     "data": {
      "text/plain": "  Request ID Email ID                                           Response\n0        RQ0     E001  Successfully ordered 4 of Leather Bifold Walle...\n1        RQ1     E002  Successfully ordered 1 of Vibrant Tote(#VBT234...\n2        RQ2     E004  Successfully ordered 4 of Infinity Scarf(#SFT1...\n3        RQ3     E007  Not enough stock to fill order of Cable Knit B...\n4        RQ4     E007  Successfully ordered 2 of Fuzzy Slippers(#FZZ1...",
      "text/html": "<div>\n<style scoped>\n    .dataframe tbody tr th:only-of-type {\n        vertical-align: middle;\n    }\n\n    .dataframe tbody tr th {\n        vertical-align: top;\n    }\n\n    .dataframe thead th {\n        text-align: right;\n    }\n</style>\n<table border=\"1\" class=\"dataframe\">\n  <thead>\n    <tr style=\"text-align: right;\">\n      <th></th>\n      <th>Request ID</th>\n      <th>Email ID</th>\n      <th>Response</th>\n    </tr>\n  </thead>\n  <tbody>\n    <tr>\n      <th>0</th>\n      <td>RQ0</td>\n      <td>E001</td>\n      <td>Successfully ordered 4 of Leather Bifold Walle...</td>\n    </tr>\n    <tr>\n      <th>1</th>\n      <td>RQ1</td>\n      <td>E002</td>\n      <td>Successfully ordered 1 of Vibrant Tote(#VBT234...</td>\n    </tr>\n    <tr>\n      <th>2</th>\n      <td>RQ2</td>\n      <td>E004</td>\n      <td>Successfully ordered 4 of Infinity Scarf(#SFT1...</td>\n    </tr>\n    <tr>\n      <th>3</th>\n      <td>RQ3</td>\n      <td>E007</td>\n      <td>Not enough stock to fill order of Cable Knit B...</td>\n    </tr>\n    <tr>\n      <th>4</th>\n      <td>RQ4</td>\n      <td>E007</td>\n      <td>Successfully ordered 2 of Fuzzy Slippers(#FZZ1...</td>\n    </tr>\n  </tbody>\n</table>\n</div>"
     },
     "metadata": {},
     "output_type": "display_data"
    },
    {
     "name": "stdout",
     "output_type": "stream",
     "text": [
      "Sheet Name = inquiry-response\n"
     ]
    },
    {
     "data": {
      "text/plain": "  Request ID Email ID                                           Response\n0       RQ11     E003  'Leather Backpack'(#LTH1098): Upgrade your dai...\n1       RQ12     E003  'Leather Tote'(#LTH5432): Elevate your everyda...\n2       RQ13     E005  'Cozy Shawl'(#CSH1098): Wrap yourself in comfo...\n3       RQ14     E006  'Chelsea Boots'(#CBT8901): Elevate your casual...\n4       RQ15     E009  'Chunky Knit Beanie'(#CHN0987): Keep your head...",
      "text/html": "<div>\n<style scoped>\n    .dataframe tbody tr th:only-of-type {\n        vertical-align: middle;\n    }\n\n    .dataframe tbody tr th {\n        vertical-align: top;\n    }\n\n    .dataframe thead th {\n        text-align: right;\n    }\n</style>\n<table border=\"1\" class=\"dataframe\">\n  <thead>\n    <tr style=\"text-align: right;\">\n      <th></th>\n      <th>Request ID</th>\n      <th>Email ID</th>\n      <th>Response</th>\n    </tr>\n  </thead>\n  <tbody>\n    <tr>\n      <th>0</th>\n      <td>RQ11</td>\n      <td>E003</td>\n      <td>'Leather Backpack'(#LTH1098): Upgrade your dai...</td>\n    </tr>\n    <tr>\n      <th>1</th>\n      <td>RQ12</td>\n      <td>E003</td>\n      <td>'Leather Tote'(#LTH5432): Elevate your everyda...</td>\n    </tr>\n    <tr>\n      <th>2</th>\n      <td>RQ13</td>\n      <td>E005</td>\n      <td>'Cozy Shawl'(#CSH1098): Wrap yourself in comfo...</td>\n    </tr>\n    <tr>\n      <th>3</th>\n      <td>RQ14</td>\n      <td>E006</td>\n      <td>'Chelsea Boots'(#CBT8901): Elevate your casual...</td>\n    </tr>\n    <tr>\n      <th>4</th>\n      <td>RQ15</td>\n      <td>E009</td>\n      <td>'Chunky Knit Beanie'(#CHN0987): Keep your head...</td>\n    </tr>\n  </tbody>\n</table>\n</div>"
     },
     "metadata": {},
     "output_type": "display_data"
    }
   ],
   "source": [
    "for df_name, df in spreadsheet.as_dataframe().items():\n",
    "    print(f\"Sheet Name = {df_name}\")\n",
    "    display(df.head())"
   ]
  },
  {
   "cell_type": "code",
   "execution_count": null,
   "metadata": {
    "collapsed": false,
    "jupyter": {
     "outputs_hidden": false
    },
    "pycharm": {
     "name": "#%%\n"
    }
   },
   "outputs": [],
   "source": []
  }
 ],
 "metadata": {
  "colab": {
   "provenance": [
    {
     "file_id": "1MH0-btlh2iKODb_Go9yMBeVYPWq9imQR",
     "timestamp": 1727774774486
    }
   ]
  },
  "kernelspec": {
   "display_name": "Python 3 (ipykernel)",
   "language": "python",
   "name": "python3"
  },
  "language_info": {
   "codemirror_mode": {
    "name": "ipython",
    "version": 3
   },
   "file_extension": ".py",
   "mimetype": "text/x-python",
   "name": "python",
   "nbconvert_exporter": "python",
   "pygments_lexer": "ipython3",
   "version": "3.11.9"
  }
 },
 "nbformat": 4,
 "nbformat_minor": 4
}