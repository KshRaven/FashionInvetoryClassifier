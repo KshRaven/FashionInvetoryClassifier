{
 "cells": [
  {
   "cell_type": "code",
   "execution_count": 25,
   "metadata": {
    "collapsed": true,
    "pycharm": {
     "name": "#%%\n"
    }
   },
   "outputs": [],
   "source": [
    "import pandas as pd\n",
    "import os"
   ]
  },
  {
   "cell_type": "code",
   "execution_count": 26,
   "outputs": [
    {
     "data": {
      "text/plain": "'D:\\\\Python Projects\\\\FashionInvetoryClassifier'"
     },
     "execution_count": 26,
     "metadata": {},
     "output_type": "execute_result"
    }
   ],
   "source": [
    "PROJECT_PATH = os.path.dirname(os.getcwd())\n",
    "PROJECT_PATH"
   ],
   "metadata": {
    "collapsed": false,
    "pycharm": {
     "name": "#%%\n"
    }
   }
  },
  {
   "cell_type": "code",
   "execution_count": 31,
   "outputs": [],
   "source": [
    "product_data = pd.DataFrame(pd.read_excel(f\"{PROJECT_PATH}\\\\source.xlsx\", sheet_name=\"products\"))\n",
    "email_data = pd.DataFrame(pd.read_excel(f\"{PROJECT_PATH}\\\\source.xlsx\", sheet_name=\"emails\"))"
   ],
   "metadata": {
    "collapsed": false,
    "pycharm": {
     "name": "#%%\n"
    }
   }
  },
  {
   "cell_type": "code",
   "execution_count": 33,
   "outputs": [
    {
     "data": {
      "text/plain": "   product_id                name       category  \\\n0     RSG8901    Retro Sunglasses    Accessories   \n1     SWL2345        Sleek Wallet    Accessories   \n2     VSC6789     Versatile Scarf    Accessories   \n3     CSH1098          Cozy Shawl    Accessories   \n4     CHN0987  Chunky Knit Beanie    Accessories   \n..        ...                 ...            ...   \n94    SND7654     Strappy Sandals  Women's Shoes   \n95    CHK8901     Chunky Sneakers  Women's Shoes   \n96    MLR0123        Mule Loafers  Women's Shoes   \n97    CLG4567        Clog Sandals  Women's Shoes   \n98    SNB4321          Snow Boots  Women's Shoes   \n\n                                          description  stock         seasons  \\\n0   Transport yourself back in time with our retro...      1  Spring, Summer   \n1   Keep your essentials organized and secure with...      5     All seasons   \n2   Add a touch of versatility to your wardrobe wi...      6    Spring, Fall   \n3   Wrap yourself in comfort with our cozy shawl. ...      3    Fall, Winter   \n4   Keep your head toasty with our chunky knit bea...      2    Fall, Winter   \n..                                                ...    ...             ...   \n94  Step into summer with our strappy sandals. The...      8  Spring, Summer   \n95  Step into trendy style with our chunky sneaker...      1    Spring, Fall   \n96  Slip into effortless style with our mule loafe...      2    Spring, Fall   \n97  Step into retro-inspired style with our clog s...      3  Spring, Summer   \n98  Brave the elements in our durable snow boots. ...      5          Winter   \n\n    price  \n0   26.99  \n1   30.00  \n2   23.00  \n3   22.00  \n4   22.00  \n..    ...  \n94  27.00  \n95  42.00  \n96  47.00  \n97  48.00  \n98  41.00  \n\n[99 rows x 7 columns]",
      "text/html": "<div>\n<style scoped>\n    .dataframe tbody tr th:only-of-type {\n        vertical-align: middle;\n    }\n\n    .dataframe tbody tr th {\n        vertical-align: top;\n    }\n\n    .dataframe thead th {\n        text-align: right;\n    }\n</style>\n<table border=\"1\" class=\"dataframe\">\n  <thead>\n    <tr style=\"text-align: right;\">\n      <th></th>\n      <th>product_id</th>\n      <th>name</th>\n      <th>category</th>\n      <th>description</th>\n      <th>stock</th>\n      <th>seasons</th>\n      <th>price</th>\n    </tr>\n  </thead>\n  <tbody>\n    <tr>\n      <th>0</th>\n      <td>RSG8901</td>\n      <td>Retro Sunglasses</td>\n      <td>Accessories</td>\n      <td>Transport yourself back in time with our retro...</td>\n      <td>1</td>\n      <td>Spring, Summer</td>\n      <td>26.99</td>\n    </tr>\n    <tr>\n      <th>1</th>\n      <td>SWL2345</td>\n      <td>Sleek Wallet</td>\n      <td>Accessories</td>\n      <td>Keep your essentials organized and secure with...</td>\n      <td>5</td>\n      <td>All seasons</td>\n      <td>30.00</td>\n    </tr>\n    <tr>\n      <th>2</th>\n      <td>VSC6789</td>\n      <td>Versatile Scarf</td>\n      <td>Accessories</td>\n      <td>Add a touch of versatility to your wardrobe wi...</td>\n      <td>6</td>\n      <td>Spring, Fall</td>\n      <td>23.00</td>\n    </tr>\n    <tr>\n      <th>3</th>\n      <td>CSH1098</td>\n      <td>Cozy Shawl</td>\n      <td>Accessories</td>\n      <td>Wrap yourself in comfort with our cozy shawl. ...</td>\n      <td>3</td>\n      <td>Fall, Winter</td>\n      <td>22.00</td>\n    </tr>\n    <tr>\n      <th>4</th>\n      <td>CHN0987</td>\n      <td>Chunky Knit Beanie</td>\n      <td>Accessories</td>\n      <td>Keep your head toasty with our chunky knit bea...</td>\n      <td>2</td>\n      <td>Fall, Winter</td>\n      <td>22.00</td>\n    </tr>\n    <tr>\n      <th>...</th>\n      <td>...</td>\n      <td>...</td>\n      <td>...</td>\n      <td>...</td>\n      <td>...</td>\n      <td>...</td>\n      <td>...</td>\n    </tr>\n    <tr>\n      <th>94</th>\n      <td>SND7654</td>\n      <td>Strappy Sandals</td>\n      <td>Women's Shoes</td>\n      <td>Step into summer with our strappy sandals. The...</td>\n      <td>8</td>\n      <td>Spring, Summer</td>\n      <td>27.00</td>\n    </tr>\n    <tr>\n      <th>95</th>\n      <td>CHK8901</td>\n      <td>Chunky Sneakers</td>\n      <td>Women's Shoes</td>\n      <td>Step into trendy style with our chunky sneaker...</td>\n      <td>1</td>\n      <td>Spring, Fall</td>\n      <td>42.00</td>\n    </tr>\n    <tr>\n      <th>96</th>\n      <td>MLR0123</td>\n      <td>Mule Loafers</td>\n      <td>Women's Shoes</td>\n      <td>Slip into effortless style with our mule loafe...</td>\n      <td>2</td>\n      <td>Spring, Fall</td>\n      <td>47.00</td>\n    </tr>\n    <tr>\n      <th>97</th>\n      <td>CLG4567</td>\n      <td>Clog Sandals</td>\n      <td>Women's Shoes</td>\n      <td>Step into retro-inspired style with our clog s...</td>\n      <td>3</td>\n      <td>Spring, Summer</td>\n      <td>48.00</td>\n    </tr>\n    <tr>\n      <th>98</th>\n      <td>SNB4321</td>\n      <td>Snow Boots</td>\n      <td>Women's Shoes</td>\n      <td>Brave the elements in our durable snow boots. ...</td>\n      <td>5</td>\n      <td>Winter</td>\n      <td>41.00</td>\n    </tr>\n  </tbody>\n</table>\n<p>99 rows × 7 columns</p>\n</div>"
     },
     "execution_count": 33,
     "metadata": {},
     "output_type": "execute_result"
    }
   ],
   "source": [
    "product_data"
   ],
   "metadata": {
    "collapsed": false,
    "pycharm": {
     "name": "#%%\n"
    }
   }
  },
  {
   "cell_type": "code",
   "execution_count": 34,
   "outputs": [
    {
     "data": {
      "text/plain": "   email_id                                         subject  \\\n0      E001                                 Leather Wallets   \n1      E002                     Buy Vibrant Tote with noise   \n2      E003                                  Need your help   \n3      E004                      Buy Infinity Scarves Order   \n4      E005                   Inquiry on Cozy Shawl Details   \n5      E006                                             NaN   \n6      E007                     Order for Beanies, Slippers   \n7      E008            Ordering a Versatile Scarf-like item   \n8      E009            Pregunta Sobre Gorro de Punto Grueso   \n9      E010                       Purchase Retro Sunglasses   \n10     E011        Question on Retro Sunglasses Description   \n11     E012                   Rambling About a New Work Bag   \n12     E013                      Shopping for Men's Sandals   \n13     E014                              Sleek Wallet Order   \n14     E015  Stylish Yet Practical Men's Bag Recommendation   \n15     E016          Summer Wedding Guest Dress Preferences   \n16     E017                                             NaN   \n17     E018                                             NaN   \n18     E019                                              Hi   \n19     E020                                     Price check   \n20     E021                                             NaN   \n\n                                              message  \n0   Hi there, I want to order all the remaining LT...  \n1   Good morning, I'm looking to buy the VBT2345 V...  \n2   Hello, I need a new bag to carry my laptop and...  \n3   Hi, I'd like to order three to four SFT1098 In...  \n4   Good day, For the CSH1098 Cozy Shawl, the desc...  \n5   Hey there, I was thinking of ordering a pair o...  \n6   Hi, this is Liz. Please send me 5 CLF2109 Cabl...  \n7   Hello, I'd want to order one of your Versatile...  \n8   Hola, tengo una pregunta sobre el DHN0987 Gorr...  \n9   Hello, I would like to order 1 pair of RSG8901...  \n10  Hi there, The description for the RSG8901 Retr...  \n11  Hey, hope you're doing well. Last year for my ...  \n12  Hi, my name is Marco and I need to buy a pair ...  \n13       Please send me 1 Sleek Wallet. Thanks, Johny  \n14  Good morning, I'm looking for a nice bag for m...  \n15  Hello, I'm looking for a dress for a summer we...  \n16  Hi there I want to place an order for that pop...  \n17  Hello I'd like to buy 2 pairs of the retro sun...  \n18  Hey there, I would like to buy Chelsea Boots [...  \n19  Hello I'd like to know how much does Saddle ba...  \n20  So I've bought quite large collection of vinta...  ",
      "text/html": "<div>\n<style scoped>\n    .dataframe tbody tr th:only-of-type {\n        vertical-align: middle;\n    }\n\n    .dataframe tbody tr th {\n        vertical-align: top;\n    }\n\n    .dataframe thead th {\n        text-align: right;\n    }\n</style>\n<table border=\"1\" class=\"dataframe\">\n  <thead>\n    <tr style=\"text-align: right;\">\n      <th></th>\n      <th>email_id</th>\n      <th>subject</th>\n      <th>message</th>\n    </tr>\n  </thead>\n  <tbody>\n    <tr>\n      <th>0</th>\n      <td>E001</td>\n      <td>Leather Wallets</td>\n      <td>Hi there, I want to order all the remaining LT...</td>\n    </tr>\n    <tr>\n      <th>1</th>\n      <td>E002</td>\n      <td>Buy Vibrant Tote with noise</td>\n      <td>Good morning, I'm looking to buy the VBT2345 V...</td>\n    </tr>\n    <tr>\n      <th>2</th>\n      <td>E003</td>\n      <td>Need your help</td>\n      <td>Hello, I need a new bag to carry my laptop and...</td>\n    </tr>\n    <tr>\n      <th>3</th>\n      <td>E004</td>\n      <td>Buy Infinity Scarves Order</td>\n      <td>Hi, I'd like to order three to four SFT1098 In...</td>\n    </tr>\n    <tr>\n      <th>4</th>\n      <td>E005</td>\n      <td>Inquiry on Cozy Shawl Details</td>\n      <td>Good day, For the CSH1098 Cozy Shawl, the desc...</td>\n    </tr>\n    <tr>\n      <th>5</th>\n      <td>E006</td>\n      <td>NaN</td>\n      <td>Hey there, I was thinking of ordering a pair o...</td>\n    </tr>\n    <tr>\n      <th>6</th>\n      <td>E007</td>\n      <td>Order for Beanies, Slippers</td>\n      <td>Hi, this is Liz. Please send me 5 CLF2109 Cabl...</td>\n    </tr>\n    <tr>\n      <th>7</th>\n      <td>E008</td>\n      <td>Ordering a Versatile Scarf-like item</td>\n      <td>Hello, I'd want to order one of your Versatile...</td>\n    </tr>\n    <tr>\n      <th>8</th>\n      <td>E009</td>\n      <td>Pregunta Sobre Gorro de Punto Grueso</td>\n      <td>Hola, tengo una pregunta sobre el DHN0987 Gorr...</td>\n    </tr>\n    <tr>\n      <th>9</th>\n      <td>E010</td>\n      <td>Purchase Retro Sunglasses</td>\n      <td>Hello, I would like to order 1 pair of RSG8901...</td>\n    </tr>\n    <tr>\n      <th>10</th>\n      <td>E011</td>\n      <td>Question on Retro Sunglasses Description</td>\n      <td>Hi there, The description for the RSG8901 Retr...</td>\n    </tr>\n    <tr>\n      <th>11</th>\n      <td>E012</td>\n      <td>Rambling About a New Work Bag</td>\n      <td>Hey, hope you're doing well. Last year for my ...</td>\n    </tr>\n    <tr>\n      <th>12</th>\n      <td>E013</td>\n      <td>Shopping for Men's Sandals</td>\n      <td>Hi, my name is Marco and I need to buy a pair ...</td>\n    </tr>\n    <tr>\n      <th>13</th>\n      <td>E014</td>\n      <td>Sleek Wallet Order</td>\n      <td>Please send me 1 Sleek Wallet. Thanks, Johny</td>\n    </tr>\n    <tr>\n      <th>14</th>\n      <td>E015</td>\n      <td>Stylish Yet Practical Men's Bag Recommendation</td>\n      <td>Good morning, I'm looking for a nice bag for m...</td>\n    </tr>\n    <tr>\n      <th>15</th>\n      <td>E016</td>\n      <td>Summer Wedding Guest Dress Preferences</td>\n      <td>Hello, I'm looking for a dress for a summer we...</td>\n    </tr>\n    <tr>\n      <th>16</th>\n      <td>E017</td>\n      <td>NaN</td>\n      <td>Hi there I want to place an order for that pop...</td>\n    </tr>\n    <tr>\n      <th>17</th>\n      <td>E018</td>\n      <td>NaN</td>\n      <td>Hello I'd like to buy 2 pairs of the retro sun...</td>\n    </tr>\n    <tr>\n      <th>18</th>\n      <td>E019</td>\n      <td>Hi</td>\n      <td>Hey there, I would like to buy Chelsea Boots [...</td>\n    </tr>\n    <tr>\n      <th>19</th>\n      <td>E020</td>\n      <td>Price check</td>\n      <td>Hello I'd like to know how much does Saddle ba...</td>\n    </tr>\n    <tr>\n      <th>20</th>\n      <td>E021</td>\n      <td>NaN</td>\n      <td>So I've bought quite large collection of vinta...</td>\n    </tr>\n  </tbody>\n</table>\n</div>"
     },
     "execution_count": 34,
     "metadata": {},
     "output_type": "execute_result"
    }
   ],
   "source": [
    "email_data"
   ],
   "metadata": {
    "collapsed": false,
    "pycharm": {
     "name": "#%%\n"
    }
   }
  },
  {
   "cell_type": "code",
   "execution_count": null,
   "outputs": [],
   "source": [],
   "metadata": {
    "collapsed": false,
    "pycharm": {
     "name": "#%%\n"
    }
   }
  }
 ],
 "metadata": {
  "kernelspec": {
   "display_name": "Python 3",
   "language": "python",
   "name": "python3"
  },
  "language_info": {
   "codemirror_mode": {
    "name": "ipython",
    "version": 2
   },
   "file_extension": ".py",
   "mimetype": "text/x-python",
   "name": "python",
   "nbconvert_exporter": "python",
   "pygments_lexer": "ipython2",
   "version": "2.7.6"
  }
 },
 "nbformat": 4,
 "nbformat_minor": 0
}